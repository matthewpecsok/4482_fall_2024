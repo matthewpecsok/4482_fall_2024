{
  "nbformat": 4,
  "nbformat_minor": 0,
  "metadata": {
    "colab": {
      "provenance": [],
      "toc_visible": true,
      "authorship_tag": "ABX9TyOivLLzC5js6cgJd5zyXnaz",
      "include_colab_link": true
    },
    "kernelspec": {
      "name": "python3",
      "display_name": "Python 3"
    },
    "language_info": {
      "name": "python"
    }
  },
  "cells": [
    {
      "cell_type": "markdown",
      "metadata": {
        "id": "view-in-github",
        "colab_type": "text"
      },
      "source": [
        "<a href=\"https://colab.research.google.com/github/matthewpecsok/4482_fall_2022/blob/main/labs/quiz_7_ethical_ai.ipynb\" target=\"_parent\"><img src=\"https://colab.research.google.com/assets/colab-badge.svg\" alt=\"Open In Colab\"/></a>"
      ]
    },
    {
      "cell_type": "markdown",
      "source": [
        "# Import Packages"
      ],
      "metadata": {
        "id": "P7sSGJmKJrAB"
      }
    },
    {
      "cell_type": "code",
      "execution_count": 1,
      "metadata": {
        "id": "Q5bSUUKVZqGQ"
      },
      "outputs": [],
      "source": [
        "## Load packages \n",
        "\n",
        "import pandas as pd\n",
        "import numpy as np\n",
        "import sklearn\n",
        "from sklearn import tree\n",
        "from sklearn import metrics\n",
        "from sklearn.metrics import confusion_matrix\n",
        "from sklearn.model_selection import train_test_split\n",
        "\n",
        "import matplotlib.pyplot as plt\n",
        "\n",
        "from sklearn.model_selection import cross_validate"
      ]
    },
    {
      "cell_type": "markdown",
      "source": [
        "# Import Data"
      ],
      "metadata": {
        "id": "xblqjnC_Jtru"
      }
    },
    {
      "cell_type": "code",
      "source": [
        "# read_csv has some defaults, we can just take the defaults here, but be aware they exist. \n",
        "titanic_raw = pd.read_csv(\"https://raw.githubusercontent.com/matthewpecsok/4482_fall_2022/main/data/titanic_cleaned.csv\")\n",
        "titanic = titanic_raw.copy()\n",
        "\n",
        "# raw is the original unedited version of our data which can be useful for inspecting changes we've made \n",
        "# compared to the original unedited data"
      ],
      "metadata": {
        "id": "mEpjkqL-aAL0"
      },
      "execution_count": 2,
      "outputs": []
    },
    {
      "cell_type": "markdown",
      "source": [
        "# EDA"
      ],
      "metadata": {
        "id": "_mr1YqeZJvSb"
      }
    },
    {
      "cell_type": "markdown",
      "source": [
        "## Gender Analysis"
      ],
      "metadata": {
        "id": "bbAwbe7tJwcI"
      }
    },
    {
      "cell_type": "code",
      "source": [
        "titanic_raw.Sex.value_counts(normalize=False)"
      ],
      "metadata": {
        "id": "5WOj66klaaMC",
        "colab": {
          "base_uri": "https://localhost:8080/"
        },
        "outputId": "7b75ae96-72a6-49e6-c479-12af3788ba73"
      },
      "execution_count": 3,
      "outputs": [
        {
          "output_type": "execute_result",
          "data": {
            "text/plain": [
              "male      453\n",
              "female    261\n",
              "Name: Sex, dtype: int64"
            ]
          },
          "metadata": {},
          "execution_count": 3
        }
      ]
    },
    {
      "cell_type": "code",
      "source": [
        "titanic_raw.Sex.value_counts(normalize=True)"
      ],
      "metadata": {
        "id": "Tfqtzat1aVZR",
        "colab": {
          "base_uri": "https://localhost:8080/"
        },
        "outputId": "440f0181-51da-44df-f8c4-431231270553"
      },
      "execution_count": 4,
      "outputs": [
        {
          "output_type": "execute_result",
          "data": {
            "text/plain": [
              "male      0.634454\n",
              "female    0.365546\n",
              "Name: Sex, dtype: float64"
            ]
          },
          "metadata": {},
          "execution_count": 4
        }
      ]
    },
    {
      "cell_type": "code",
      "source": [
        "ct = pd.crosstab(titanic_raw['Sex'], titanic_raw['Survived'])\n",
        "ct.div(ct.sum(axis=1), axis=0)"
      ],
      "metadata": {
        "id": "YPL0vOyxaBoY",
        "colab": {
          "base_uri": "https://localhost:8080/",
          "height": 143
        },
        "outputId": "13e15c42-8391-4cd9-f13c-3217c2b4b12e"
      },
      "execution_count": 5,
      "outputs": [
        {
          "output_type": "execute_result",
          "data": {
            "text/plain": [
              "Survived         0         1\n",
              "Sex                         \n",
              "female    0.245211  0.754789\n",
              "male      0.794702  0.205298"
            ],
            "text/html": [
              "\n",
              "  <div id=\"df-81ed8f76-6f24-4ad6-90fd-b99d96e0a454\">\n",
              "    <div class=\"colab-df-container\">\n",
              "      <div>\n",
              "<style scoped>\n",
              "    .dataframe tbody tr th:only-of-type {\n",
              "        vertical-align: middle;\n",
              "    }\n",
              "\n",
              "    .dataframe tbody tr th {\n",
              "        vertical-align: top;\n",
              "    }\n",
              "\n",
              "    .dataframe thead th {\n",
              "        text-align: right;\n",
              "    }\n",
              "</style>\n",
              "<table border=\"1\" class=\"dataframe\">\n",
              "  <thead>\n",
              "    <tr style=\"text-align: right;\">\n",
              "      <th>Survived</th>\n",
              "      <th>0</th>\n",
              "      <th>1</th>\n",
              "    </tr>\n",
              "    <tr>\n",
              "      <th>Sex</th>\n",
              "      <th></th>\n",
              "      <th></th>\n",
              "    </tr>\n",
              "  </thead>\n",
              "  <tbody>\n",
              "    <tr>\n",
              "      <th>female</th>\n",
              "      <td>0.245211</td>\n",
              "      <td>0.754789</td>\n",
              "    </tr>\n",
              "    <tr>\n",
              "      <th>male</th>\n",
              "      <td>0.794702</td>\n",
              "      <td>0.205298</td>\n",
              "    </tr>\n",
              "  </tbody>\n",
              "</table>\n",
              "</div>\n",
              "      <button class=\"colab-df-convert\" onclick=\"convertToInteractive('df-81ed8f76-6f24-4ad6-90fd-b99d96e0a454')\"\n",
              "              title=\"Convert this dataframe to an interactive table.\"\n",
              "              style=\"display:none;\">\n",
              "        \n",
              "  <svg xmlns=\"http://www.w3.org/2000/svg\" height=\"24px\"viewBox=\"0 0 24 24\"\n",
              "       width=\"24px\">\n",
              "    <path d=\"M0 0h24v24H0V0z\" fill=\"none\"/>\n",
              "    <path d=\"M18.56 5.44l.94 2.06.94-2.06 2.06-.94-2.06-.94-.94-2.06-.94 2.06-2.06.94zm-11 1L8.5 8.5l.94-2.06 2.06-.94-2.06-.94L8.5 2.5l-.94 2.06-2.06.94zm10 10l.94 2.06.94-2.06 2.06-.94-2.06-.94-.94-2.06-.94 2.06-2.06.94z\"/><path d=\"M17.41 7.96l-1.37-1.37c-.4-.4-.92-.59-1.43-.59-.52 0-1.04.2-1.43.59L10.3 9.45l-7.72 7.72c-.78.78-.78 2.05 0 2.83L4 21.41c.39.39.9.59 1.41.59.51 0 1.02-.2 1.41-.59l7.78-7.78 2.81-2.81c.8-.78.8-2.07 0-2.86zM5.41 20L4 18.59l7.72-7.72 1.47 1.35L5.41 20z\"/>\n",
              "  </svg>\n",
              "      </button>\n",
              "      \n",
              "  <style>\n",
              "    .colab-df-container {\n",
              "      display:flex;\n",
              "      flex-wrap:wrap;\n",
              "      gap: 12px;\n",
              "    }\n",
              "\n",
              "    .colab-df-convert {\n",
              "      background-color: #E8F0FE;\n",
              "      border: none;\n",
              "      border-radius: 50%;\n",
              "      cursor: pointer;\n",
              "      display: none;\n",
              "      fill: #1967D2;\n",
              "      height: 32px;\n",
              "      padding: 0 0 0 0;\n",
              "      width: 32px;\n",
              "    }\n",
              "\n",
              "    .colab-df-convert:hover {\n",
              "      background-color: #E2EBFA;\n",
              "      box-shadow: 0px 1px 2px rgba(60, 64, 67, 0.3), 0px 1px 3px 1px rgba(60, 64, 67, 0.15);\n",
              "      fill: #174EA6;\n",
              "    }\n",
              "\n",
              "    [theme=dark] .colab-df-convert {\n",
              "      background-color: #3B4455;\n",
              "      fill: #D2E3FC;\n",
              "    }\n",
              "\n",
              "    [theme=dark] .colab-df-convert:hover {\n",
              "      background-color: #434B5C;\n",
              "      box-shadow: 0px 1px 3px 1px rgba(0, 0, 0, 0.15);\n",
              "      filter: drop-shadow(0px 1px 2px rgba(0, 0, 0, 0.3));\n",
              "      fill: #FFFFFF;\n",
              "    }\n",
              "  </style>\n",
              "\n",
              "      <script>\n",
              "        const buttonEl =\n",
              "          document.querySelector('#df-81ed8f76-6f24-4ad6-90fd-b99d96e0a454 button.colab-df-convert');\n",
              "        buttonEl.style.display =\n",
              "          google.colab.kernel.accessAllowed ? 'block' : 'none';\n",
              "\n",
              "        async function convertToInteractive(key) {\n",
              "          const element = document.querySelector('#df-81ed8f76-6f24-4ad6-90fd-b99d96e0a454');\n",
              "          const dataTable =\n",
              "            await google.colab.kernel.invokeFunction('convertToInteractive',\n",
              "                                                     [key], {});\n",
              "          if (!dataTable) return;\n",
              "\n",
              "          const docLinkHtml = 'Like what you see? Visit the ' +\n",
              "            '<a target=\"_blank\" href=https://colab.research.google.com/notebooks/data_table.ipynb>data table notebook</a>'\n",
              "            + ' to learn more about interactive tables.';\n",
              "          element.innerHTML = '';\n",
              "          dataTable['output_type'] = 'display_data';\n",
              "          await google.colab.output.renderOutput(dataTable, element);\n",
              "          const docLink = document.createElement('div');\n",
              "          docLink.innerHTML = docLinkHtml;\n",
              "          element.appendChild(docLink);\n",
              "        }\n",
              "      </script>\n",
              "    </div>\n",
              "  </div>\n",
              "  "
            ]
          },
          "metadata": {},
          "execution_count": 5
        }
      ]
    },
    {
      "cell_type": "markdown",
      "source": [
        "we can see that most passengers were males, and that the most males did not survive, while most females did survive. \n",
        "\n",
        "what we would like to know.... are the quality of predictions roughly the same for both males and females?"
      ],
      "metadata": {
        "id": "FhpJXgG2asIV"
      }
    },
    {
      "cell_type": "markdown",
      "source": [
        "## prepare for modeling"
      ],
      "metadata": {
        "id": "uiWuXCOXJ2Bw"
      }
    },
    {
      "cell_type": "code",
      "source": [
        "y_target = titanic.pop('Survived')\n",
        "titanic_encoded_X = pd.get_dummies(titanic)\n",
        "# now that we have encoded our data split it into train test\n",
        "\n",
        "X_train, X_test, y_train, y_test = train_test_split(titanic_encoded_X, y_target , test_size=0.3, random_state=0,stratify=y_target)"
      ],
      "metadata": {
        "id": "fzZQOmIeaOtB"
      },
      "execution_count": 6,
      "outputs": []
    },
    {
      "cell_type": "code",
      "source": [
        "tree_model_1 = tree.DecisionTreeClassifier(random_state=42,ccp_alpha=.003)\n",
        "tree_model_1"
      ],
      "metadata": {
        "id": "T5DB4NNdbhVw",
        "colab": {
          "base_uri": "https://localhost:8080/"
        },
        "outputId": "6602d638-2fe3-42c0-c42b-776e5c7ba836"
      },
      "execution_count": 7,
      "outputs": [
        {
          "output_type": "execute_result",
          "data": {
            "text/plain": [
              "DecisionTreeClassifier(ccp_alpha=0.003, random_state=42)"
            ]
          },
          "metadata": {},
          "execution_count": 7
        }
      ]
    },
    {
      "cell_type": "markdown",
      "source": [
        "# Fit the model"
      ],
      "metadata": {
        "id": "gZtG9pJedDYs"
      }
    },
    {
      "cell_type": "code",
      "source": [
        "tree_model_1.fit( X_train, y_train)"
      ],
      "metadata": {
        "id": "GmdBJ9yTdWUx",
        "colab": {
          "base_uri": "https://localhost:8080/"
        },
        "outputId": "6e834e00-da8a-4a95-eee1-406578ec5f38"
      },
      "execution_count": 8,
      "outputs": [
        {
          "output_type": "execute_result",
          "data": {
            "text/plain": [
              "DecisionTreeClassifier(ccp_alpha=0.003, random_state=42)"
            ]
          },
          "metadata": {},
          "execution_count": 8
        }
      ]
    },
    {
      "cell_type": "code",
      "source": [
        "tree_model_1.get_n_leaves() # how complex is our tree?"
      ],
      "metadata": {
        "id": "qyrLcNg_dcLL",
        "colab": {
          "base_uri": "https://localhost:8080/"
        },
        "outputId": "70458b01-57e7-48d0-a611-a523ab7bac7c"
      },
      "execution_count": 9,
      "outputs": [
        {
          "output_type": "execute_result",
          "data": {
            "text/plain": [
              "30"
            ]
          },
          "metadata": {},
          "execution_count": 9
        }
      ]
    },
    {
      "cell_type": "code",
      "source": [
        "y_train_pred = tree_model_1.predict(X_train) # predict on train set\n",
        "y_test_pred = tree_model_1.predict(X_test) # predict on test set"
      ],
      "metadata": {
        "id": "GtPLSsMKdl1v"
      },
      "execution_count": 10,
      "outputs": []
    },
    {
      "cell_type": "markdown",
      "source": [
        " ## train metrics and confusion matrix"
      ],
      "metadata": {
        "id": "mPbgvespeOnN"
      }
    },
    {
      "cell_type": "code",
      "source": [
        "print(confusion_matrix(y_true=y_train,y_pred=y_train_pred))\n",
        "print(metrics.classification_report(y_train,y_train_pred))"
      ],
      "metadata": {
        "id": "E2b-M0yOcgoc",
        "colab": {
          "base_uri": "https://localhost:8080/"
        },
        "outputId": "ebe578a5-ff41-4bb9-a643-bda109207261"
      },
      "execution_count": 11,
      "outputs": [
        {
          "output_type": "stream",
          "name": "stdout",
          "text": [
            "[[280  16]\n",
            " [ 36 167]]\n",
            "              precision    recall  f1-score   support\n",
            "\n",
            "           0       0.89      0.95      0.92       296\n",
            "           1       0.91      0.82      0.87       203\n",
            "\n",
            "    accuracy                           0.90       499\n",
            "   macro avg       0.90      0.88      0.89       499\n",
            "weighted avg       0.90      0.90      0.89       499\n",
            "\n"
          ]
        }
      ]
    },
    {
      "cell_type": "markdown",
      "source": [
        "## test metrics and confusion matrix"
      ],
      "metadata": {
        "id": "aVmhPk8ZeEZk"
      }
    },
    {
      "cell_type": "code",
      "source": [
        "print(confusion_matrix(y_true=y_test,y_pred=y_test_pred))\n",
        "print(metrics.classification_report(y_test,y_test_pred))"
      ],
      "metadata": {
        "id": "vjRvgcvkeTCr",
        "colab": {
          "base_uri": "https://localhost:8080/"
        },
        "outputId": "6fa27b93-3a2e-47d7-f132-be633c579ef0"
      },
      "execution_count": 12,
      "outputs": [
        {
          "output_type": "stream",
          "name": "stdout",
          "text": [
            "[[118  10]\n",
            " [ 27  60]]\n",
            "              precision    recall  f1-score   support\n",
            "\n",
            "           0       0.81      0.92      0.86       128\n",
            "           1       0.86      0.69      0.76        87\n",
            "\n",
            "    accuracy                           0.83       215\n",
            "   macro avg       0.84      0.81      0.81       215\n",
            "weighted avg       0.83      0.83      0.82       215\n",
            "\n"
          ]
        }
      ]
    },
    {
      "cell_type": "markdown",
      "source": [
        "now let's find out what kind of errors we are getting by gender. a simple strategy is to put the test predictions BACK into the test X dataframe so we can then filter by gender, in addition you must also put the real target value back into the dataframe as it was popped.\n",
        "\n",
        "Remember here our goal is to generate the same metrics we have generated in the past (ie accuracy precision recall) but for only males, and only females to see if some of thos metrics are worse by gender. for example is precision much better for men than women?\n",
        "\n",
        "Remember our X data is encoded so our filter must take that into account."
      ],
      "metadata": {
        "id": "IFj-lrAqejll"
      }
    },
    {
      "cell_type": "markdown",
      "source": [
        "# Prepare the data for model evaluation by gender"
      ],
      "metadata": {
        "id": "CvwKG-2NOWkn"
      }
    },
    {
      "cell_type": "markdown",
      "source": [
        "## put the predictions and the real values into X_test\n",
        "\n",
        "For example:\n",
        "\n",
        "```\n",
        "X_test['y_true'] = y_test\n",
        "X_test['y_pred'] = y_pred\n",
        "\n",
        "```"
      ],
      "metadata": {
        "id": "3JigTkPWMB2n"
      }
    },
    {
      "cell_type": "code",
      "source": [
        "# TODO by Student\n",
        "# put the true and predicted values BACK into the X_test dataframe"
      ],
      "metadata": {
        "id": "SeJG0yz9eWh1"
      },
      "execution_count": 13,
      "outputs": []
    },
    {
      "cell_type": "markdown",
      "source": [
        "## Subset our dataframe into 2 dataframes, split by gender\n",
        "\n",
        "create 2 new dataframes, one for female, one for male by filtering the dataframes for gender.\n"
      ],
      "metadata": {
        "id": "TqMVvwWXNfqc"
      }
    },
    {
      "cell_type": "code",
      "source": [
        "# sample new_df1 = old_df[old_df['SomeColumn']==1].copy()\n",
        "# sample new_df2 = old_df[old_df['SomeColumn']==0].copy()\n",
        "# TODO by Student"
      ],
      "metadata": {
        "id": "3Z_6rX7OifPX"
      },
      "execution_count": 14,
      "outputs": []
    },
    {
      "cell_type": "markdown",
      "source": [
        "now we have our filtered dataframes by gender, generate the performance metrics again for each gender's prediction in test.\n",
        "\n",
        "this is fairly straightforward now. you should have two dataframes, each with a specific gender and only that gender in the dataframe. you should also have two columns in those dataframes with the predicted value and the true value for the target variable. Simply pass those columns into the metrics and confusion matrix. \n",
        "\n",
        "\n",
        "\n",
        "```\n",
        "print(confusion_matrix(y_true=df.y_true,y_pred=df.y_pred))\n",
        "print(metrics.classification_report(df.y_true,df.y_pred))\n",
        "```\n",
        "\n"
      ],
      "metadata": {
        "id": "e3bLYrh6kioh"
      }
    },
    {
      "cell_type": "markdown",
      "source": [
        "female results:\n"
      ],
      "metadata": {
        "id": "l-4E9p9Ixkvg"
      }
    },
    {
      "cell_type": "code",
      "source": [
        "# generate confusion matrix and classification reports for females\n",
        "# TODO by Student"
      ],
      "metadata": {
        "id": "ZRqoCdQUkWT5"
      },
      "execution_count": 15,
      "outputs": []
    },
    {
      "cell_type": "markdown",
      "source": [
        "male results:\n"
      ],
      "metadata": {
        "id": "KLlxK0M4yTPp"
      }
    },
    {
      "cell_type": "code",
      "source": [
        "# generate confusion matrix and classification reports for males\n",
        "# TODO by Student"
      ],
      "metadata": {
        "id": "cUehSb-YlAdQ"
      },
      "execution_count": 16,
      "outputs": []
    }
  ]
}