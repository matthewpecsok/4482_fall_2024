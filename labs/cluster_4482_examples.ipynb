{
  "nbformat": 4,
  "nbformat_minor": 0,
  "metadata": {
    "colab": {
      "provenance": [],
      "authorship_tag": "ABX9TyP7Ze+vXSnbsH2ee844kiY5",
      "include_colab_link": true
    },
    "kernelspec": {
      "name": "python3",
      "display_name": "Python 3"
    },
    "language_info": {
      "name": "python"
    }
  },
  "cells": [
    {
      "cell_type": "markdown",
      "metadata": {
        "id": "view-in-github",
        "colab_type": "text"
      },
      "source": [
        "<a href=\"https://colab.research.google.com/github/matthewpecsok/4482_fall_2022/blob/main/labs/cluster_4482_examples.ipynb\" target=\"_parent\"><img src=\"https://colab.research.google.com/assets/colab-badge.svg\" alt=\"Open In Colab\"/></a>"
      ]
    },
    {
      "cell_type": "code",
      "execution_count": null,
      "metadata": {
        "id": "xdvmWm-fLThk"
      },
      "outputs": [],
      "source": [
        "from sklearn.cluster import KMeans\n",
        "from sklearn.cluster import AgglomerativeClustering\n",
        "from scipy.cluster.hierarchy import dendrogram\n",
        "\n",
        "import numpy as np\n",
        "import pandas as pd\n",
        "\n",
        "from matplotlib import pyplot as plt\n",
        "import seaborn as sns\n",
        "\n",
        "from sklearn.datasets import load_iris\n",
        "from sklearn import datasets\n",
        "\n",
        "from sklearn.preprocessing import StandardScaler\n",
        "from sklearn.decomposition import PCA\n",
        "\n",
        "pd.set_option('display.float_format', lambda x: '%.3f' % x)\n",
        "np.set_printoptions(suppress=True)"
      ]
    },
    {
      "cell_type": "code",
      "source": [
        "data = pd.read_csv('https://raw.githubusercontent.com/matthewpecsok/4482_fall_2022/main/data/titanic_cleaned.csv')\n",
        "\n",
        "data.drop('Cabin',axis=1,inplace=True)"
      ],
      "metadata": {
        "id": "KdoxzzFme3RI"
      },
      "execution_count": null,
      "outputs": []
    },
    {
      "cell_type": "code",
      "source": [
        "data_enc = pd.get_dummies(data)"
      ],
      "metadata": {
        "id": "OxFCBe9hfI6v"
      },
      "execution_count": null,
      "outputs": []
    },
    {
      "cell_type": "code",
      "source": [
        "data_enc.head()"
      ],
      "metadata": {
        "id": "gjpkiiPckRzm"
      },
      "execution_count": null,
      "outputs": []
    },
    {
      "cell_type": "code",
      "source": [
        "data_enc.shape[1]"
      ],
      "metadata": {
        "id": "f3Zi-xPzfSj5"
      },
      "execution_count": null,
      "outputs": []
    },
    {
      "cell_type": "markdown",
      "source": [
        "# KMeans"
      ],
      "metadata": {
        "id": "mpZvmV1xu1pL"
      }
    },
    {
      "cell_type": "code",
      "source": [
        "data_enc_scaled = StandardScaler().fit_transform(data_enc)\n",
        "data_enc_scaled = pd.DataFrame(data_enc_scaled,columns=data_enc.columns)"
      ],
      "metadata": {
        "id": "LnVSTylBkacT"
      },
      "execution_count": null,
      "outputs": []
    },
    {
      "cell_type": "code",
      "source": [
        "from pandas.core.common import random_state\n",
        "kmeans = KMeans(3,random_state=42).fit(data_enc_scaled[['Age','Fare']])"
      ],
      "metadata": {
        "id": "fzLa5Uabfug5"
      },
      "execution_count": null,
      "outputs": []
    },
    {
      "cell_type": "code",
      "source": [
        "predictions = kmeans.predict(data_enc_scaled[['Age','Fare']])\n",
        "predictions[0:100]"
      ],
      "metadata": {
        "id": "seNmQjo_t0rw"
      },
      "execution_count": null,
      "outputs": []
    },
    {
      "cell_type": "code",
      "source": [
        "kmeans.cluster_centers_"
      ],
      "metadata": {
        "id": "YqXih1tDuNKY"
      },
      "execution_count": null,
      "outputs": []
    },
    {
      "cell_type": "code",
      "source": [
        "cluster_cent_df = pd.DataFrame(kmeans.cluster_centers_)\n",
        "cluster_cent_df.columns = [\"Age\",\"Fare\"]\n",
        "cluster_cent_df"
      ],
      "metadata": {
        "id": "80MLZYnzxj8l"
      },
      "execution_count": null,
      "outputs": []
    },
    {
      "cell_type": "code",
      "source": [
        "data_enc_scaled['cluster'] = predictions"
      ],
      "metadata": {
        "id": "gg5-5hYayEKE"
      },
      "execution_count": null,
      "outputs": []
    },
    {
      "cell_type": "code",
      "source": [
        "sns.scatterplot(data_enc_scaled['Age'],data_enc_scaled['Fare'],hue=data_enc_scaled['cluster'])"
      ],
      "metadata": {
        "id": "8g0pVHAWxewN"
      },
      "execution_count": null,
      "outputs": []
    },
    {
      "cell_type": "markdown",
      "source": [
        "# PCA"
      ],
      "metadata": {
        "id": "ZQo5czduuzEU"
      }
    },
    {
      "cell_type": "code",
      "source": [
        "pca = PCA(4)\n",
        "data_enc_pca = pca.fit_transform(data_enc_scaled)\n",
        "data_enc_pca = pd.DataFrame(data_enc_pca)\n",
        "data_enc_pca.shape[1]"
      ],
      "metadata": {
        "id": "igsw9jBSfUEm"
      },
      "execution_count": null,
      "outputs": []
    },
    {
      "cell_type": "code",
      "source": [
        "pca.explained_variance_ratio_.round(2)"
      ],
      "metadata": {
        "id": "rN493gdVfhnY"
      },
      "execution_count": null,
      "outputs": []
    }
  ]
}