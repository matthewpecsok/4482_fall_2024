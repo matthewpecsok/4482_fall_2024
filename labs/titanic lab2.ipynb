{
  "nbformat": 4,
  "nbformat_minor": 0,
  "metadata": {
    "colab": {
      "name": "titanic lab2.ipynb",
      "provenance": [],
      "collapsed_sections": [],
      "toc_visible": true,
      "authorship_tag": "ABX9TyOJmfNnBeUpzi9I3XXi2dww",
      "include_colab_link": true
    },
    "kernelspec": {
      "name": "python3",
      "display_name": "Python 3"
    },
    "language_info": {
      "name": "python"
    }
  },
  "cells": [
    {
      "cell_type": "markdown",
      "metadata": {
        "id": "view-in-github",
        "colab_type": "text"
      },
      "source": [
        "<a href=\"https://colab.research.google.com/github/matthewpecsok/4482_fall_2022/blob/main/labs/titanic%20lab2.ipynb\" target=\"_parent\"><img src=\"https://colab.research.google.com/assets/colab-badge.svg\" alt=\"Open In Colab\"/></a>"
      ]
    },
    {
      "cell_type": "markdown",
      "source": [
        "Lab 2.\n",
        "\n",
        "EDA - Exploratory Data Analysis"
      ],
      "metadata": {
        "id": "Ol0qCo9yOjEe"
      }
    },
    {
      "cell_type": "markdown",
      "source": [
        "### libraries"
      ],
      "metadata": {
        "id": "bmp6wNs7OfjQ"
      }
    },
    {
      "cell_type": "code",
      "metadata": {
        "id": "I_N01iQ4zdwS"
      },
      "source": [
        "import pandas as pd\n",
        "import numpy as np\n",
        "import matplotlib.pyplot as plt\n",
        "import seaborn as sns"
      ],
      "execution_count": null,
      "outputs": []
    },
    {
      "cell_type": "markdown",
      "metadata": {
        "id": "PGzXTt2WJDea"
      },
      "source": [
        "### Import a csv file"
      ]
    },
    {
      "cell_type": "code",
      "metadata": {
        "id": "cFM9RTCX0gAC"
      },
      "source": [
        "titanic = pd.read_csv(\"https://raw.githubusercontent.com/matthewpecsok/4482_fall_2022/main/data/titanic.train.csv\")"
      ],
      "execution_count": null,
      "outputs": []
    },
    {
      "cell_type": "markdown",
      "source": [
        "# head()"
      ],
      "metadata": {
        "id": "Hc2B-teuFrXD"
      }
    },
    {
      "cell_type": "code",
      "source": [
        "df.head() # change me to the correct dataframe name"
      ],
      "metadata": {
        "id": "U-B4woo7FrAt"
      },
      "execution_count": null,
      "outputs": []
    },
    {
      "cell_type": "markdown",
      "metadata": {
        "id": "iT6PQZlk1uBe"
      },
      "source": [
        "### info()"
      ]
    },
    {
      "cell_type": "markdown",
      "metadata": {
        "id": "h6Dz7AXT1w2X"
      },
      "source": [
        "df.info() method shows the number of observations, and the number, names, types of columns. try it below"
      ]
    },
    {
      "cell_type": "code",
      "metadata": {
        "id": "SRDDrf6c0o9Y"
      },
      "source": [
        "### your code begins\n",
        "\n",
        "### your code ends"
      ],
      "execution_count": null,
      "outputs": []
    },
    {
      "cell_type": "markdown",
      "metadata": {
        "id": "YwM4bxEyEdzu"
      },
      "source": [
        "### null values\n",
        "\n",
        "df.isnull() will give us boolean (true false) values. Summing these up as 0 for false and 1 for true will make it easy to identify how many nulls we have in each column.\n",
        "\n",
        "run the methods df.isnull().sum() below"
      ]
    },
    {
      "cell_type": "code",
      "metadata": {
        "id": "_XDG_9u5kAb1"
      },
      "source": [
        "### your code begins\n",
        "\n",
        "### your code ends"
      ],
      "execution_count": null,
      "outputs": []
    },
    {
      "cell_type": "markdown",
      "metadata": {
        "id": "BVP5VA1fERjx"
      },
      "source": [
        "### data types (dtype)\n",
        "\n",
        "Broadly there are two major types of data in our dataframe, numbers and strings/objects. We can often thing of strings as categories of data such as t-shirt sizes Small,Medium,Large.\n",
        "\n",
        "A property contains information about an object and can be referenced without the ()\n",
        "\n",
        "show the dtypes propoerty by running df.dtypes below"
      ]
    },
    {
      "cell_type": "code",
      "metadata": {
        "id": "c5UjZzhdeN-b"
      },
      "source": [
        "### your code begins\n",
        "\n",
        "### your code ends"
      ],
      "execution_count": null,
      "outputs": []
    },
    {
      "cell_type": "markdown",
      "source": [
        "### value counts\n",
        "\n",
        "gets us counts of categorical values\n",
        "\n",
        "try df.Survived.value_counts() below"
      ],
      "metadata": {
        "id": "vLBhNZ6yLBrE"
      }
    },
    {
      "cell_type": "code",
      "source": [
        "### your code begins\n",
        "\n",
        "### your code ends"
      ],
      "metadata": {
        "id": "RIbHzz1TLBz8"
      },
      "execution_count": null,
      "outputs": []
    },
    {
      "cell_type": "markdown",
      "source": [
        "gets us proportions of categorical values\n",
        "\n",
        "try df.Survived.value_counts(normalize=True) below"
      ],
      "metadata": {
        "id": "jBSWRWhmLJZI"
      }
    },
    {
      "cell_type": "code",
      "source": [
        "### your code begins\n",
        "\n",
        "### your code ends"
      ],
      "metadata": {
        "id": "ym5TQsfiLKA8"
      },
      "execution_count": null,
      "outputs": []
    },
    {
      "cell_type": "markdown",
      "source": [
        "### describe()\n",
        "\n",
        "the describe method gives us a lot of information about our dataframe. try df.describe(include='all') below"
      ],
      "metadata": {
        "id": "K8n4ISnBJcAd"
      }
    },
    {
      "cell_type": "code",
      "source": [
        "### your code begins\n",
        "\n",
        "### your code ends"
      ],
      "metadata": {
        "id": "Moo2WQdxOK_3"
      },
      "execution_count": null,
      "outputs": []
    },
    {
      "cell_type": "markdown",
      "source": [
        "Export your code as LastName_FirstName_Lab2.ipynb and as html to upload in the Lab Quiz."
      ],
      "metadata": {
        "id": "eyxeu_XtHESI"
      }
    }
  ]
}