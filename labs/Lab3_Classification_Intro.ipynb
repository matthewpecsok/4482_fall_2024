{
  "nbformat": 4,
  "nbformat_minor": 0,
  "metadata": {
    "colab": {
      "name": "Lab3_Classification_Intro.ipynb",
      "provenance": [],
      "authorship_tag": "ABX9TyPplbAz7uROANY3i/DVaynK",
      "include_colab_link": true
    },
    "kernelspec": {
      "name": "python3",
      "display_name": "Python 3"
    },
    "language_info": {
      "name": "python"
    }
  },
  "cells": [
    {
      "cell_type": "markdown",
      "metadata": {
        "id": "view-in-github",
        "colab_type": "text"
      },
      "source": [
        "<a href=\"https://colab.research.google.com/github/matthewpecsok/4482_fall_2022/blob/main/labs/Lab3_Classification_Intro.ipynb\" target=\"_parent\"><img src=\"https://colab.research.google.com/assets/colab-badge.svg\" alt=\"Open In Colab\"/></a>"
      ]
    },
    {
      "cell_type": "markdown",
      "source": [
        "# Prepare for modeling"
      ],
      "metadata": {
        "id": "pFKIyfoEf6JY"
      }
    },
    {
      "cell_type": "markdown",
      "source": [
        "## Import packages"
      ],
      "metadata": {
        "id": "2p5L6tUzgBiX"
      }
    },
    {
      "cell_type": "code",
      "execution_count": null,
      "metadata": {
        "id": "1nRWcK2kBlbe"
      },
      "outputs": [],
      "source": [
        "import pandas as pd\n",
        "import numpy as np\n",
        "import matplotlib.pyplot as plt\n",
        "import seaborn as sns"
      ]
    },
    {
      "cell_type": "markdown",
      "source": [
        "## Import csv"
      ],
      "metadata": {
        "id": "cRYTrIhWgE8p"
      }
    },
    {
      "cell_type": "code",
      "source": [
        "titanic = pd.read_csv(\"https://raw.githubusercontent.com/matthewpecsok/4482_fall_2022/main/data/titanic.train.csv\")"
      ],
      "metadata": {
        "id": "xslgm0MDGc7B"
      },
      "execution_count": null,
      "outputs": []
    },
    {
      "cell_type": "markdown",
      "source": [
        "## show the dtypes"
      ],
      "metadata": {
        "id": "afh8bwRggGfa"
      }
    },
    {
      "cell_type": "code",
      "source": [
        "titanic.dtypes"
      ],
      "metadata": {
        "id": "58z12zQaG_YH"
      },
      "execution_count": null,
      "outputs": []
    },
    {
      "cell_type": "markdown",
      "source": [
        "## descriptive statitics"
      ],
      "metadata": {
        "id": "dj9DqvvagLmX"
      }
    },
    {
      "cell_type": "code",
      "source": [
        "titanic.describe(include='all')"
      ],
      "metadata": {
        "id": "eIp1jII2HMuQ"
      },
      "execution_count": null,
      "outputs": []
    },
    {
      "cell_type": "code",
      "source": [
        "titanic.head(10)"
      ],
      "metadata": {
        "id": "lOdF8RPOptX0"
      },
      "execution_count": null,
      "outputs": []
    },
    {
      "cell_type": "code",
      "source": [
        "titanic.Survived.value_counts()"
      ],
      "metadata": {
        "id": "7_t5DTcwSpIP"
      },
      "execution_count": null,
      "outputs": []
    },
    {
      "cell_type": "markdown",
      "source": [
        "## data tranformations"
      ],
      "metadata": {
        "id": "ppWahY5TgSxU"
      }
    },
    {
      "cell_type": "code",
      "source": [
        "from sklearn import tree"
      ],
      "metadata": {
        "id": "c9kU2u4-UwAF"
      },
      "execution_count": null,
      "outputs": []
    },
    {
      "cell_type": "markdown",
      "source": [
        "## drop columns \n",
        "\n",
        "These columns do not generalize and would impact model performance, more will be discussed about this in the next module. "
      ],
      "metadata": {
        "id": "cG9Yn-ZdgeVf"
      }
    },
    {
      "cell_type": "code",
      "source": [
        "titanic = titanic.drop(['Name','PassengerId','Ticket','Cabin'],axis=1)"
      ],
      "metadata": {
        "id": "eelf0j_vDPLF"
      },
      "execution_count": null,
      "outputs": []
    },
    {
      "cell_type": "markdown",
      "source": [
        "## drop nulls"
      ],
      "metadata": {
        "id": "JggRUXaXg16w"
      }
    },
    {
      "cell_type": "code",
      "source": [
        "titanic = titanic.dropna()"
      ],
      "metadata": {
        "id": "9BFaXkK5DmKW"
      },
      "execution_count": null,
      "outputs": []
    },
    {
      "cell_type": "markdown",
      "source": [
        "## pclass transformation \n",
        "\n",
        "while pclass dytpe is technically an int, it should probably be handled as categorical. why is this true? consider, can you add pclass 2 and pclass 3 and get pclass 5? This data is not quantitative but rather categorical"
      ],
      "metadata": {
        "id": "ilL4BAvug8rs"
      }
    },
    {
      "cell_type": "code",
      "source": [
        "titanic['Pclass'] = titanic['Pclass'].astype('object')"
      ],
      "metadata": {
        "id": "wIxSAuq-KqKv"
      },
      "execution_count": null,
      "outputs": []
    },
    {
      "cell_type": "markdown",
      "source": [
        "check our work"
      ],
      "metadata": {
        "id": "XdtkW0ZUhN0t"
      }
    },
    {
      "cell_type": "code",
      "source": [
        "titanic.info()"
      ],
      "metadata": {
        "id": "kbvQKzsnK9T8"
      },
      "execution_count": null,
      "outputs": []
    },
    {
      "cell_type": "markdown",
      "source": [
        "## pop the target variable into a new var"
      ],
      "metadata": {
        "id": "uy_VvMLQhQOZ"
      }
    },
    {
      "cell_type": "code",
      "source": [
        "y_target = titanic.pop('Survived')"
      ],
      "metadata": {
        "id": "yTHdVaUshnG1"
      },
      "execution_count": null,
      "outputs": []
    },
    {
      "cell_type": "markdown",
      "source": [
        "## one hot encode our categorical columns\n",
        "\n",
        "A column that is string/object will be transformed, number columns will not."
      ],
      "metadata": {
        "id": "0gfexhbvhoUA"
      }
    },
    {
      "cell_type": "code",
      "source": [
        "# use pandas get_dummies to one-hot-encode categorical values\n",
        "# we would expect only numeric values left in our dataframe\n",
        "# rename this df as encoded so we understand it's the encoded version\n",
        "# of the original\n",
        "titanic_encoded_X = pd.get_dummies(titanic)"
      ],
      "metadata": {
        "id": "-SFdw3bJC_T8"
      },
      "execution_count": null,
      "outputs": []
    },
    {
      "cell_type": "markdown",
      "source": [
        "check our work!\n",
        "\n",
        "we should no longer have words in our data anywhere"
      ],
      "metadata": {
        "id": "YlOC6qllh1xv"
      }
    },
    {
      "cell_type": "code",
      "source": [
        "titanic_encoded_X.head()"
      ],
      "metadata": {
        "id": "EGHdJFVjLTyK"
      },
      "execution_count": null,
      "outputs": []
    },
    {
      "cell_type": "markdown",
      "source": [
        "# models"
      ],
      "metadata": {
        "id": "sTFlY10yierP"
      }
    },
    {
      "cell_type": "markdown",
      "source": [
        "### model 1"
      ],
      "metadata": {
        "id": "53xAyjnHF3ce"
      }
    },
    {
      "cell_type": "markdown",
      "source": [
        "todo: set the max leaf nodes to 2. Replace XXX with 2.\n",
        "Run the code to build the model and plot the tree"
      ],
      "metadata": {
        "id": "OSrhm-e0A3gS"
      }
    },
    {
      "cell_type": "code",
      "source": [
        "tree_model_1 = tree.DecisionTreeClassifier(random_state=123,max_leaf_nodes=XXX,criterion='entropy')\n",
        "tree_model_1.fit(titanic_encoded_X,y_target)"
      ],
      "metadata": {
        "id": "rFGxRP8dBPqe"
      },
      "execution_count": null,
      "outputs": []
    },
    {
      "cell_type": "code",
      "source": [
        "fig = plt.figure(figsize=(7,7))\n",
        "_ = tree.plot_tree(tree_model_1,\n",
        "                   feature_names=titanic_encoded_X.columns.to_list(),\n",
        "                   filled=True)"
      ],
      "metadata": {
        "id": "QbazfMLUCP1h"
      },
      "execution_count": null,
      "outputs": []
    },
    {
      "cell_type": "markdown",
      "source": [
        "todo: set the max leaf nodes to 4"
      ],
      "metadata": {
        "id": "IyUOGRRWBB88"
      }
    },
    {
      "cell_type": "code",
      "source": [
        "tree_model_2 = tree.DecisionTreeClassifier(random_state=123,max_leaf_nodes=XXX,criterion='entropy')\n",
        "tree_model_2.fit(titanic_encoded_X,y_target)\n",
        "\n",
        "fig = plt.figure(figsize=(7,7))\n",
        "_ = tree.plot_tree(tree_model_2,\n",
        "                   feature_names=titanic_encoded_X.columns.to_list(),\n",
        "                   filled=True)"
      ],
      "metadata": {
        "id": "_bhFmu5IF7XB"
      },
      "execution_count": null,
      "outputs": []
    },
    {
      "cell_type": "markdown",
      "source": [
        "todo: set the max leaf nodes to 6"
      ],
      "metadata": {
        "id": "XLjfiIpsBExX"
      }
    },
    {
      "cell_type": "code",
      "source": [
        "tree_model_3 = tree.DecisionTreeClassifier(random_state=123,max_leaf_nodes=XXX,criterion='entropy')\n",
        "tree_model_3.fit(titanic_encoded_X,y_target)\n",
        "\n",
        "fig = plt.figure(figsize=(10,10))\n",
        "_ = tree.plot_tree(tree_model_3,\n",
        "                   feature_names=titanic_encoded_X.columns.to_list(),\n",
        "                   filled=True)"
      ],
      "metadata": {
        "id": "DJIJt1KwEEw8"
      },
      "execution_count": null,
      "outputs": []
    },
    {
      "cell_type": "markdown",
      "source": [
        "todo: set the max leaf nodes to 6000"
      ],
      "metadata": {
        "id": "P3XAEmz7BJxq"
      }
    },
    {
      "cell_type": "code",
      "source": [
        "tree_model_3 = tree.DecisionTreeClassifier(random_state=123,max_leaf_nodes=XXX,criterion='entropy')\n",
        "tree_model_3.fit(titanic_encoded_X,y_target)\n",
        "\n",
        "fig = plt.figure(figsize=(100,100))\n",
        "_ = tree.plot_tree(tree_model_3,\n",
        "                   feature_names=titanic_encoded_X.columns.to_list(),\n",
        "                   filled=True)"
      ],
      "metadata": {
        "id": "JuOlIBsYMWs1"
      },
      "execution_count": null,
      "outputs": []
    },
    {
      "cell_type": "code",
      "source": [],
      "metadata": {
        "id": "WyddQdEjPyFx"
      },
      "execution_count": null,
      "outputs": []
    }
  ]
}