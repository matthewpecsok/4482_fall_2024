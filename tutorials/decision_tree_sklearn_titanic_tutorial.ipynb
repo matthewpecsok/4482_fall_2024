{
  "nbformat": 4,
  "nbformat_minor": 0,
  "metadata": {
    "colab": {
      "name": "decision_tree_sklearn_titanic_tutorial.ipynb",
      "provenance": [],
      "collapsed_sections": [],
      "authorship_tag": "ABX9TyM0Qq1NLaAOXBr+nKAo1B/v",
      "include_colab_link": true
    },
    "kernelspec": {
      "name": "python3",
      "display_name": "Python 3"
    },
    "language_info": {
      "name": "python"
    }
  },
  "cells": [
    {
      "cell_type": "markdown",
      "metadata": {
        "id": "view-in-github",
        "colab_type": "text"
      },
      "source": [
        "<a href=\"https://colab.research.google.com/github/matthewpecsok/4482_fall_2022/blob/main/tutorials/decision_tree_sklearn_titanic_tutorial.ipynb\" target=\"_parent\"><img src=\"https://colab.research.google.com/assets/colab-badge.svg\" alt=\"Open In Colab\"/></a>"
      ]
    },
    {
      "cell_type": "markdown",
      "metadata": {
        "id": "k5uVUd5CN-40"
      },
      "source": [
        "\n",
        "\n",
        "# Decision Tree titanic tutorial\n",
        "\n",
        "Dr. Olivia Sheng\n",
        "September 16, 2016\n",
        "\n",
        "Converted to python by Steven Wang and Matthew Pecsok 5/2021\n",
        "\n"
      ]
    },
    {
      "cell_type": "markdown",
      "metadata": {
        "id": "irZn-wtVPQBX"
      },
      "source": [
        "## table of contents\n",
        "\n",
        "1.   Data Description\n",
        "2.   Set up, data import and inspections\n",
        "3.   Pre-model-building data exploration\n",
        "4.   Build decision trees\n",
        "5.   Generate performance metrics\n",
        "\n",
        "\n"
      ]
    },
    {
      "cell_type": "markdown",
      "metadata": {
        "id": "BUwo-VbLOHPj"
      },
      "source": [
        "# 1 Data Description\n",
        "The sinking of the RMS Titanic is one of the most infamous shipwrecks in history. On April 15, 1912, during her maiden voyage, the Titanic sank after colliding with an iceberg, killing 1502 out of 2224 passengers and crew. This sensational tragedy shocked the international community and led to better safety regulations for ships.One of the reasons that the shipwreck led to such loss of life was that there were not enough lifeboats for the passengers and crew. Although there was some element of luck involved in surviving the sinking, some groups of people such as women, children, and the upper-class were more likely to survive than others.\n",
        "\n",
        "VARIABLE DESCRIPTIONS:\n",
        "\n",
        "PassengerID Unique passenger identifier \n",
        "\n",
        "Survived Survival (0 = No; 1 = Yes) \n",
        "\n",
        "Pclass Passenger Class(1 = 1st; 2 = 2nd; 3 = 3rd) \n",
        "(Pclass is a proxy for socio-economic status (SES) 1st ~ Upper; 2nd ~ Middle; 3rd ~ Lower) \n",
        "\n",
        "Name Name \n",
        "\n",
        "Sex Sex \n",
        "\n",
        "Age Age (Age is in Years; Fractional if Age less than One (1) If the Age is Estimated, it is in the form xx.5) \n",
        "\n",
        "Sibsp Number of Siblings/Spouses Aboard \n",
        "\n",
        "Parch Number of Parents/Children Aboard \n",
        "\n",
        "Ticket Ticket Number \n",
        "\n",
        "Fare Passenger Fare \n",
        "\n",
        "Cabin Cabin \n",
        "\n",
        "Embarked Port of Embarkation (C = Cherbourg; Q = Queenstown; S = Southampton)"
      ]
    },
    {
      "cell_type": "markdown",
      "metadata": {
        "id": "vE-c91reV6L5"
      },
      "source": [
        "# 2 Set up, data import and inspections"
      ]
    },
    {
      "cell_type": "markdown",
      "metadata": {
        "id": "Wr12XFjDQYEq"
      },
      "source": [
        "## load libraries"
      ]
    },
    {
      "cell_type": "code",
      "metadata": {
        "id": "qLQD3Ez_16UD"
      },
      "source": [
        "## Load packages \n",
        "\n",
        "import pandas as pd\n",
        "import numpy as np\n",
        "import sklearn\n",
        "from sklearn import tree\n",
        "from sklearn import metrics\n",
        "from sklearn.metrics import confusion_matrix\n",
        "from sklearn.model_selection import train_test_split\n",
        "\n",
        "import matplotlib.pyplot as plt\n",
        "\n"
      ],
      "execution_count": 1,
      "outputs": []
    },
    {
      "cell_type": "markdown",
      "metadata": {
        "id": "LZ33SnW9QZz2"
      },
      "source": [
        "## import data"
      ]
    },
    {
      "cell_type": "code",
      "metadata": {
        "id": "SVYjSjc3P3bf"
      },
      "source": [
        "# read_csv has some defaults, we can just take the defaults here, but be aware they exist. \n",
        "titanic_raw = pd.read_csv(\"https://raw.githubusercontent.com/matthewpecsok/4482_fall_2022/main/data/titanic_cleaned.csv\")\n",
        "titanic = titanic_raw.copy()\n",
        "\n",
        "# raw is the original unedited version of our data which can be useful for inspecting changes we've made \n",
        "# compared to the original unedited data"
      ],
      "execution_count": null,
      "outputs": []
    },
    {
      "cell_type": "markdown",
      "metadata": {
        "id": "3lavHznJRuvF"
      },
      "source": [
        "## get summary statistics of dataframe"
      ]
    },
    {
      "cell_type": "code",
      "metadata": {
        "id": "u2AGzKsIQbyZ"
      },
      "source": [
        "titanic.info()"
      ],
      "execution_count": null,
      "outputs": []
    },
    {
      "cell_type": "code",
      "metadata": {
        "id": "QnpxYpjgQhj9"
      },
      "source": [
        "titanic.head()"
      ],
      "execution_count": null,
      "outputs": []
    },
    {
      "cell_type": "code",
      "metadata": {
        "id": "b_Gp_my_QjRj"
      },
      "source": [
        "titanic.describe(include='all')"
      ],
      "execution_count": null,
      "outputs": []
    },
    {
      "cell_type": "code",
      "metadata": {
        "id": "s2a13bPuRWsZ"
      },
      "source": [
        "# count null values (extremely important to identify nulls)\n",
        "\n",
        "titanic.isnull().sum()\n",
        "\n",
        "# no nulls, that's good news and almost never what happens in the real world."
      ],
      "execution_count": null,
      "outputs": []
    },
    {
      "cell_type": "code",
      "metadata": {
        "id": "gs-vNe9isg1a"
      },
      "source": [
        "titanic.Survived.value_counts()"
      ],
      "execution_count": null,
      "outputs": []
    },
    {
      "cell_type": "code",
      "source": [
        "titanic.Survived.value_counts(normalize=True)"
      ],
      "metadata": {
        "id": "0-_odBPFlwjf"
      },
      "execution_count": null,
      "outputs": []
    },
    {
      "cell_type": "code",
      "metadata": {
        "id": "Hvq6s-5rs6At"
      },
      "source": [
        "round(titanic.Survived.value_counts() / len(titanic),2)"
      ],
      "execution_count": null,
      "outputs": []
    },
    {
      "cell_type": "markdown",
      "metadata": {
        "id": "abggZMSYRAk0"
      },
      "source": [
        "## transform character/string to categorical "
      ]
    },
    {
      "cell_type": "code",
      "metadata": {
        "id": "pDM_EbWkRFoo"
      },
      "source": [
        "# astype is function in pandas that allows one to convert from one type of data to another ie string to int, or in this \n",
        "# case string to categorical\n",
        "# https://pandas.pydata.org/docs/reference/api/pandas.Categorical.html\n",
        "\n",
        "titanic = titanic.astype({'Survived': 'category',\n",
        "                                          'Sex': 'category',\n",
        "                                          'Pclass': 'category',\n",
        "                                          'Cabin': 'category',\n",
        "                                          'Embarked': 'category'})\n",
        "titanic.dtypes"
      ],
      "execution_count": null,
      "outputs": []
    },
    {
      "cell_type": "markdown",
      "metadata": {
        "id": "ZIhfilbfSRtH"
      },
      "source": [
        "## dummy encode the data\n",
        "\n",
        "these models cannot handle string/words. they must be converted to numeric values"
      ]
    },
    {
      "cell_type": "code",
      "metadata": {
        "id": "EM0zfuf6Se5x"
      },
      "source": [
        "# extract the target column of survived. target aka y\n",
        "# while R is happy to have the target in the dataframe with the X predictors sklearn prefers them separate\n",
        "y_target = titanic.pop('Survived')\n",
        "\n",
        "# use pandas get_dummies to one-hot-encode categorical values\n",
        "# we would expect only numeric values left in our dataframe\n",
        "# rename this df as encoded so we understand it's the encoded version\n",
        "# of the original\n",
        "titanic_encoded_X = pd.get_dummies(titanic)\n",
        "\n",
        "titanic_encoded_X.head()"
      ],
      "execution_count": null,
      "outputs": []
    },
    {
      "cell_type": "code",
      "metadata": {
        "id": "hqSodLE1S-0i"
      },
      "source": [
        "# lucky for us the binary target values are already numeric ie 0,1 instead of \"yes\",\"no\" \"true\",\"false\" etc\n",
        "# this saves us a step of having to encode the series. \n",
        "y_target"
      ],
      "execution_count": null,
      "outputs": []
    },
    {
      "cell_type": "markdown",
      "metadata": {
        "id": "r27l1opOg87C"
      },
      "source": [
        "# 3 Pre-model-building data exploration"
      ]
    },
    {
      "cell_type": "code",
      "metadata": {
        "id": "1wSo0g9Hhvec"
      },
      "source": [
        "# generate metrics for male and female passengers. in this notebook we will demonstrate doing what was done in R,\n",
        "# but in this case we will use a function to simplify the code\n",
        "# often when doing the same thing 2 or more times a function can reduce redundant code"
      ],
      "execution_count": null,
      "outputs": []
    },
    {
      "cell_type": "code",
      "metadata": {
        "id": "SVdSixzYifpZ"
      },
      "source": [
        "titanic[titanic['Sex']=='male'] # demonstration of how to filter a dataframe"
      ],
      "execution_count": null,
      "outputs": []
    },
    {
      "cell_type": "code",
      "metadata": {
        "id": "nPoA3So-h_Ok"
      },
      "source": [
        "def metrics_by_gender(gender,df):\n",
        "  # filter df by gender\n",
        "  display(\"Dataframe subset of: \"+gender)\n",
        "\n",
        "  df = df[df['Sex']==gender]\n",
        "  \n",
        "  print(gender+\": shape\")\n",
        "  display(df.shape)\n",
        "\n",
        "  print(gender+\": describe\")\n",
        "  display(df.describe())\n"
      ],
      "execution_count": null,
      "outputs": []
    },
    {
      "cell_type": "code",
      "metadata": {
        "id": "UFHMjEFAiTbc"
      },
      "source": [
        "# demonstration of a very simple function that just subsets the dataframe and prints the new shape\n",
        "for gender in ['male','female']:\n",
        "  df = titanic[titanic['Sex']==gender]\n",
        "  print(gender)\n",
        "  print(df.shape)\n",
        "  print()"
      ],
      "execution_count": null,
      "outputs": []
    },
    {
      "cell_type": "code",
      "metadata": {
        "id": "Qw8PMvBQmbUW"
      },
      "source": [
        "# demonstration of a very simple function that just subsets the dataframe and prints the new shape\n",
        "for gender in ['male','female']:\n",
        "  df = titanic[titanic['Sex']==gender]\n",
        "  print(gender)\n",
        "  print(df.describe())\n",
        "  print()"
      ],
      "execution_count": null,
      "outputs": []
    },
    {
      "cell_type": "code",
      "metadata": {
        "id": "v5r1gIxSmsKt"
      },
      "source": [
        "# demonstration of a very simple function that just subsets the dataframe and prints the new shape\n",
        "for gender in ['male','female']:\n",
        "  df = titanic_raw[titanic_raw['Sex']==gender]\n",
        "  print(gender)\n",
        "  #print(df.groupby('Survived').value_counts())\n",
        "  print(df.groupby(['Survived','Pclass'])[['Pclass']].agg(['count']))\n",
        "  print()"
      ],
      "execution_count": null,
      "outputs": []
    },
    {
      "cell_type": "code",
      "metadata": {
        "id": "LbeiPlAan-oz"
      },
      "source": [
        "for gender in ['male','female']:\n",
        "  df = titanic_raw[titanic_raw['Sex']==gender]\n",
        "  print(gender)\n",
        "  #print(df.groupby('Survived').value_counts())\n",
        "  print(df.groupby(['Survived','Embarked'])[['Embarked']].agg(['count']))\n",
        "  print()"
      ],
      "execution_count": null,
      "outputs": []
    },
    {
      "cell_type": "code",
      "metadata": {
        "id": "WfQKggwfoRgz"
      },
      "source": [
        "# demonstrating a nested for loop\n",
        "# be careful of going much deeper than this in a loop \n",
        "# the code becomes very difficult to read\n",
        "np.warnings.filterwarnings('ignore', category=np.VisibleDeprecationWarning)   # ignore some ugly warnings because of code that is being deprecated\n",
        "\n",
        "for numeric_var in ['Age','Fare','Parch','SibSp']:\n",
        "  for gender in ['male','female'] :\n",
        "    df = titanic_raw[titanic_raw['Sex']==gender]\n",
        "    df.boxplot(column=[numeric_var],by=['Survived']) # R boxplot(Age~Survived, data = titanic)\n",
        "    plt.title( 'Boxplot of %s by Survived and Sex=%s' % (numeric_var,gender) )\n",
        "    plt.suptitle('')\n",
        "    plt.show()\n"
      ],
      "execution_count": null,
      "outputs": []
    },
    {
      "cell_type": "markdown",
      "metadata": {
        "id": "a7fWYyDDWYqm"
      },
      "source": [
        "# 4 build decision trees"
      ]
    },
    {
      "cell_type": "code",
      "metadata": {
        "id": "usHG_gNYUwW_"
      },
      "source": [
        "# random state\n",
        "# set random state for all models for reproducbility\n",
        "# if this is NOT set then you will see variations each time you run the model\n",
        "# for this reason reproducibility is desirable in homeworks\n",
        "random_state = 42"
      ],
      "execution_count": null,
      "outputs": []
    },
    {
      "cell_type": "code",
      "metadata": {
        "id": "GWNBy7K3TxMx"
      },
      "source": [
        "# what is tree?\n",
        "tree\n",
        "\n",
        "# an instance of a sklearn tree classifier"
      ],
      "execution_count": null,
      "outputs": []
    },
    {
      "cell_type": "code",
      "metadata": {
        "id": "EFNBXeHAUrAs"
      },
      "source": [
        "tree_model_1 = tree.DecisionTreeClassifier(random_state=random_state,ccp_alpha=.10)\n",
        "tree_model_1"
      ],
      "execution_count": null,
      "outputs": []
    },
    {
      "cell_type": "markdown",
      "source": [
        "**Model Defaults**\n",
        "\n",
        "When instantiating any model some model settings will be set at the \"Default\" unless you choose to override them by passing in parameters to the model instantiation. For example, if we had NOT overridden ccp_alpha it would have been set to 0 by default and no pruning would have been done on the tree. \n",
        "\n",
        "For any method that you are intending to run it can be useful (and is often critical) to be aware of what defaults you are taking if you chose to not override them. To see this you can read the method documentation. Simply mouse over the method and wait a moment. The method documentation will appear. \n",
        "\n",
        "Shown below are the parameters the method expects and the default values you will be receiving if you don't pass anything in. For example the `criterion` will default to `'gini'`, and the `min_samples_split` will default to `2`. \n",
        "\n",
        "In future assignments you may be asked to build a DecisionTree or some other model with instructions like 'build a decision tree, take the model defaults' in that case you will instantiate the model without passing any parameters into the method which will allow you to use the defaults. \n"
      ],
      "metadata": {
        "id": "UFRgo7-UK15C"
      }
    },
    {
      "cell_type": "markdown",
      "source": [
        "![image.png](data:image/png;base64,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)"
      ],
      "metadata": {
        "id": "gSq7qP_hMGlE"
      }
    },
    {
      "cell_type": "code",
      "source": [
        "tree.DecisionTreeClassifier() # this model can be said to have been created with the model Defaults"
      ],
      "metadata": {
        "id": "Tigraze1Lwhv"
      },
      "execution_count": null,
      "outputs": []
    },
    {
      "cell_type": "markdown",
      "metadata": {
        "id": "PGQ8oJ4hhHZF"
      },
      "source": [
        "## model 1 (all data)"
      ]
    },
    {
      "cell_type": "markdown",
      "metadata": {
        "id": "CjWSFEweWSRZ"
      },
      "source": [
        "### fit/train the model"
      ]
    },
    {
      "cell_type": "code",
      "metadata": {
        "id": "iJk3cgFWVNVA"
      },
      "source": [
        "# note, there is a lot going on behind the scenes here fitting is a complex process\n",
        "# the first argument is a dataset of the predictors. the second is a series of the target or y variable. \n",
        "tree_model_1 = tree_model_1.fit(titanic_encoded_X,y_target) # this trains the model on the x and y data "
      ],
      "execution_count": null,
      "outputs": []
    },
    {
      "cell_type": "markdown",
      "metadata": {
        "id": "19zRYzXfWdfq"
      },
      "source": [
        "### plot the tree"
      ]
    },
    {
      "cell_type": "code",
      "metadata": {
        "id": "j6pjsPCXWhlH"
      },
      "source": [
        "fig = plt.figure(figsize=(7,7))\n",
        "_ = tree.plot_tree(tree_model_1,\n",
        "                   feature_names=titanic_encoded_X.columns.to_list(), # make sure the feature names are in output\n",
        "                   filled=True) # filled true color codes by the class. shading indicates proportion or quality of split"
      ],
      "execution_count": null,
      "outputs": []
    },
    {
      "cell_type": "markdown",
      "metadata": {
        "id": "euAuajRFhKD4"
      },
      "source": [
        "## model 2 "
      ]
    },
    {
      "cell_type": "code",
      "metadata": {
        "id": "zQQ8RTPnhT3k"
      },
      "source": [
        "# create a new model 2\n",
        "tree_model_2 = tree.DecisionTreeClassifier(random_state=random_state,ccp_alpha=0.02)\n",
        "tree_model_2\n",
        "\n",
        "# note, there is a lot going on behind the scenes here fitting is a complex process\n",
        "tree_model_2 = tree_model_2.fit(titanic_encoded_X,y_target) # this trains the model on the x and y data \n"
      ],
      "execution_count": null,
      "outputs": []
    },
    {
      "cell_type": "markdown",
      "metadata": {
        "id": "ltzrR25iWpuZ"
      },
      "source": [
        "### plot the tree"
      ]
    },
    {
      "cell_type": "code",
      "metadata": {
        "id": "9c-a4KzAhStY"
      },
      "source": [
        "fig = plt.figure(figsize=(7,7))\n",
        "_ = tree.plot_tree(tree_model_2,\n",
        "                   feature_names=titanic_encoded_X.columns.to_list(), # make sure the feature names are in output\n",
        "                   filled=True) # filled true color codes by the class. shading indicates proportion or quality of split"
      ],
      "execution_count": null,
      "outputs": []
    },
    {
      "cell_type": "markdown",
      "source": [
        "## model 3"
      ],
      "metadata": {
        "id": "TaiPooH5T25F"
      }
    },
    {
      "cell_type": "code",
      "source": [
        "# create a new model 2\n",
        "tree_model_3 = tree.DecisionTreeClassifier(random_state=random_state,ccp_alpha=0.0002)\n",
        "tree_model_3\n",
        "\n",
        "# note, there is a lot going on behind the scenes here fitting is a complex process\n",
        "tree_model_3 = tree_model_3.fit(titanic_encoded_X,y_target) # this trains the model on the x and y data \n"
      ],
      "metadata": {
        "id": "27Wuu61OT9Ri"
      },
      "execution_count": null,
      "outputs": []
    },
    {
      "cell_type": "markdown",
      "source": [
        "plot the tree"
      ],
      "metadata": {
        "id": "DsB5ebT8T89m"
      }
    },
    {
      "cell_type": "code",
      "source": [
        "fig = plt.figure(figsize=(7,7))\n",
        "_ = tree.plot_tree(tree_model_3,\n",
        "                   feature_names=titanic_encoded_X.columns.to_list(), # make sure the feature names are in output\n",
        "                   filled=True) # filled true color codes by the class. shading indicates proportion or quality of split"
      ],
      "metadata": {
        "id": "Ufi28th_UFvm"
      },
      "execution_count": null,
      "outputs": []
    },
    {
      "cell_type": "markdown",
      "metadata": {
        "id": "PFhTopLWqwK4"
      },
      "source": [
        "# 5 Generate performance metrics"
      ]
    },
    {
      "cell_type": "code",
      "metadata": {
        "id": "a7B7QFG3rFWU"
      },
      "source": [
        "# predict() applies a model (1st argument) to a data set (2nd argument).\n",
        "# Let's apply it to the whole data set that was used to train the model \n",
        "# to see the model's performance metrics in training data (i.e., not holdout evaluation)\n",
        "# Take a look at the structure and summary of predicted_Survived_w1 to understand the output of predict()"
      ],
      "execution_count": null,
      "outputs": []
    },
    {
      "cell_type": "code",
      "metadata": {
        "id": "69OrJ8Xnbid-"
      },
      "source": [
        "# create a confusion matrix comparing y_true and y_predicted\n",
        "model_1_pred = tree_model_1.predict(titanic_encoded_X)\n",
        "\n",
        "print(model_1_pred[0:10])\n",
        "print(model_1_pred.shape)"
      ],
      "execution_count": null,
      "outputs": []
    },
    {
      "cell_type": "code",
      "metadata": {
        "id": "82SetOarrqE-"
      },
      "source": [
        "print(len(model_1_pred))"
      ],
      "execution_count": null,
      "outputs": []
    },
    {
      "cell_type": "markdown",
      "metadata": {
        "id": "Cp7lo8fgZarK"
      },
      "source": [
        "### model 1,2,3 performance metrics"
      ]
    },
    {
      "cell_type": "code",
      "metadata": {
        "id": "wL_7KzForync"
      },
      "source": [
        "model_2_pred = tree_model_2.predict(titanic_encoded_X)"
      ],
      "execution_count": null,
      "outputs": []
    },
    {
      "cell_type": "code",
      "source": [
        "model_3_pred = tree_model_3.predict(titanic_encoded_X)"
      ],
      "metadata": {
        "id": "xMIXmbJwVFT3"
      },
      "execution_count": null,
      "outputs": []
    },
    {
      "cell_type": "code",
      "metadata": {
        "id": "vtRts6VFrr6g"
      },
      "source": [
        "model_1_cf = confusion_matrix(y_true=y_target,y_pred=model_1_pred)\n",
        "model_1_cf"
      ],
      "execution_count": null,
      "outputs": []
    },
    {
      "cell_type": "code",
      "metadata": {
        "id": "RobtTvfqr56U"
      },
      "source": [
        "model_2_cf = confusion_matrix(y_true=y_target,y_pred=model_2_pred)\n",
        "model_2_cf"
      ],
      "execution_count": null,
      "outputs": []
    },
    {
      "cell_type": "code",
      "source": [
        "model_3_cf = confusion_matrix(y_true=y_target,y_pred=model_3_pred)\n",
        "model_3_cf"
      ],
      "metadata": {
        "id": "ml1-Gcy6VAhw"
      },
      "execution_count": null,
      "outputs": []
    },
    {
      "cell_type": "markdown",
      "metadata": {
        "id": "5GaLv9S_tHWe"
      },
      "source": [
        "### recall, precision f1 etc"
      ]
    },
    {
      "cell_type": "code",
      "metadata": {
        "id": "Y6q5c-o0sL3R"
      },
      "source": [
        "# performance of the tree_model_1\n",
        "# be sure to compare these metrics across the models\n",
        "# metrics themselves are more useful when comparing across models\n",
        "print(metrics.classification_report(y_target,model_1_pred))"
      ],
      "execution_count": null,
      "outputs": []
    },
    {
      "cell_type": "code",
      "metadata": {
        "id": "lf81go9jssYn"
      },
      "source": [
        "print(metrics.classification_report(y_target,model_2_pred))"
      ],
      "execution_count": null,
      "outputs": []
    },
    {
      "cell_type": "code",
      "source": [
        "print(metrics.classification_report(y_target,model_3_pred))"
      ],
      "metadata": {
        "id": "_Bi1aEZpUPg9"
      },
      "execution_count": null,
      "outputs": []
    }
  ]
}