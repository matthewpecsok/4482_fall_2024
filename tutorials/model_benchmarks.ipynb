{
  "nbformat": 4,
  "nbformat_minor": 0,
  "metadata": {
    "colab": {
      "provenance": [],
      "collapsed_sections": [],
      "toc_visible": true,
      "authorship_tag": "ABX9TyP7HGfnnj6Wuh5dV4RPgySN",
      "include_colab_link": true
    },
    "kernelspec": {
      "name": "python3",
      "display_name": "Python 3"
    },
    "language_info": {
      "name": "python"
    }
  },
  "cells": [
    {
      "cell_type": "markdown",
      "metadata": {
        "id": "view-in-github",
        "colab_type": "text"
      },
      "source": [
        "<a href=\"https://colab.research.google.com/github/matthewpecsok/4482_fall_2022/blob/main/tutorials/model_benchmarks.ipynb\" target=\"_parent\"><img src=\"https://colab.research.google.com/assets/colab-badge.svg\" alt=\"Open In Colab\"/></a>"
      ]
    },
    {
      "cell_type": "code",
      "execution_count": null,
      "metadata": {
        "id": "jCJGU5TsF4Q6"
      },
      "outputs": [],
      "source": [
        "from sklearn.model_selection import train_test_split\n",
        "from sklearn.model_selection import KFold\n",
        "import pandas as pd\n",
        "from sklearn.dummy import DummyClassifier\n",
        "from sklearn.model_selection import cross_validate\n",
        "from sklearn.model_selection import train_test_split\n",
        "from sklearn.tree import DecisionTreeClassifier\n",
        "from sklearn import metrics\n",
        "import matplotlib.pyplot as plt\n",
        "from sklearn import tree\n",
        "from sklearn.model_selection import StratifiedKFold\n",
        "from sklearn.metrics import confusion_matrix"
      ]
    },
    {
      "cell_type": "markdown",
      "source": [
        "# Balanced Target Example"
      ],
      "metadata": {
        "id": "f5Cs4b5Anqg6"
      }
    },
    {
      "cell_type": "markdown",
      "source": [
        "## Import, transform, fit and predict"
      ],
      "metadata": {
        "id": "VgchvrA1oDiT"
      }
    },
    {
      "cell_type": "code",
      "source": [
        "cd_additional_balanced = pd.read_csv('https://raw.githubusercontent.com/matthewpecsok/4482_fall_2022/main/data/CD_additional_balanced.csv')"
      ],
      "metadata": {
        "id": "AOZxN6fxHqML"
      },
      "execution_count": null,
      "outputs": []
    },
    {
      "cell_type": "code",
      "source": [
        "cd_additional_balanced.y.value_counts()"
      ],
      "metadata": {
        "colab": {
          "base_uri": "https://localhost:8080/"
        },
        "id": "DZePEvE3X1FA",
        "outputId": "97f15fc7-e80e-41fd-ae69-3a7eec15aa3c"
      },
      "execution_count": null,
      "outputs": [
        {
          "output_type": "execute_result",
          "data": {
            "text/plain": [
              "yes    4640\n",
              "no     4640\n",
              "Name: y, dtype: int64"
            ]
          },
          "metadata": {},
          "execution_count": 4
        }
      ]
    },
    {
      "cell_type": "code",
      "source": [
        "cd_additional_balanced.y.value_counts(normalize=True)"
      ],
      "metadata": {
        "colab": {
          "base_uri": "https://localhost:8080/"
        },
        "id": "WW4YspWPoKTt",
        "outputId": "8a97127c-dbad-4df7-b5fb-aa190494e1c3"
      },
      "execution_count": null,
      "outputs": [
        {
          "output_type": "execute_result",
          "data": {
            "text/plain": [
              "yes    0.5\n",
              "no     0.5\n",
              "Name: y, dtype: float64"
            ]
          },
          "metadata": {},
          "execution_count": 5
        }
      ]
    },
    {
      "cell_type": "code",
      "source": [
        "balanced_y_target = cd_additional_balanced.pop('y')"
      ],
      "metadata": {
        "id": "qWywmQPPVWn9"
      },
      "execution_count": null,
      "outputs": []
    },
    {
      "cell_type": "code",
      "source": [
        "balanced_y_target = balanced_y_target.eq('yes').mul(1)"
      ],
      "metadata": {
        "id": "Nc3Ww0j1YaUE"
      },
      "execution_count": null,
      "outputs": []
    },
    {
      "cell_type": "code",
      "source": [
        "cd_additional_balanced_enc = pd.get_dummies(cd_additional_balanced)"
      ],
      "metadata": {
        "id": "nGp-iWGjVbJ1"
      },
      "execution_count": null,
      "outputs": []
    },
    {
      "cell_type": "markdown",
      "source": [
        "## our real model performance"
      ],
      "metadata": {
        "id": "Tz-hjUsoph37"
      }
    },
    {
      "cell_type": "code",
      "source": [
        "scores = cross_validate(\n",
        "    DecisionTreeClassifier(criterion='entropy',\n",
        "                           ccp_alpha=.002,\n",
        "                           random_state=42), \n",
        "    cd_additional_balanced_enc, \n",
        "    balanced_y_target,\n",
        "    cv=StratifiedKFold(n_splits=3,shuffle=True,random_state=True),\n",
        "    scoring=['accuracy','recall','precision'],\n",
        "    return_train_score=True)\n",
        "pd.DataFrame(scores)"
      ],
      "metadata": {
        "colab": {
          "base_uri": "https://localhost:8080/",
          "height": 207
        },
        "id": "a0OsC9f-R_nf",
        "outputId": "69280cdd-9394-47bf-d0f0-4390f5be9f93"
      },
      "execution_count": null,
      "outputs": [
        {
          "output_type": "execute_result",
          "data": {
            "text/plain": [
              "   fit_time  score_time  test_accuracy  train_accuracy  test_recall  \\\n",
              "0  0.073947    0.008671       0.879121        0.881668     0.952165   \n",
              "1  0.064335    0.008283       0.869382        0.884758     0.910795   \n",
              "2  0.062147    0.022880       0.868089        0.881041     0.932083   \n",
              "\n",
              "   train_recall  test_precision  train_precision  \n",
              "0      0.958940        0.830795         0.830580  \n",
              "1      0.925315        0.841194         0.855861  \n",
              "2      0.947641        0.826261         0.836281  "
            ],
            "text/html": [
              "\n",
              "  <div id=\"df-05495bb6-1e25-445b-98a2-766b3be6cb23\">\n",
              "    <div class=\"colab-df-container\">\n",
              "      <div>\n",
              "<style scoped>\n",
              "    .dataframe tbody tr th:only-of-type {\n",
              "        vertical-align: middle;\n",
              "    }\n",
              "\n",
              "    .dataframe tbody tr th {\n",
              "        vertical-align: top;\n",
              "    }\n",
              "\n",
              "    .dataframe thead th {\n",
              "        text-align: right;\n",
              "    }\n",
              "</style>\n",
              "<table border=\"1\" class=\"dataframe\">\n",
              "  <thead>\n",
              "    <tr style=\"text-align: right;\">\n",
              "      <th></th>\n",
              "      <th>fit_time</th>\n",
              "      <th>score_time</th>\n",
              "      <th>test_accuracy</th>\n",
              "      <th>train_accuracy</th>\n",
              "      <th>test_recall</th>\n",
              "      <th>train_recall</th>\n",
              "      <th>test_precision</th>\n",
              "      <th>train_precision</th>\n",
              "    </tr>\n",
              "  </thead>\n",
              "  <tbody>\n",
              "    <tr>\n",
              "      <th>0</th>\n",
              "      <td>0.073947</td>\n",
              "      <td>0.008671</td>\n",
              "      <td>0.879121</td>\n",
              "      <td>0.881668</td>\n",
              "      <td>0.952165</td>\n",
              "      <td>0.958940</td>\n",
              "      <td>0.830795</td>\n",
              "      <td>0.830580</td>\n",
              "    </tr>\n",
              "    <tr>\n",
              "      <th>1</th>\n",
              "      <td>0.064335</td>\n",
              "      <td>0.008283</td>\n",
              "      <td>0.869382</td>\n",
              "      <td>0.884758</td>\n",
              "      <td>0.910795</td>\n",
              "      <td>0.925315</td>\n",
              "      <td>0.841194</td>\n",
              "      <td>0.855861</td>\n",
              "    </tr>\n",
              "    <tr>\n",
              "      <th>2</th>\n",
              "      <td>0.062147</td>\n",
              "      <td>0.022880</td>\n",
              "      <td>0.868089</td>\n",
              "      <td>0.881041</td>\n",
              "      <td>0.932083</td>\n",
              "      <td>0.947641</td>\n",
              "      <td>0.826261</td>\n",
              "      <td>0.836281</td>\n",
              "    </tr>\n",
              "  </tbody>\n",
              "</table>\n",
              "</div>\n",
              "      <button class=\"colab-df-convert\" onclick=\"convertToInteractive('df-05495bb6-1e25-445b-98a2-766b3be6cb23')\"\n",
              "              title=\"Convert this dataframe to an interactive table.\"\n",
              "              style=\"display:none;\">\n",
              "        \n",
              "  <svg xmlns=\"http://www.w3.org/2000/svg\" height=\"24px\"viewBox=\"0 0 24 24\"\n",
              "       width=\"24px\">\n",
              "    <path d=\"M0 0h24v24H0V0z\" fill=\"none\"/>\n",
              "    <path d=\"M18.56 5.44l.94 2.06.94-2.06 2.06-.94-2.06-.94-.94-2.06-.94 2.06-2.06.94zm-11 1L8.5 8.5l.94-2.06 2.06-.94-2.06-.94L8.5 2.5l-.94 2.06-2.06.94zm10 10l.94 2.06.94-2.06 2.06-.94-2.06-.94-.94-2.06-.94 2.06-2.06.94z\"/><path d=\"M17.41 7.96l-1.37-1.37c-.4-.4-.92-.59-1.43-.59-.52 0-1.04.2-1.43.59L10.3 9.45l-7.72 7.72c-.78.78-.78 2.05 0 2.83L4 21.41c.39.39.9.59 1.41.59.51 0 1.02-.2 1.41-.59l7.78-7.78 2.81-2.81c.8-.78.8-2.07 0-2.86zM5.41 20L4 18.59l7.72-7.72 1.47 1.35L5.41 20z\"/>\n",
              "  </svg>\n",
              "      </button>\n",
              "      \n",
              "  <style>\n",
              "    .colab-df-container {\n",
              "      display:flex;\n",
              "      flex-wrap:wrap;\n",
              "      gap: 12px;\n",
              "    }\n",
              "\n",
              "    .colab-df-convert {\n",
              "      background-color: #E8F0FE;\n",
              "      border: none;\n",
              "      border-radius: 50%;\n",
              "      cursor: pointer;\n",
              "      display: none;\n",
              "      fill: #1967D2;\n",
              "      height: 32px;\n",
              "      padding: 0 0 0 0;\n",
              "      width: 32px;\n",
              "    }\n",
              "\n",
              "    .colab-df-convert:hover {\n",
              "      background-color: #E2EBFA;\n",
              "      box-shadow: 0px 1px 2px rgba(60, 64, 67, 0.3), 0px 1px 3px 1px rgba(60, 64, 67, 0.15);\n",
              "      fill: #174EA6;\n",
              "    }\n",
              "\n",
              "    [theme=dark] .colab-df-convert {\n",
              "      background-color: #3B4455;\n",
              "      fill: #D2E3FC;\n",
              "    }\n",
              "\n",
              "    [theme=dark] .colab-df-convert:hover {\n",
              "      background-color: #434B5C;\n",
              "      box-shadow: 0px 1px 3px 1px rgba(0, 0, 0, 0.15);\n",
              "      filter: drop-shadow(0px 1px 2px rgba(0, 0, 0, 0.3));\n",
              "      fill: #FFFFFF;\n",
              "    }\n",
              "  </style>\n",
              "\n",
              "      <script>\n",
              "        const buttonEl =\n",
              "          document.querySelector('#df-05495bb6-1e25-445b-98a2-766b3be6cb23 button.colab-df-convert');\n",
              "        buttonEl.style.display =\n",
              "          google.colab.kernel.accessAllowed ? 'block' : 'none';\n",
              "\n",
              "        async function convertToInteractive(key) {\n",
              "          const element = document.querySelector('#df-05495bb6-1e25-445b-98a2-766b3be6cb23');\n",
              "          const dataTable =\n",
              "            await google.colab.kernel.invokeFunction('convertToInteractive',\n",
              "                                                     [key], {});\n",
              "          if (!dataTable) return;\n",
              "\n",
              "          const docLinkHtml = 'Like what you see? Visit the ' +\n",
              "            '<a target=\"_blank\" href=https://colab.research.google.com/notebooks/data_table.ipynb>data table notebook</a>'\n",
              "            + ' to learn more about interactive tables.';\n",
              "          element.innerHTML = '';\n",
              "          dataTable['output_type'] = 'display_data';\n",
              "          await google.colab.output.renderOutput(dataTable, element);\n",
              "          const docLink = document.createElement('div');\n",
              "          docLink.innerHTML = docLinkHtml;\n",
              "          element.appendChild(docLink);\n",
              "        }\n",
              "      </script>\n",
              "    </div>\n",
              "  </div>\n",
              "  "
            ]
          },
          "metadata": {},
          "execution_count": 9
        }
      ]
    },
    {
      "cell_type": "markdown",
      "source": [
        "## random guessing\n",
        "\n",
        "we would expect to get ~50% correct by random guessing."
      ],
      "metadata": {
        "id": "9oGbQ1gcmjRl"
      }
    },
    {
      "cell_type": "code",
      "source": [
        "dummy_clf = DummyClassifier(strategy=\"uniform\")\n",
        "dummy_clf.fit(cd_additional_balanced_enc, balanced_y_target)\n",
        "\n",
        "print(confusion_matrix(y_true=balanced_y_target,y_pred=dummy_clf.predict(cd_additional_balanced_enc)))"
      ],
      "metadata": {
        "id": "FT93RFH_Znb4",
        "colab": {
          "base_uri": "https://localhost:8080/"
        },
        "outputId": "684e06e9-8a87-40ea-e661-63c57cc4ee6d"
      },
      "execution_count": null,
      "outputs": [
        {
          "output_type": "stream",
          "name": "stdout",
          "text": [
            "[[2291 2349]\n",
            " [2252 2388]]\n"
          ]
        }
      ]
    },
    {
      "cell_type": "code",
      "source": [
        "print(metrics.classification_report(balanced_y_target,dummy_clf.predict(cd_additional_balanced_enc)))"
      ],
      "metadata": {
        "id": "cnu-aDrnGKyw",
        "outputId": "c1e34cd5-ed3d-4555-8950-4cfd855bc675",
        "colab": {
          "base_uri": "https://localhost:8080/"
        }
      },
      "execution_count": null,
      "outputs": [
        {
          "output_type": "stream",
          "name": "stdout",
          "text": [
            "              precision    recall  f1-score   support\n",
            "\n",
            "           0       0.50      0.52      0.51      4640\n",
            "           1       0.50      0.49      0.50      4640\n",
            "\n",
            "    accuracy                           0.50      9280\n",
            "   macro avg       0.50      0.50      0.50      9280\n",
            "weighted avg       0.50      0.50      0.50      9280\n",
            "\n"
          ]
        }
      ]
    },
    {
      "cell_type": "markdown",
      "source": [
        "## majority classifier \n",
        "\n",
        "Accuracy: we would expect to get an accuracy approximately equal to the majority class proportion. \n",
        "\n",
        "Recall: we would expect to 100% recall for the majority class and 0% for the minority. \n",
        "\n",
        "Precision: we would expect to have precision equal to prevalence/proportion of the majority class. "
      ],
      "metadata": {
        "id": "j5xb3wy0nV37"
      }
    },
    {
      "cell_type": "code",
      "source": [
        "dummy_clf = DummyClassifier(strategy=\"most_frequent\")\n",
        "dummy_clf.fit(cd_additional_balanced_enc, balanced_y_target)\n",
        "\n",
        "print(confusion_matrix(y_true=balanced_y_target,y_pred=dummy_clf.predict(cd_additional_balanced_enc)))"
      ],
      "metadata": {
        "colab": {
          "base_uri": "https://localhost:8080/"
        },
        "outputId": "9a8b0c39-664d-4ccb-bcbd-703470ba43b0",
        "id": "PeqtLrl7nV37"
      },
      "execution_count": null,
      "outputs": [
        {
          "output_type": "stream",
          "name": "stdout",
          "text": [
            "[[4640    0]\n",
            " [4640    0]]\n"
          ]
        }
      ]
    },
    {
      "cell_type": "code",
      "source": [
        "print(metrics.classification_report(balanced_y_target,dummy_clf.predict(cd_additional_balanced_enc)))"
      ],
      "metadata": {
        "colab": {
          "base_uri": "https://localhost:8080/"
        },
        "id": "027MihFJF9c4",
        "outputId": "b378f01f-7d4e-47ad-fb21-c25ea52de7c3"
      },
      "execution_count": null,
      "outputs": [
        {
          "output_type": "stream",
          "name": "stdout",
          "text": [
            "              precision    recall  f1-score   support\n",
            "\n",
            "           0       0.50      1.00      0.67      4640\n",
            "           1       0.00      0.00      0.00      4640\n",
            "\n",
            "    accuracy                           0.50      9280\n",
            "   macro avg       0.25      0.50      0.33      9280\n",
            "weighted avg       0.25      0.50      0.33      9280\n",
            "\n"
          ]
        },
        {
          "output_type": "stream",
          "name": "stderr",
          "text": [
            "/usr/local/lib/python3.7/dist-packages/sklearn/metrics/_classification.py:1318: UndefinedMetricWarning: Precision and F-score are ill-defined and being set to 0.0 in labels with no predicted samples. Use `zero_division` parameter to control this behavior.\n",
            "  _warn_prf(average, modifier, msg_start, len(result))\n",
            "/usr/local/lib/python3.7/dist-packages/sklearn/metrics/_classification.py:1318: UndefinedMetricWarning: Precision and F-score are ill-defined and being set to 0.0 in labels with no predicted samples. Use `zero_division` parameter to control this behavior.\n",
            "  _warn_prf(average, modifier, msg_start, len(result))\n",
            "/usr/local/lib/python3.7/dist-packages/sklearn/metrics/_classification.py:1318: UndefinedMetricWarning: Precision and F-score are ill-defined and being set to 0.0 in labels with no predicted samples. Use `zero_division` parameter to control this behavior.\n",
            "  _warn_prf(average, modifier, msg_start, len(result))\n"
          ]
        }
      ]
    },
    {
      "cell_type": "markdown",
      "source": [
        "# Imbalanced Target Example"
      ],
      "metadata": {
        "id": "tYwBqffTnxsE"
      }
    },
    {
      "cell_type": "markdown",
      "source": [
        "## Import, transform, fit and predict"
      ],
      "metadata": {
        "id": "nQ-9QylCoWk4"
      }
    },
    {
      "cell_type": "code",
      "source": [
        "cd_additional_modified = pd.read_csv('https://raw.githubusercontent.com/matthewpecsok/4482_fall_2022/main/data/CD_additional_modified.csv')"
      ],
      "metadata": {
        "id": "jMbB6-KeoReB"
      },
      "execution_count": null,
      "outputs": []
    },
    {
      "cell_type": "code",
      "source": [
        "cd_additional_modified.y.value_counts()"
      ],
      "metadata": {
        "colab": {
          "base_uri": "https://localhost:8080/"
        },
        "outputId": "4454db4a-f432-40fc-8a16-df354dc799e4",
        "id": "91N185-ioReB"
      },
      "execution_count": null,
      "outputs": [
        {
          "output_type": "execute_result",
          "data": {
            "text/plain": [
              "no     3668\n",
              "yes     451\n",
              "Name: y, dtype: int64"
            ]
          },
          "metadata": {},
          "execution_count": 14
        }
      ]
    },
    {
      "cell_type": "code",
      "source": [
        "cd_additional_modified.y.value_counts(normalize=True)"
      ],
      "metadata": {
        "outputId": "ed488334-5fbd-416e-a0e1-71ed891c8afe",
        "colab": {
          "base_uri": "https://localhost:8080/"
        },
        "id": "EDT1_rajoReC"
      },
      "execution_count": null,
      "outputs": [
        {
          "output_type": "execute_result",
          "data": {
            "text/plain": [
              "no     0.890507\n",
              "yes    0.109493\n",
              "Name: y, dtype: float64"
            ]
          },
          "metadata": {},
          "execution_count": 15
        }
      ]
    },
    {
      "cell_type": "code",
      "source": [
        "imbalanced_y_target = cd_additional_modified.pop('y')"
      ],
      "metadata": {
        "id": "514jp27moReC"
      },
      "execution_count": null,
      "outputs": []
    },
    {
      "cell_type": "code",
      "source": [
        "imbalanced_y_target = imbalanced_y_target.eq('yes').mul(1)"
      ],
      "metadata": {
        "id": "P91kMmsCoReC"
      },
      "execution_count": null,
      "outputs": []
    },
    {
      "cell_type": "code",
      "source": [
        "cd_additional_modified_enc = pd.get_dummies(cd_additional_modified)"
      ],
      "metadata": {
        "id": "GMOvei8QoReC"
      },
      "execution_count": null,
      "outputs": []
    },
    {
      "cell_type": "markdown",
      "source": [
        "## our real model performance"
      ],
      "metadata": {
        "id": "O1useW3YrALX"
      }
    },
    {
      "cell_type": "code",
      "source": [
        "scores = cross_validate(\n",
        "    DecisionTreeClassifier(\n",
        "        ccp_alpha=0.01), \n",
        "        cd_additional_modified_enc, \n",
        "        imbalanced_y_target, \n",
        "        cv=StratifiedKFold(\n",
        "            n_splits=3,\n",
        "            shuffle=True,\n",
        "            random_state=True),\n",
        "        scoring=['accuracy','recall','precision'],\n",
        "        return_train_score=True)\n",
        "pd.DataFrame(scores)"
      ],
      "metadata": {
        "colab": {
          "base_uri": "https://localhost:8080/",
          "height": 207
        },
        "outputId": "ce728e06-5149-4f19-e5f2-4ea1da014928",
        "id": "dvyMYX3NoReC"
      },
      "execution_count": null,
      "outputs": [
        {
          "output_type": "execute_result",
          "data": {
            "text/plain": [
              "   fit_time  score_time  test_accuracy  train_accuracy  test_recall  \\\n",
              "0  0.027924    0.006825       0.909687        0.907138     0.346667   \n",
              "1  0.022855    0.007267       0.907502        0.904224     0.453333   \n",
              "2  0.023028    0.006920       0.898762        0.908594     0.397351   \n",
              "\n",
              "   train_recall  test_precision  train_precision  \n",
              "0      0.345515        0.666667         0.641975  \n",
              "1      0.428571        0.601770         0.586364  \n",
              "2      0.456667        0.555556         0.608889  "
            ],
            "text/html": [
              "\n",
              "  <div id=\"df-8d8795a2-8726-447f-b97d-5d74b66f9e4f\">\n",
              "    <div class=\"colab-df-container\">\n",
              "      <div>\n",
              "<style scoped>\n",
              "    .dataframe tbody tr th:only-of-type {\n",
              "        vertical-align: middle;\n",
              "    }\n",
              "\n",
              "    .dataframe tbody tr th {\n",
              "        vertical-align: top;\n",
              "    }\n",
              "\n",
              "    .dataframe thead th {\n",
              "        text-align: right;\n",
              "    }\n",
              "</style>\n",
              "<table border=\"1\" class=\"dataframe\">\n",
              "  <thead>\n",
              "    <tr style=\"text-align: right;\">\n",
              "      <th></th>\n",
              "      <th>fit_time</th>\n",
              "      <th>score_time</th>\n",
              "      <th>test_accuracy</th>\n",
              "      <th>train_accuracy</th>\n",
              "      <th>test_recall</th>\n",
              "      <th>train_recall</th>\n",
              "      <th>test_precision</th>\n",
              "      <th>train_precision</th>\n",
              "    </tr>\n",
              "  </thead>\n",
              "  <tbody>\n",
              "    <tr>\n",
              "      <th>0</th>\n",
              "      <td>0.027924</td>\n",
              "      <td>0.006825</td>\n",
              "      <td>0.909687</td>\n",
              "      <td>0.907138</td>\n",
              "      <td>0.346667</td>\n",
              "      <td>0.345515</td>\n",
              "      <td>0.666667</td>\n",
              "      <td>0.641975</td>\n",
              "    </tr>\n",
              "    <tr>\n",
              "      <th>1</th>\n",
              "      <td>0.022855</td>\n",
              "      <td>0.007267</td>\n",
              "      <td>0.907502</td>\n",
              "      <td>0.904224</td>\n",
              "      <td>0.453333</td>\n",
              "      <td>0.428571</td>\n",
              "      <td>0.601770</td>\n",
              "      <td>0.586364</td>\n",
              "    </tr>\n",
              "    <tr>\n",
              "      <th>2</th>\n",
              "      <td>0.023028</td>\n",
              "      <td>0.006920</td>\n",
              "      <td>0.898762</td>\n",
              "      <td>0.908594</td>\n",
              "      <td>0.397351</td>\n",
              "      <td>0.456667</td>\n",
              "      <td>0.555556</td>\n",
              "      <td>0.608889</td>\n",
              "    </tr>\n",
              "  </tbody>\n",
              "</table>\n",
              "</div>\n",
              "      <button class=\"colab-df-convert\" onclick=\"convertToInteractive('df-8d8795a2-8726-447f-b97d-5d74b66f9e4f')\"\n",
              "              title=\"Convert this dataframe to an interactive table.\"\n",
              "              style=\"display:none;\">\n",
              "        \n",
              "  <svg xmlns=\"http://www.w3.org/2000/svg\" height=\"24px\"viewBox=\"0 0 24 24\"\n",
              "       width=\"24px\">\n",
              "    <path d=\"M0 0h24v24H0V0z\" fill=\"none\"/>\n",
              "    <path d=\"M18.56 5.44l.94 2.06.94-2.06 2.06-.94-2.06-.94-.94-2.06-.94 2.06-2.06.94zm-11 1L8.5 8.5l.94-2.06 2.06-.94-2.06-.94L8.5 2.5l-.94 2.06-2.06.94zm10 10l.94 2.06.94-2.06 2.06-.94-2.06-.94-.94-2.06-.94 2.06-2.06.94z\"/><path d=\"M17.41 7.96l-1.37-1.37c-.4-.4-.92-.59-1.43-.59-.52 0-1.04.2-1.43.59L10.3 9.45l-7.72 7.72c-.78.78-.78 2.05 0 2.83L4 21.41c.39.39.9.59 1.41.59.51 0 1.02-.2 1.41-.59l7.78-7.78 2.81-2.81c.8-.78.8-2.07 0-2.86zM5.41 20L4 18.59l7.72-7.72 1.47 1.35L5.41 20z\"/>\n",
              "  </svg>\n",
              "      </button>\n",
              "      \n",
              "  <style>\n",
              "    .colab-df-container {\n",
              "      display:flex;\n",
              "      flex-wrap:wrap;\n",
              "      gap: 12px;\n",
              "    }\n",
              "\n",
              "    .colab-df-convert {\n",
              "      background-color: #E8F0FE;\n",
              "      border: none;\n",
              "      border-radius: 50%;\n",
              "      cursor: pointer;\n",
              "      display: none;\n",
              "      fill: #1967D2;\n",
              "      height: 32px;\n",
              "      padding: 0 0 0 0;\n",
              "      width: 32px;\n",
              "    }\n",
              "\n",
              "    .colab-df-convert:hover {\n",
              "      background-color: #E2EBFA;\n",
              "      box-shadow: 0px 1px 2px rgba(60, 64, 67, 0.3), 0px 1px 3px 1px rgba(60, 64, 67, 0.15);\n",
              "      fill: #174EA6;\n",
              "    }\n",
              "\n",
              "    [theme=dark] .colab-df-convert {\n",
              "      background-color: #3B4455;\n",
              "      fill: #D2E3FC;\n",
              "    }\n",
              "\n",
              "    [theme=dark] .colab-df-convert:hover {\n",
              "      background-color: #434B5C;\n",
              "      box-shadow: 0px 1px 3px 1px rgba(0, 0, 0, 0.15);\n",
              "      filter: drop-shadow(0px 1px 2px rgba(0, 0, 0, 0.3));\n",
              "      fill: #FFFFFF;\n",
              "    }\n",
              "  </style>\n",
              "\n",
              "      <script>\n",
              "        const buttonEl =\n",
              "          document.querySelector('#df-8d8795a2-8726-447f-b97d-5d74b66f9e4f button.colab-df-convert');\n",
              "        buttonEl.style.display =\n",
              "          google.colab.kernel.accessAllowed ? 'block' : 'none';\n",
              "\n",
              "        async function convertToInteractive(key) {\n",
              "          const element = document.querySelector('#df-8d8795a2-8726-447f-b97d-5d74b66f9e4f');\n",
              "          const dataTable =\n",
              "            await google.colab.kernel.invokeFunction('convertToInteractive',\n",
              "                                                     [key], {});\n",
              "          if (!dataTable) return;\n",
              "\n",
              "          const docLinkHtml = 'Like what you see? Visit the ' +\n",
              "            '<a target=\"_blank\" href=https://colab.research.google.com/notebooks/data_table.ipynb>data table notebook</a>'\n",
              "            + ' to learn more about interactive tables.';\n",
              "          element.innerHTML = '';\n",
              "          dataTable['output_type'] = 'display_data';\n",
              "          await google.colab.output.renderOutput(dataTable, element);\n",
              "          const docLink = document.createElement('div');\n",
              "          docLink.innerHTML = docLinkHtml;\n",
              "          element.appendChild(docLink);\n",
              "        }\n",
              "      </script>\n",
              "    </div>\n",
              "  </div>\n",
              "  "
            ]
          },
          "metadata": {},
          "execution_count": 19
        }
      ]
    },
    {
      "cell_type": "markdown",
      "source": [
        "## random guessing\n",
        "\n",
        "we would expect to get ~50% correct by random guessing. but we get a lot more instances correct of the majority class, than the minority class."
      ],
      "metadata": {
        "id": "1WlsnVWNnxsF"
      }
    },
    {
      "cell_type": "code",
      "source": [
        "dummy_clf = DummyClassifier(strategy=\"uniform\")\n",
        "dummy_clf.fit(cd_additional_modified_enc, imbalanced_y_target)\n",
        "\n",
        "print(confusion_matrix(y_true=imbalanced_y_target,y_pred=dummy_clf.predict(cd_additional_modified_enc)))"
      ],
      "metadata": {
        "colab": {
          "base_uri": "https://localhost:8080/"
        },
        "outputId": "d77f8590-40f3-449c-e891-f7e90552d1f5",
        "id": "MT97Rg_0nxsF"
      },
      "execution_count": null,
      "outputs": [
        {
          "output_type": "stream",
          "name": "stdout",
          "text": [
            "[[1804 1864]\n",
            " [ 245  206]]\n"
          ]
        }
      ]
    },
    {
      "cell_type": "code",
      "source": [
        "print(metrics.classification_report(imbalanced_y_target,dummy_clf.predict(cd_additional_modified_enc)))"
      ],
      "metadata": {
        "colab": {
          "base_uri": "https://localhost:8080/"
        },
        "id": "FFu65aOBF0ym",
        "outputId": "0e0dc65f-a634-46c1-e5fd-908cf24263c8"
      },
      "execution_count": null,
      "outputs": [
        {
          "output_type": "stream",
          "name": "stdout",
          "text": [
            "              precision    recall  f1-score   support\n",
            "\n",
            "           0       0.88      0.48      0.62      3668\n",
            "           1       0.10      0.48      0.17       451\n",
            "\n",
            "    accuracy                           0.48      4119\n",
            "   macro avg       0.49      0.48      0.40      4119\n",
            "weighted avg       0.80      0.48      0.57      4119\n",
            "\n"
          ]
        }
      ]
    },
    {
      "cell_type": "markdown",
      "source": [
        "## majority classifier \n",
        "\n",
        "Accuracy: we would expect to get an accuracy approximately equal to the majority class proportion. \n",
        "\n",
        "Recall: we would expect to 100% recall for the majority class and 0% for the minority. \n",
        "\n",
        "Precision: we would expect to have precision equal to prevalence/proportion of the majority class. \n",
        "\n",
        "Notice compared to our real classifier, how the accuracy is very similar but how far off the recall and precision are. "
      ],
      "metadata": {
        "id": "-bdaqa_znxsF"
      }
    },
    {
      "cell_type": "code",
      "source": [
        "dummy_clf = DummyClassifier(strategy=\"most_frequent\")\n",
        "dummy_clf.fit(cd_additional_modified_enc, imbalanced_y_target)\n",
        "\n",
        "print(confusion_matrix(y_true=imbalanced_y_target,y_pred=dummy_clf.predict(cd_additional_modified_enc)))\n"
      ],
      "metadata": {
        "colab": {
          "base_uri": "https://localhost:8080/"
        },
        "outputId": "06961b8d-0038-43cc-d2e6-0a2e76e71e41",
        "id": "e0QqOSuInxsF"
      },
      "execution_count": null,
      "outputs": [
        {
          "output_type": "stream",
          "name": "stdout",
          "text": [
            "[[3668    0]\n",
            " [ 451    0]]\n"
          ]
        }
      ]
    },
    {
      "cell_type": "code",
      "source": [
        "print(metrics.classification_report(imbalanced_y_target,dummy_clf.predict(cd_additional_modified_enc)))"
      ],
      "metadata": {
        "colab": {
          "base_uri": "https://localhost:8080/"
        },
        "id": "10gyDqRNFr9y",
        "outputId": "dce8447a-6ab9-4b0f-fec0-8b89d09601de"
      },
      "execution_count": null,
      "outputs": [
        {
          "output_type": "stream",
          "name": "stdout",
          "text": [
            "              precision    recall  f1-score   support\n",
            "\n",
            "           0       0.89      1.00      0.94      3668\n",
            "           1       0.00      0.00      0.00       451\n",
            "\n",
            "    accuracy                           0.89      4119\n",
            "   macro avg       0.45      0.50      0.47      4119\n",
            "weighted avg       0.79      0.89      0.84      4119\n",
            "\n"
          ]
        },
        {
          "output_type": "stream",
          "name": "stderr",
          "text": [
            "/usr/local/lib/python3.7/dist-packages/sklearn/metrics/_classification.py:1318: UndefinedMetricWarning: Precision and F-score are ill-defined and being set to 0.0 in labels with no predicted samples. Use `zero_division` parameter to control this behavior.\n",
            "  _warn_prf(average, modifier, msg_start, len(result))\n",
            "/usr/local/lib/python3.7/dist-packages/sklearn/metrics/_classification.py:1318: UndefinedMetricWarning: Precision and F-score are ill-defined and being set to 0.0 in labels with no predicted samples. Use `zero_division` parameter to control this behavior.\n",
            "  _warn_prf(average, modifier, msg_start, len(result))\n",
            "/usr/local/lib/python3.7/dist-packages/sklearn/metrics/_classification.py:1318: UndefinedMetricWarning: Precision and F-score are ill-defined and being set to 0.0 in labels with no predicted samples. Use `zero_division` parameter to control this behavior.\n",
            "  _warn_prf(average, modifier, msg_start, len(result))\n"
          ]
        }
      ]
    },
    {
      "cell_type": "markdown",
      "source": [
        "# What does overfitting look like? This.\n",
        "\n",
        "Note the huge dropoff in metrics from train to test sets."
      ],
      "metadata": {
        "id": "w_Emew7EEI-h"
      }
    },
    {
      "cell_type": "code",
      "source": [
        "scores = cross_validate(\n",
        "    DecisionTreeClassifier(\n",
        "        ccp_alpha=0), \n",
        "        cd_additional_modified_enc, \n",
        "        imbalanced_y_target, \n",
        "        cv=StratifiedKFold(\n",
        "            n_splits=3,\n",
        "            shuffle=True,\n",
        "            random_state=True),\n",
        "        scoring=['accuracy','recall','precision'],\n",
        "        return_train_score=True)\n",
        "pd.DataFrame(scores)"
      ],
      "metadata": {
        "colab": {
          "base_uri": "https://localhost:8080/",
          "height": 207
        },
        "id": "x2pIadf9EO95",
        "outputId": "b1311a3e-4c5d-4967-def5-13b46260d013"
      },
      "execution_count": null,
      "outputs": [
        {
          "output_type": "execute_result",
          "data": {
            "text/plain": [
              "   fit_time  score_time  test_accuracy  train_accuracy  test_recall  \\\n",
              "0  0.045210    0.011858       0.885652             1.0     0.466667   \n",
              "1  0.039759    0.011868       0.884195             1.0     0.513333   \n",
              "2  0.037385    0.033662       0.883467             1.0     0.503311   \n",
              "\n",
              "   train_recall  test_precision  train_precision  \n",
              "0           1.0        0.476190              1.0  \n",
              "1           1.0        0.472393              1.0  \n",
              "2           1.0        0.472050              1.0  "
            ],
            "text/html": [
              "\n",
              "  <div id=\"df-b88907d9-969d-4d42-9ab9-84d9ab36e694\">\n",
              "    <div class=\"colab-df-container\">\n",
              "      <div>\n",
              "<style scoped>\n",
              "    .dataframe tbody tr th:only-of-type {\n",
              "        vertical-align: middle;\n",
              "    }\n",
              "\n",
              "    .dataframe tbody tr th {\n",
              "        vertical-align: top;\n",
              "    }\n",
              "\n",
              "    .dataframe thead th {\n",
              "        text-align: right;\n",
              "    }\n",
              "</style>\n",
              "<table border=\"1\" class=\"dataframe\">\n",
              "  <thead>\n",
              "    <tr style=\"text-align: right;\">\n",
              "      <th></th>\n",
              "      <th>fit_time</th>\n",
              "      <th>score_time</th>\n",
              "      <th>test_accuracy</th>\n",
              "      <th>train_accuracy</th>\n",
              "      <th>test_recall</th>\n",
              "      <th>train_recall</th>\n",
              "      <th>test_precision</th>\n",
              "      <th>train_precision</th>\n",
              "    </tr>\n",
              "  </thead>\n",
              "  <tbody>\n",
              "    <tr>\n",
              "      <th>0</th>\n",
              "      <td>0.045210</td>\n",
              "      <td>0.011858</td>\n",
              "      <td>0.885652</td>\n",
              "      <td>1.0</td>\n",
              "      <td>0.466667</td>\n",
              "      <td>1.0</td>\n",
              "      <td>0.476190</td>\n",
              "      <td>1.0</td>\n",
              "    </tr>\n",
              "    <tr>\n",
              "      <th>1</th>\n",
              "      <td>0.039759</td>\n",
              "      <td>0.011868</td>\n",
              "      <td>0.884195</td>\n",
              "      <td>1.0</td>\n",
              "      <td>0.513333</td>\n",
              "      <td>1.0</td>\n",
              "      <td>0.472393</td>\n",
              "      <td>1.0</td>\n",
              "    </tr>\n",
              "    <tr>\n",
              "      <th>2</th>\n",
              "      <td>0.037385</td>\n",
              "      <td>0.033662</td>\n",
              "      <td>0.883467</td>\n",
              "      <td>1.0</td>\n",
              "      <td>0.503311</td>\n",
              "      <td>1.0</td>\n",
              "      <td>0.472050</td>\n",
              "      <td>1.0</td>\n",
              "    </tr>\n",
              "  </tbody>\n",
              "</table>\n",
              "</div>\n",
              "      <button class=\"colab-df-convert\" onclick=\"convertToInteractive('df-b88907d9-969d-4d42-9ab9-84d9ab36e694')\"\n",
              "              title=\"Convert this dataframe to an interactive table.\"\n",
              "              style=\"display:none;\">\n",
              "        \n",
              "  <svg xmlns=\"http://www.w3.org/2000/svg\" height=\"24px\"viewBox=\"0 0 24 24\"\n",
              "       width=\"24px\">\n",
              "    <path d=\"M0 0h24v24H0V0z\" fill=\"none\"/>\n",
              "    <path d=\"M18.56 5.44l.94 2.06.94-2.06 2.06-.94-2.06-.94-.94-2.06-.94 2.06-2.06.94zm-11 1L8.5 8.5l.94-2.06 2.06-.94-2.06-.94L8.5 2.5l-.94 2.06-2.06.94zm10 10l.94 2.06.94-2.06 2.06-.94-2.06-.94-.94-2.06-.94 2.06-2.06.94z\"/><path d=\"M17.41 7.96l-1.37-1.37c-.4-.4-.92-.59-1.43-.59-.52 0-1.04.2-1.43.59L10.3 9.45l-7.72 7.72c-.78.78-.78 2.05 0 2.83L4 21.41c.39.39.9.59 1.41.59.51 0 1.02-.2 1.41-.59l7.78-7.78 2.81-2.81c.8-.78.8-2.07 0-2.86zM5.41 20L4 18.59l7.72-7.72 1.47 1.35L5.41 20z\"/>\n",
              "  </svg>\n",
              "      </button>\n",
              "      \n",
              "  <style>\n",
              "    .colab-df-container {\n",
              "      display:flex;\n",
              "      flex-wrap:wrap;\n",
              "      gap: 12px;\n",
              "    }\n",
              "\n",
              "    .colab-df-convert {\n",
              "      background-color: #E8F0FE;\n",
              "      border: none;\n",
              "      border-radius: 50%;\n",
              "      cursor: pointer;\n",
              "      display: none;\n",
              "      fill: #1967D2;\n",
              "      height: 32px;\n",
              "      padding: 0 0 0 0;\n",
              "      width: 32px;\n",
              "    }\n",
              "\n",
              "    .colab-df-convert:hover {\n",
              "      background-color: #E2EBFA;\n",
              "      box-shadow: 0px 1px 2px rgba(60, 64, 67, 0.3), 0px 1px 3px 1px rgba(60, 64, 67, 0.15);\n",
              "      fill: #174EA6;\n",
              "    }\n",
              "\n",
              "    [theme=dark] .colab-df-convert {\n",
              "      background-color: #3B4455;\n",
              "      fill: #D2E3FC;\n",
              "    }\n",
              "\n",
              "    [theme=dark] .colab-df-convert:hover {\n",
              "      background-color: #434B5C;\n",
              "      box-shadow: 0px 1px 3px 1px rgba(0, 0, 0, 0.15);\n",
              "      filter: drop-shadow(0px 1px 2px rgba(0, 0, 0, 0.3));\n",
              "      fill: #FFFFFF;\n",
              "    }\n",
              "  </style>\n",
              "\n",
              "      <script>\n",
              "        const buttonEl =\n",
              "          document.querySelector('#df-b88907d9-969d-4d42-9ab9-84d9ab36e694 button.colab-df-convert');\n",
              "        buttonEl.style.display =\n",
              "          google.colab.kernel.accessAllowed ? 'block' : 'none';\n",
              "\n",
              "        async function convertToInteractive(key) {\n",
              "          const element = document.querySelector('#df-b88907d9-969d-4d42-9ab9-84d9ab36e694');\n",
              "          const dataTable =\n",
              "            await google.colab.kernel.invokeFunction('convertToInteractive',\n",
              "                                                     [key], {});\n",
              "          if (!dataTable) return;\n",
              "\n",
              "          const docLinkHtml = 'Like what you see? Visit the ' +\n",
              "            '<a target=\"_blank\" href=https://colab.research.google.com/notebooks/data_table.ipynb>data table notebook</a>'\n",
              "            + ' to learn more about interactive tables.';\n",
              "          element.innerHTML = '';\n",
              "          dataTable['output_type'] = 'display_data';\n",
              "          await google.colab.output.renderOutput(dataTable, element);\n",
              "          const docLink = document.createElement('div');\n",
              "          docLink.innerHTML = docLinkHtml;\n",
              "          element.appendChild(docLink);\n",
              "        }\n",
              "      </script>\n",
              "    </div>\n",
              "  </div>\n",
              "  "
            ]
          },
          "metadata": {},
          "execution_count": 22
        }
      ]
    },
    {
      "cell_type": "markdown",
      "source": [
        "## and This."
      ],
      "metadata": {
        "id": "GXI4VJH_EXCf"
      }
    },
    {
      "cell_type": "code",
      "source": [
        "scores = cross_validate(\n",
        "    DecisionTreeClassifier(\n",
        "        ccp_alpha=0), \n",
        "        cd_additional_balanced_enc, \n",
        "        balanced_y_target, \n",
        "        cv=StratifiedKFold(\n",
        "            n_splits=3,\n",
        "            shuffle=True,\n",
        "            random_state=True),\n",
        "        scoring=['accuracy','recall','precision'],\n",
        "        return_train_score=True)\n",
        "pd.DataFrame(scores)"
      ],
      "metadata": {
        "colab": {
          "base_uri": "https://localhost:8080/",
          "height": 207
        },
        "id": "lijSMz1FEYbt",
        "outputId": "9413caa6-ba88-4609-fe62-bfb791815359"
      },
      "execution_count": null,
      "outputs": [
        {
          "output_type": "execute_result",
          "data": {
            "text/plain": [
              "   fit_time  score_time  test_accuracy  train_accuracy  test_recall  \\\n",
              "0  0.093268    0.014024       0.829347             1.0     0.817065   \n",
              "1  0.078660    0.018628       0.826705             1.0     0.815126   \n",
              "2  0.083883    0.008708       0.822502             1.0     0.819534   \n",
              "\n",
              "   train_recall  test_precision  train_precision  \n",
              "0           1.0        0.837641              1.0  \n",
              "1           1.0        0.834547              1.0  \n",
              "2           1.0        0.824333              1.0  "
            ],
            "text/html": [
              "\n",
              "  <div id=\"df-590c21bf-d900-4557-84ae-0b449836050a\">\n",
              "    <div class=\"colab-df-container\">\n",
              "      <div>\n",
              "<style scoped>\n",
              "    .dataframe tbody tr th:only-of-type {\n",
              "        vertical-align: middle;\n",
              "    }\n",
              "\n",
              "    .dataframe tbody tr th {\n",
              "        vertical-align: top;\n",
              "    }\n",
              "\n",
              "    .dataframe thead th {\n",
              "        text-align: right;\n",
              "    }\n",
              "</style>\n",
              "<table border=\"1\" class=\"dataframe\">\n",
              "  <thead>\n",
              "    <tr style=\"text-align: right;\">\n",
              "      <th></th>\n",
              "      <th>fit_time</th>\n",
              "      <th>score_time</th>\n",
              "      <th>test_accuracy</th>\n",
              "      <th>train_accuracy</th>\n",
              "      <th>test_recall</th>\n",
              "      <th>train_recall</th>\n",
              "      <th>test_precision</th>\n",
              "      <th>train_precision</th>\n",
              "    </tr>\n",
              "  </thead>\n",
              "  <tbody>\n",
              "    <tr>\n",
              "      <th>0</th>\n",
              "      <td>0.093268</td>\n",
              "      <td>0.014024</td>\n",
              "      <td>0.829347</td>\n",
              "      <td>1.0</td>\n",
              "      <td>0.817065</td>\n",
              "      <td>1.0</td>\n",
              "      <td>0.837641</td>\n",
              "      <td>1.0</td>\n",
              "    </tr>\n",
              "    <tr>\n",
              "      <th>1</th>\n",
              "      <td>0.078660</td>\n",
              "      <td>0.018628</td>\n",
              "      <td>0.826705</td>\n",
              "      <td>1.0</td>\n",
              "      <td>0.815126</td>\n",
              "      <td>1.0</td>\n",
              "      <td>0.834547</td>\n",
              "      <td>1.0</td>\n",
              "    </tr>\n",
              "    <tr>\n",
              "      <th>2</th>\n",
              "      <td>0.083883</td>\n",
              "      <td>0.008708</td>\n",
              "      <td>0.822502</td>\n",
              "      <td>1.0</td>\n",
              "      <td>0.819534</td>\n",
              "      <td>1.0</td>\n",
              "      <td>0.824333</td>\n",
              "      <td>1.0</td>\n",
              "    </tr>\n",
              "  </tbody>\n",
              "</table>\n",
              "</div>\n",
              "      <button class=\"colab-df-convert\" onclick=\"convertToInteractive('df-590c21bf-d900-4557-84ae-0b449836050a')\"\n",
              "              title=\"Convert this dataframe to an interactive table.\"\n",
              "              style=\"display:none;\">\n",
              "        \n",
              "  <svg xmlns=\"http://www.w3.org/2000/svg\" height=\"24px\"viewBox=\"0 0 24 24\"\n",
              "       width=\"24px\">\n",
              "    <path d=\"M0 0h24v24H0V0z\" fill=\"none\"/>\n",
              "    <path d=\"M18.56 5.44l.94 2.06.94-2.06 2.06-.94-2.06-.94-.94-2.06-.94 2.06-2.06.94zm-11 1L8.5 8.5l.94-2.06 2.06-.94-2.06-.94L8.5 2.5l-.94 2.06-2.06.94zm10 10l.94 2.06.94-2.06 2.06-.94-2.06-.94-.94-2.06-.94 2.06-2.06.94z\"/><path d=\"M17.41 7.96l-1.37-1.37c-.4-.4-.92-.59-1.43-.59-.52 0-1.04.2-1.43.59L10.3 9.45l-7.72 7.72c-.78.78-.78 2.05 0 2.83L4 21.41c.39.39.9.59 1.41.59.51 0 1.02-.2 1.41-.59l7.78-7.78 2.81-2.81c.8-.78.8-2.07 0-2.86zM5.41 20L4 18.59l7.72-7.72 1.47 1.35L5.41 20z\"/>\n",
              "  </svg>\n",
              "      </button>\n",
              "      \n",
              "  <style>\n",
              "    .colab-df-container {\n",
              "      display:flex;\n",
              "      flex-wrap:wrap;\n",
              "      gap: 12px;\n",
              "    }\n",
              "\n",
              "    .colab-df-convert {\n",
              "      background-color: #E8F0FE;\n",
              "      border: none;\n",
              "      border-radius: 50%;\n",
              "      cursor: pointer;\n",
              "      display: none;\n",
              "      fill: #1967D2;\n",
              "      height: 32px;\n",
              "      padding: 0 0 0 0;\n",
              "      width: 32px;\n",
              "    }\n",
              "\n",
              "    .colab-df-convert:hover {\n",
              "      background-color: #E2EBFA;\n",
              "      box-shadow: 0px 1px 2px rgba(60, 64, 67, 0.3), 0px 1px 3px 1px rgba(60, 64, 67, 0.15);\n",
              "      fill: #174EA6;\n",
              "    }\n",
              "\n",
              "    [theme=dark] .colab-df-convert {\n",
              "      background-color: #3B4455;\n",
              "      fill: #D2E3FC;\n",
              "    }\n",
              "\n",
              "    [theme=dark] .colab-df-convert:hover {\n",
              "      background-color: #434B5C;\n",
              "      box-shadow: 0px 1px 3px 1px rgba(0, 0, 0, 0.15);\n",
              "      filter: drop-shadow(0px 1px 2px rgba(0, 0, 0, 0.3));\n",
              "      fill: #FFFFFF;\n",
              "    }\n",
              "  </style>\n",
              "\n",
              "      <script>\n",
              "        const buttonEl =\n",
              "          document.querySelector('#df-590c21bf-d900-4557-84ae-0b449836050a button.colab-df-convert');\n",
              "        buttonEl.style.display =\n",
              "          google.colab.kernel.accessAllowed ? 'block' : 'none';\n",
              "\n",
              "        async function convertToInteractive(key) {\n",
              "          const element = document.querySelector('#df-590c21bf-d900-4557-84ae-0b449836050a');\n",
              "          const dataTable =\n",
              "            await google.colab.kernel.invokeFunction('convertToInteractive',\n",
              "                                                     [key], {});\n",
              "          if (!dataTable) return;\n",
              "\n",
              "          const docLinkHtml = 'Like what you see? Visit the ' +\n",
              "            '<a target=\"_blank\" href=https://colab.research.google.com/notebooks/data_table.ipynb>data table notebook</a>'\n",
              "            + ' to learn more about interactive tables.';\n",
              "          element.innerHTML = '';\n",
              "          dataTable['output_type'] = 'display_data';\n",
              "          await google.colab.output.renderOutput(dataTable, element);\n",
              "          const docLink = document.createElement('div');\n",
              "          docLink.innerHTML = docLinkHtml;\n",
              "          element.appendChild(docLink);\n",
              "        }\n",
              "      </script>\n",
              "    </div>\n",
              "  </div>\n",
              "  "
            ]
          },
          "metadata": {},
          "execution_count": 23
        }
      ]
    },
    {
      "cell_type": "markdown",
      "source": [
        "# Takeaway\n",
        "\n",
        "Notice that comparing solely on the basis of accuracy we may think that our model is doing well, but in reality even a majority rule classifier can appear to do well on an imbalanced dataset. \n",
        "\n",
        "Using dummy classifiers can help us understand our model performance by using benchmarks of random or most_frequent choices. If our model fails to perform better than a dummy classifier we can suspect that our model has not learned very well and we must investigate the cause."
      ],
      "metadata": {
        "id": "YZvcQgLcryQ1"
      }
    }
  ]
}