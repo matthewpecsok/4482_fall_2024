{
  "nbformat": 4,
  "nbformat_minor": 0,
  "metadata": {
    "colab": {
      "name": "Titanic data exploration notebook - EDA.ipynb",
      "provenance": [],
      "collapsed_sections": [],
      "toc_visible": true,
      "authorship_tag": "ABX9TyM68HAeC2qUARjWI8Bc2A4k",
      "include_colab_link": true
    },
    "kernelspec": {
      "name": "python3",
      "display_name": "Python 3"
    },
    "language_info": {
      "name": "python"
    }
  },
  "cells": [
    {
      "cell_type": "markdown",
      "metadata": {
        "id": "view-in-github",
        "colab_type": "text"
      },
      "source": [
        "<a href=\"https://colab.research.google.com/github/matthewpecsok/4482_fall_2022/blob/main/tutorials/Titanic%20data%20exploration%20tutorial%20-%20EDA.ipynb\" target=\"_parent\"><img src=\"https://colab.research.google.com/assets/colab-badge.svg\" alt=\"Open In Colab\"/></a>"
      ]
    },
    {
      "cell_type": "code",
      "metadata": {
        "id": "I_N01iQ4zdwS"
      },
      "source": [
        "import pandas as pd\n",
        "import numpy as np\n",
        "import matplotlib.pyplot as plt\n",
        "import seaborn as sns"
      ],
      "execution_count": null,
      "outputs": []
    },
    {
      "cell_type": "code",
      "metadata": {
        "id": "JcJ_uQ9r0cI9"
      },
      "source": [
        "# The sinking of the RMS Titanic is one of the most infamous shipwrecks in history.\n",
        "# On April 15, 1912, during her maiden voyage, the Titanic sank after colliding with \n",
        "# an iceberg, killing 1502 out of 2224 passengers and crew.\n",
        "# This sensational tragedy shocked the international community and led to better \n",
        "# safety regulations for ships.One of the reasons that the shipwreck led to such \n",
        "# loss of life was that there were not enough lifeboats for the passengers and crew. \n",
        "# Although there was some element of luck involved in surviving the sinking, \n",
        "# some groups of people such as women, children, and the upper-class \n",
        "# were more likely to survive than others.\n",
        "\n",
        "# VARIABLE DESCRIPTIONS:\n",
        "\n",
        "# PassengerID     Unique passenger identifier\n",
        "# Survived        Survival (0 = No; 1 = Yes)\n",
        "# Pclass          Passenger Class(1 = 1st; 2 = 2nd; 3 = 3rd) (Pclass is a proxy for socio-economic status (SES)\n",
        "#                     1st ~ Upper; 2nd ~ Middle; 3rd ~ Lower)\n",
        "# Name            Name\n",
        "# Sex             Sex\n",
        "# Age             Age (Age is in Years; Fractional if Age less than One (1) If the Age is Estimated, it is in the form xx.5)\n",
        "# Sibsp           Number of Siblings/Spouses Aboard\n",
        "# Parch           Number of Parents/Children Aboard\n",
        "# Ticket          Ticket Number\n",
        "# Fare            Passenger Fare\n",
        "# Cabin           Cabin\n",
        "# Embarked        Port of Embarkation (C = Cherbourg; Q = Queenstown; S = Southampton)\n",
        "\n"
      ],
      "execution_count": null,
      "outputs": []
    },
    {
      "cell_type": "markdown",
      "metadata": {
        "id": "DHDw6jnY2u16"
      },
      "source": [
        "# 1 Set up, data import, inspection and transformation\n",
        "\n"
      ]
    },
    {
      "cell_type": "markdown",
      "metadata": {
        "id": "lytXPelnI_4w"
      },
      "source": [
        "## 1.1 Set up, data import and inspection\n",
        "\n"
      ]
    },
    {
      "cell_type": "markdown",
      "metadata": {
        "id": "PGzXTt2WJDea"
      },
      "source": [
        "### Import a csv file"
      ]
    },
    {
      "cell_type": "code",
      "metadata": {
        "id": "cFM9RTCX0gAC"
      },
      "source": [
        "titanic = pd.read_csv(\"https://raw.githubusercontent.com/matthewpecsok/4482_fall_2022/main/data/titanic.train.csv\")"
      ],
      "execution_count": null,
      "outputs": []
    },
    {
      "cell_type": "markdown",
      "metadata": {
        "id": "iT6PQZlk1uBe"
      },
      "source": [
        "### Examine the overall data frame"
      ]
    },
    {
      "cell_type": "markdown",
      "metadata": {
        "id": "h6Dz7AXT1w2X"
      },
      "source": [
        "### info() shows the number of observations, and the number, names, types of columns"
      ]
    },
    {
      "cell_type": "code",
      "metadata": {
        "id": "SRDDrf6c0o9Y"
      },
      "source": [
        "titanic.info()"
      ],
      "execution_count": null,
      "outputs": []
    },
    {
      "cell_type": "markdown",
      "metadata": {
        "id": "ZkShRL7-2LmJ"
      },
      "source": [
        "###head() shows you the first 5 observations"
      ]
    },
    {
      "cell_type": "code",
      "metadata": {
        "id": "Q4Bvb5212EMy"
      },
      "source": [
        "titanic.tail()"
      ],
      "execution_count": null,
      "outputs": []
    },
    {
      "cell_type": "markdown",
      "metadata": {
        "id": "Gl-Xp8gI1qsf"
      },
      "source": [
        "### You can retrieve and save the number of rows and number of columns of a data frame"
      ]
    },
    {
      "cell_type": "code",
      "metadata": {
        "id": "i2I0YqjR3NtH"
      },
      "source": [
        "print(titanic.shape[0]) # shape gives you the same information as nrow and ncol the 0th position is rows, the 1st position is columns\n",
        "\n",
        "rows = titanic.shape[0]\n",
        "print(rows)"
      ],
      "execution_count": null,
      "outputs": []
    },
    {
      "cell_type": "code",
      "metadata": {
        "id": "Fkp-a5VseqG3"
      },
      "source": [
        "col = titanic.shape[1]\n",
        "col"
      ],
      "execution_count": null,
      "outputs": []
    },
    {
      "cell_type": "markdown",
      "metadata": {
        "id": "BVP5VA1fERjx"
      },
      "source": [
        "### describe"
      ]
    },
    {
      "cell_type": "code",
      "metadata": {
        "id": "c5UjZzhdeN-b"
      },
      "source": [
        "titanic.describe(include='all') # similar to summary in R shows the mean, sd and the five-number statistics indicating the spread of each column's values\n",
        "# missing is the NA count which is a nice feature of summary in R, also missing are the column types. but you do get std deviation.\n",
        "# not quite as nice as summary which gives multiple counts for character type fields"
      ],
      "execution_count": null,
      "outputs": []
    },
    {
      "cell_type": "markdown",
      "metadata": {
        "id": "YwM4bxEyEdzu"
      },
      "source": [
        "### null values"
      ]
    },
    {
      "cell_type": "code",
      "metadata": {
        "id": "_XDG_9u5kAb1"
      },
      "source": [
        "titanic.isnull().sum()"
      ],
      "execution_count": null,
      "outputs": []
    },
    {
      "cell_type": "markdown",
      "metadata": {
        "id": "GCeNBXI4EhIN"
      },
      "source": [
        "### display first few rows or last few"
      ]
    },
    {
      "cell_type": "code",
      "metadata": {
        "id": "NUNK55aEe3H6"
      },
      "source": [
        "titanic[400:406]"
      ],
      "execution_count": null,
      "outputs": []
    },
    {
      "cell_type": "code",
      "metadata": {
        "id": "7bx6mFBFfSEj"
      },
      "source": [
        "titanic.head(1) # in R head(titanic, n=1) "
      ],
      "execution_count": null,
      "outputs": []
    },
    {
      "cell_type": "code",
      "metadata": {
        "id": "utyf-NEifY8R"
      },
      "source": [
        "titanic[0:1] #titanic[1,]"
      ],
      "execution_count": null,
      "outputs": []
    },
    {
      "cell_type": "code",
      "metadata": {
        "id": "OqXQfjOufiWl"
      },
      "source": [
        "titanic.head(10) "
      ],
      "execution_count": null,
      "outputs": []
    },
    {
      "cell_type": "code",
      "metadata": {
        "id": "_tCk6tBKfne1"
      },
      "source": [
        "titanic.tail(10) "
      ],
      "execution_count": null,
      "outputs": []
    },
    {
      "cell_type": "markdown",
      "metadata": {
        "id": "cc2jjlzDEmcO"
      },
      "source": [
        "### get help on function"
      ]
    },
    {
      "cell_type": "code",
      "metadata": {
        "id": "y7F7m_NSf41x"
      },
      "source": [
        "help(titanic.head) \n"
      ],
      "execution_count": null,
      "outputs": []
    },
    {
      "cell_type": "markdown",
      "metadata": {
        "id": "1iTbfD9CJNNV"
      },
      "source": [
        "## 1.2 Data transformation"
      ]
    },
    {
      "cell_type": "markdown",
      "metadata": {
        "id": "aaoqR4LnEqSa"
      },
      "source": [
        "### drop columns with no beneficial information for the model"
      ]
    },
    {
      "cell_type": "code",
      "metadata": {
        "id": "02rUOUqrjfnm"
      },
      "source": [
        "# Remove unique identifiers from further analysis as they are not interesting without additional feature extractions\n",
        "\n",
        "\n",
        "#replace the dataframe with a dropped version of the dataframe\n",
        "titanic = titanic.drop(['PassengerId','Name','Ticket'],axis=1)\n",
        "\n"
      ],
      "execution_count": null,
      "outputs": []
    },
    {
      "cell_type": "code",
      "metadata": {
        "id": "kCddUib1kijf"
      },
      "source": [
        "titanic"
      ],
      "execution_count": null,
      "outputs": []
    },
    {
      "cell_type": "markdown",
      "metadata": {
        "id": "hQlJTJ6UE2D9"
      },
      "source": [
        "### numpy handles NA values"
      ]
    },
    {
      "cell_type": "code",
      "metadata": {
        "id": "S1ehN_n9mhPR"
      },
      "source": [
        "df = pd.DataFrame(data=[1,2,3,4,5,np.NaN,np.NAN],columns=['test'])\n",
        "print(df)\n",
        "\n",
        "print(np.std(df.test))\n",
        "print(np.mean(df.test))\n",
        "\n",
        "# numpy is perfectly happy to calculate standard deviation with and exclude nulls"
      ],
      "execution_count": null,
      "outputs": []
    },
    {
      "cell_type": "markdown",
      "metadata": {
        "id": "wLzqJeFuFBcA"
      },
      "source": [
        "### drop rows with missing values in age"
      ]
    },
    {
      "cell_type": "code",
      "metadata": {
        "id": "GRlK3EHDk5h2"
      },
      "source": [
        "\n",
        "# Remove observations with missing Age values. \n",
        "# This missing data handling approach has the obvious disadvantages of \n",
        "# the applicability of the model to data with missing age.\n",
        "# To keep observations with missing Age values require careful imputation of Age missingness. \n",
        "# The various missing data imputation methods are beyond the knowledge required for this tutorial.\n",
        "\n",
        "# Missing values in Age can cause problems. Test the following commands when you have time.\n",
        "# var(titanic$Age)\n",
        "# mean(titanic$Age)\n",
        "# var(titanic[-which(is.na(titanic$Age)), ]$Age)\n",
        "# sd(titanic[-which(is.na(titanic$Age)), ]$Age)\n",
        "\n",
        "# Use which() command to identify and remove observations in which \n",
        "# the Age value is missing or is.na(titanic Age) = TRUE.\n",
        "\n",
        "print(np.std(titanic.Age))\n",
        "\n",
        "print(titanic.shape[0]) \n",
        "titanic = titanic.dropna(subset=['Age']) \n",
        "print(titanic)"
      ],
      "execution_count": null,
      "outputs": []
    },
    {
      "cell_type": "code",
      "metadata": {
        "id": "veEAqhvhpG2o"
      },
      "source": [
        "titanic[titanic['Cabin']=='B96 B98']"
      ],
      "execution_count": null,
      "outputs": []
    },
    {
      "cell_type": "markdown",
      "metadata": {
        "id": "1DKEr9H5FPqq"
      },
      "source": [
        "### count values in columns"
      ]
    },
    {
      "cell_type": "code",
      "metadata": {
        "id": "v-aY6IPhouvr"
      },
      "source": [
        "pd.DataFrame(['a','b','a','c','c','c','c','c','c','d','d','d','d',],columns=['letter']).letter.value_counts() # conveniently sorts for you"
      ],
      "execution_count": null,
      "outputs": []
    },
    {
      "cell_type": "code",
      "metadata": {
        "id": "xbtRQZSinjuB"
      },
      "source": [
        "titanic.Cabin.value_counts() # conveniently sorts for you"
      ],
      "execution_count": null,
      "outputs": []
    },
    {
      "cell_type": "markdown",
      "metadata": {
        "id": "eNoz-lgzFeix"
      },
      "source": [
        "### barplot of Cabin"
      ]
    },
    {
      "cell_type": "code",
      "metadata": {
        "id": "30tOR7x1p3xr"
      },
      "source": [
        "titanic.Cabin.value_counts(dropna=True).plot(kind='bar')"
      ],
      "execution_count": null,
      "outputs": []
    },
    {
      "cell_type": "code",
      "metadata": {
        "id": "0TWX918Asi9u"
      },
      "source": [
        "titanic[pd.isnull(titanic.Cabin)] "
      ],
      "execution_count": null,
      "outputs": []
    },
    {
      "cell_type": "markdown",
      "metadata": {
        "id": "Vy0_Y8reGClN"
      },
      "source": [
        "### replace null with 'missing'"
      ]
    },
    {
      "cell_type": "code",
      "metadata": {
        "id": "RLWhV9aft4JI"
      },
      "source": [
        "titanic['Cabin'] = titanic['Cabin'].replace(np.nan, 'missing')"
      ],
      "execution_count": null,
      "outputs": []
    },
    {
      "cell_type": "markdown",
      "metadata": {
        "id": "cjePOzgNGHi2"
      },
      "source": [
        "### now show it worked"
      ]
    },
    {
      "cell_type": "code",
      "metadata": {
        "id": "MqPj7zmsuUXq"
      },
      "source": [
        "titanic.Cabin.value_counts(dropna=False)"
      ],
      "execution_count": null,
      "outputs": []
    },
    {
      "cell_type": "markdown",
      "metadata": {
        "id": "womx0W13GLJJ"
      },
      "source": [
        "### replace null with missing and show it worked "
      ]
    },
    {
      "cell_type": "code",
      "metadata": {
        "id": "1j9azxeRugxl"
      },
      "source": [
        "titanic['Embarked'] = titanic['Embarked'].replace(np.nan, 'missing')\n",
        "titanic.Embarked.value_counts(dropna=False)"
      ],
      "execution_count": null,
      "outputs": []
    },
    {
      "cell_type": "code",
      "metadata": {
        "id": "Gp9FKjI-uuT4"
      },
      "source": [
        "titanic[['Age','Sex']].describe(include='all')"
      ],
      "execution_count": null,
      "outputs": []
    },
    {
      "cell_type": "markdown",
      "metadata": {
        "id": "3qG1yVUNJfmK"
      },
      "source": [
        "# 2 Understanding numeric variables"
      ]
    },
    {
      "cell_type": "code",
      "metadata": {
        "id": "vXjSiwrFJqXb"
      },
      "source": [
        "titanic.Pclass.value_counts()"
      ],
      "execution_count": null,
      "outputs": []
    },
    {
      "cell_type": "code",
      "metadata": {
        "id": "pzTqvXfqJzc9"
      },
      "source": [
        "titanic[['Sex','Age']].describe(include='all')"
      ],
      "execution_count": null,
      "outputs": []
    },
    {
      "cell_type": "markdown",
      "metadata": {
        "id": "N2wvvgkgLn6m"
      },
      "source": [
        "### obtain the mean, median, max, min and range of a numeric variable"
      ]
    },
    {
      "cell_type": "code",
      "metadata": {
        "id": "7EJ_vI7cwZMn"
      },
      "source": [
        "\n",
        "\n",
        "print(np.mean(titanic.Age))\n",
        "print(np.median(titanic.Age))\n",
        "print(np.min(titanic.Age))\n",
        "print(np.max(titanic.Age))"
      ],
      "execution_count": null,
      "outputs": []
    },
    {
      "cell_type": "code",
      "metadata": {
        "id": "CZOOiT-uwwBQ"
      },
      "source": [
        "range_age = np.max(titanic.Age)-np.min(titanic.Age)\n",
        "print(\"range of diff: \"+str(range_age))"
      ],
      "execution_count": null,
      "outputs": []
    },
    {
      "cell_type": "code",
      "metadata": {
        "id": "oRz-eGhxxUJJ"
      },
      "source": [
        "# min max normalization of first observation\n",
        "(titanic.Age[0]-np.min(titanic.Age))/range_age"
      ],
      "execution_count": null,
      "outputs": []
    },
    {
      "cell_type": "code",
      "metadata": {
        "id": "L2i_QwKcyUZy"
      },
      "source": [
        "titanic.Age.describe()"
      ],
      "execution_count": null,
      "outputs": []
    },
    {
      "cell_type": "code",
      "metadata": {
        "id": "QArobct5yby-"
      },
      "source": [
        "titanic.Age.describe(percentiles=[0,0.5,1])"
      ],
      "execution_count": null,
      "outputs": []
    },
    {
      "cell_type": "code",
      "metadata": {
        "id": "PpbYsWE5zEet"
      },
      "source": [
        "titanic.Age.describe(percentiles=np.linspace(0,1,6))"
      ],
      "execution_count": null,
      "outputs": []
    },
    {
      "cell_type": "code",
      "metadata": {
        "id": "k8s1yUnRypGp"
      },
      "source": [
        "titanic.Age.describe(percentiles=np.linspace(0,1,11))"
      ],
      "execution_count": null,
      "outputs": []
    },
    {
      "cell_type": "code",
      "metadata": {
        "id": "0JzwQwN2zJMF"
      },
      "source": [
        "titanic.Age.plot(kind='box',title='Boxplot of Age in the titanic data set')\n",
        "plt.plot()"
      ],
      "execution_count": null,
      "outputs": []
    },
    {
      "cell_type": "code",
      "metadata": {
        "id": "gnrvMROx1JcR"
      },
      "source": [],
      "execution_count": null,
      "outputs": []
    },
    {
      "cell_type": "code",
      "metadata": {
        "id": "ckLiiJwC3U1-"
      },
      "source": [
        "a = titanic.Age.plot(kind='hist',title='Histogram of Age in the titanic data set')\n",
        "plt.show()\n",
        "a = titanic.SibSp.plot(kind='hist',title='Histogram of SibSp in the titanic data set')\n",
        "plt.show()"
      ],
      "execution_count": null,
      "outputs": []
    },
    {
      "cell_type": "code",
      "metadata": {
        "id": "IZVOuHGQ1PtF"
      },
      "source": [
        "def num_descriptives(column_name):\n",
        "  print(titanic[column_name].describe(percentiles=np.linspace(0,1,11)))\n",
        "  print(titanic[column_name].describe(percentiles=[0,0.5,1]))\n",
        "  titanic[column_name].plot(kind='box',title='Boxplot of %s in the titanic data set' % (column_name))\n",
        "  plt.show()\n",
        "  titanic[column_name].plot(kind='hist',title='Histogram of %s in the titanic data set' % (column_name))\n",
        "  plt.show()\n",
        "\n",
        "num_descriptives('SibSp')\n"
      ],
      "execution_count": null,
      "outputs": []
    },
    {
      "cell_type": "code",
      "metadata": {
        "id": "2hUkE3b24Lkv"
      },
      "source": [
        "for column in ['Age','SibSp','Fare','Parch']:\n",
        "  num_descriptives(column)"
      ],
      "execution_count": null,
      "outputs": []
    },
    {
      "cell_type": "markdown",
      "metadata": {
        "id": "bKaDLAZVL6SO"
      },
      "source": [
        "# 3 Exploring categorical/factor values"
      ]
    },
    {
      "cell_type": "markdown",
      "metadata": {
        "id": "NGPMoTt5Xi1U"
      },
      "source": [
        "### value counts"
      ]
    },
    {
      "cell_type": "code",
      "metadata": {
        "id": "lBXYhN5a42A1"
      },
      "source": [
        "titanic.Survived.value_counts()"
      ],
      "execution_count": null,
      "outputs": []
    },
    {
      "cell_type": "markdown",
      "metadata": {
        "id": "qt9jOApJXhcc"
      },
      "source": [
        "## barplot"
      ]
    },
    {
      "cell_type": "code",
      "metadata": {
        "id": "cJjsE1NE6Q8X"
      },
      "source": [
        "titanic.Survived.value_counts().plot(kind='bar',title='Bar plot of Survived. Showing Counts')\n",
        "plt.show()"
      ],
      "execution_count": null,
      "outputs": []
    },
    {
      "cell_type": "code",
      "metadata": {
        "id": "VeW1t_8C7g71"
      },
      "source": [
        "round(titanic.value_counts('Survived',normalize=True),ndigits=2)"
      ],
      "execution_count": null,
      "outputs": []
    },
    {
      "cell_type": "code",
      "metadata": {
        "id": "TBsoUYsk_IeO"
      },
      "source": [
        "titanic.plot.scatter('SibSp','Parch')"
      ],
      "execution_count": null,
      "outputs": []
    },
    {
      "cell_type": "code",
      "metadata": {
        "id": "rbvnLdUu_eDx"
      },
      "source": [
        "titanic[['SibSp','Parch']]"
      ],
      "execution_count": null,
      "outputs": []
    },
    {
      "cell_type": "code",
      "metadata": {
        "id": "B_R16gK2_VlX"
      },
      "source": [
        "titanic[['SibSp','Parch']].cov()"
      ],
      "execution_count": null,
      "outputs": []
    },
    {
      "cell_type": "code",
      "metadata": {
        "id": "MOGhuLwo_0tT"
      },
      "source": [
        "np.std(titanic[['SibSp']])"
      ],
      "execution_count": null,
      "outputs": []
    },
    {
      "cell_type": "code",
      "metadata": {
        "id": "Xs1d6kT-_2qw"
      },
      "source": [
        "np.var(titanic[['SibSp']])"
      ],
      "execution_count": null,
      "outputs": []
    },
    {
      "cell_type": "code",
      "metadata": {
        "id": "NXpFZyWSAHaS"
      },
      "source": [
        "np.std(titanic[['Parch']])"
      ],
      "execution_count": null,
      "outputs": []
    },
    {
      "cell_type": "code",
      "metadata": {
        "id": "67eYkev4AF7K"
      },
      "source": [
        "np.var(titanic[['Parch']])"
      ],
      "execution_count": null,
      "outputs": []
    },
    {
      "cell_type": "markdown",
      "metadata": {
        "id": "U1qybS_xNfZd"
      },
      "source": [
        "# 4 Exploring the relationship of Multiple Variables\n",
        "ie numeric by categorical, numeric by numeric etc. "
      ]
    },
    {
      "cell_type": "markdown",
      "metadata": {
        "id": "5Y8goFDgQ-Vo"
      },
      "source": [
        "## correlation between numeric variables."
      ]
    },
    {
      "cell_type": "code",
      "metadata": {
        "id": "y4J5nGrvALKo"
      },
      "source": [
        "titanic[['SibSp','Parch']].corr()"
      ],
      "execution_count": null,
      "outputs": []
    },
    {
      "cell_type": "code",
      "metadata": {
        "id": "WbYUGxE4APZH"
      },
      "source": [
        "### Generate the correlation matrix of all numeric variables\n",
        "titanic[['Age','SibSp','Parch','Fare']].corr()"
      ],
      "execution_count": null,
      "outputs": []
    },
    {
      "cell_type": "markdown",
      "metadata": {
        "id": "TAe1O-jQRFtc"
      },
      "source": [
        "## python equivalent of pairs.panel scatter plot"
      ]
    },
    {
      "cell_type": "code",
      "metadata": {
        "id": "24jFq4RPBZWx"
      },
      "source": [
        "pd.plotting.scatter_matrix(titanic[['Age','SibSp','Parch','Fare']],figsize=(15, 10),alpha=0.2)\n",
        "plt.show()"
      ],
      "execution_count": null,
      "outputs": []
    },
    {
      "cell_type": "code",
      "metadata": {
        "id": "iqQx7GTJClGq"
      },
      "source": [
        "titanic.drop('Survived',axis=1).corr()"
      ],
      "execution_count": null,
      "outputs": []
    },
    {
      "cell_type": "code",
      "metadata": {
        "id": "8bGlTS1JEl0_"
      },
      "source": [
        "titanic.info()"
      ],
      "execution_count": null,
      "outputs": []
    },
    {
      "cell_type": "code",
      "metadata": {
        "id": "gC_sjuaVNgK6"
      },
      "source": [
        "sns.pairplot(titanic,hue='Survived')"
      ],
      "execution_count": null,
      "outputs": []
    },
    {
      "cell_type": "code",
      "metadata": {
        "id": "a4Y1BW97Ot2k"
      },
      "source": [
        "g = sns.PairGrid(titanic,hue=\"Survived\",hue_kws={\"alpha\": [0.2,0.2]})\n",
        "g = g.map_diag(sns.kdeplot,shade=True)\n",
        "g = g.map_lower(plt.scatter)\n",
        "\n",
        "g = g.add_legend()"
      ],
      "execution_count": null,
      "outputs": []
    },
    {
      "cell_type": "code",
      "metadata": {
        "id": "z6uJMjpVH1Fw"
      },
      "source": [
        "titanic.Cabin"
      ],
      "execution_count": null,
      "outputs": []
    },
    {
      "cell_type": "code",
      "metadata": {
        "id": "jC5NMkLJISBs"
      },
      "source": [
        " titanic.boxplot(column=['Age'],by=['Survived']) \n",
        " plt.title( 'Boxplot of Age by Survived' )\n",
        " plt.suptitle('')\n",
        " plt.show()\n",
        " \n",
        " titanic.boxplot(column=['Parch'],by=['Survived']) \n",
        " plt.title( 'Boxplot of Parch by Survived' )\n",
        " plt.suptitle('')\n",
        " plt.show()\n",
        "\n",
        "titanic.boxplot(column=['SibSp'],by=['Survived']) \n",
        " plt.title( 'Boxplot of SibSp by Survived' )\n",
        " plt.suptitle('')\n",
        " plt.show()\n",
        "\n",
        "\n"
      ],
      "execution_count": null,
      "outputs": []
    },
    {
      "cell_type": "code",
      "metadata": {
        "id": "J_f1Yy-eOV3S"
      },
      "source": [
        "titanic.groupby('Survived')[['SibSp']].agg(['mean','median','min','max',lambda x: np.percentile(x, q = 75)])"
      ],
      "execution_count": null,
      "outputs": []
    },
    {
      "cell_type": "code",
      "metadata": {
        "id": "1Ht6s-zDSHuQ"
      },
      "source": [
        "from mpl_toolkits.mplot3d import Axes3D\n",
        "from matplotlib.colors import ListedColormap\n",
        "# axes instance\n",
        "fig = plt.figure(figsize=(6,6))\n",
        "ax = Axes3D(fig)\n",
        "\n",
        "# get colormap from seaborn\n",
        "cmap = ListedColormap(sns.color_palette(\"husl\", 256).as_hex())\n",
        "\n",
        "# plot\n",
        "sc = ax.scatter(titanic.Parch, titanic.Age, titanic.Fare, s=40, c=(titanic.Survived), marker='o', alpha=.5)\n",
        "ax.set_xlabel('Parch')\n",
        "ax.set_ylabel('Age')\n",
        "ax.set_zlabel('Fare')\n",
        "\n",
        "# legend\n",
        "plt.legend(*sc.legend_elements(), bbox_to_anchor=(1.05, 1), loc=2)"
      ],
      "execution_count": null,
      "outputs": []
    },
    {
      "cell_type": "code",
      "metadata": {
        "id": "Ynutwz4xSpjO"
      },
      "source": [
        "titanic_categorical = titanic.copy()\n",
        "\n",
        "titanic_categorical.loc[titanic_categorical['Sex'] == 'female','Female'] = 1\n",
        "titanic_categorical.loc[titanic_categorical['Sex'] == 'male', 'Female'] = 0\n"
      ],
      "execution_count": null,
      "outputs": []
    },
    {
      "cell_type": "code",
      "metadata": {
        "id": "oh7Cq_LaTAlC"
      },
      "source": [
        "titanic_categorical"
      ],
      "execution_count": null,
      "outputs": []
    },
    {
      "cell_type": "code",
      "metadata": {
        "id": "bhA4vMSuSbmZ"
      },
      "source": [
        "# axes instance\n",
        "fig = plt.figure(figsize=(6,6))\n",
        "ax = Axes3D(fig)\n",
        "\n",
        "# get colormap from seaborn\n",
        "cmap = ListedColormap(sns.color_palette(\"husl\", 256).as_hex())\n",
        "\n",
        "# plot\n",
        "sc = ax.scatter(titanic_categorical.Fare, titanic_categorical.Pclass, titanic_categorical.Female, s=40, c=(titanic_categorical.Survived), marker='o', alpha=.5)\n",
        "ax.set_xlabel('Fare')\n",
        "ax.set_ylabel('Pclass')\n",
        "ax.set_zlabel('Female')\n",
        "\n",
        "# legend\n",
        "plt.legend(*sc.legend_elements(), bbox_to_anchor=(1.05, 1), loc=2)"
      ],
      "execution_count": null,
      "outputs": []
    }
  ]
}