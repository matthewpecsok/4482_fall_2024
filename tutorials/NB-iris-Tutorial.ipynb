{
  "nbformat": 4,
  "nbformat_minor": 0,
  "metadata": {
    "colab": {
      "name": "NB-iris-Tutorial.ipynb",
      "provenance": [],
      "collapsed_sections": [],
      "toc_visible": true,
      "authorship_tag": "ABX9TyPwsLtWwKCu1Ne9aVvgGUzi",
      "include_colab_link": true
    },
    "kernelspec": {
      "name": "python3",
      "display_name": "Python 3"
    },
    "language_info": {
      "name": "python"
    }
  },
  "cells": [
    {
      "cell_type": "markdown",
      "metadata": {
        "id": "view-in-github",
        "colab_type": "text"
      },
      "source": [
        "<a href=\"https://colab.research.google.com/github/matthewpecsok/4482_fall_2022/blob/main/tutorials/NB-iris-Tutorial.ipynb\" target=\"_parent\"><img src=\"https://colab.research.google.com/assets/colab-badge.svg\" alt=\"Open In Colab\"/></a>"
      ]
    },
    {
      "cell_type": "markdown",
      "metadata": {
        "id": "26Pu4hwnWK_o"
      },
      "source": [
        "NB Iris Tutorial\n",
        "Converted to Python by Matthew Pecsok from Dr. Olivia Sheng's original tutorial in R\n",
        "June 12, 2021\n",
        "\n",
        "1 Data description\n",
        "\n",
        "2 Library Setup\n",
        "\n",
        "3 Overall data inspection\n",
        "\n",
        "4 NB model building using sklearn package\n",
        "\n",
        "5 Explanatory data exploration\n",
        "\n",
        "6 Generate performance metrics\n",
        "\n",
        "7 Simple hold-out evaluation\n"
      ]
    },
    {
      "cell_type": "markdown",
      "metadata": {
        "id": "Ymj-4laRWpSo"
      },
      "source": [
        "# 1 Data description\n",
        "\n",
        "\n",
        "This is perhaps the best known database to be found in the pattern recognition literature.The data set contains 3 classes of 50 instances each, where each class refers to a type of iris plant. One class is linearly separable from the other 2; the latter are NOT linearly separable from each other.\n",
        "\n",
        "Target variable: class of iris plant.\n",
        "\n",
        "Number of Instances: 150 (50 in each of three classes)\n",
        "\n",
        "Number of Attributes: 4 numeric, predictive attributes and the class variable\n",
        "\n",
        "Attribute Information: 1. sepal length in cm 2. sepal width in cm 3. petal length in cm 4. petal width in cm 5. class: Iris Setosa, Iris Versicolour, Iris Virginica\n"
      ]
    },
    {
      "cell_type": "markdown",
      "metadata": {
        "id": "rrGrav6GWCyD"
      },
      "source": [
        "# 2 Library Setup"
      ]
    },
    {
      "cell_type": "markdown",
      "metadata": {
        "id": "vyF2BWVRddcQ"
      },
      "source": [
        "https://scikit-learn.org/stable/modules/naive_bayes.html"
      ]
    },
    {
      "cell_type": "code",
      "metadata": {
        "id": "oUH1j9Y8cqa2"
      },
      "source": [
        "import pandas as pd\n",
        "import numpy as np\n",
        "\n",
        "\n",
        "from sklearn.datasets import load_iris\n",
        "from sklearn.model_selection import train_test_split\n",
        "from sklearn.naive_bayes import GaussianNB\n",
        "\n",
        "import matplotlib.pyplot as plt\n",
        "\n",
        "from sklearn.metrics import confusion_matrix, ConfusionMatrixDisplay\n",
        "\n",
        "from sklearn import metrics\n",
        "\n",
        "# Package loading. Install the following packages before running this chunk or knitting this program.\n",
        "\n",
        "#library(e1071)\n",
        "#library(psych)\n",
        "#library(caret)\n",
        "## Loading required package: lattice\n",
        "## Loading required package: ggplot2\n",
        "## \n",
        "## Attaching package: 'ggplot2'\n",
        "## The following objects are masked from 'package:psych':\n",
        "## \n",
        "##     %+%, alpha\n",
        "#library(rminer)\n",
        "#library(rmarkdown)\n",
        "#library(tictoc) \n",
        "#tic()"
      ],
      "execution_count": null,
      "outputs": []
    },
    {
      "cell_type": "markdown",
      "metadata": {
        "id": "3I44gRJ-fOH2"
      },
      "source": [
        "# 3 overall data inspection"
      ]
    },
    {
      "cell_type": "code",
      "metadata": {
        "id": "r4-8RJS6fTt1"
      },
      "source": [
        "iris_bunch = load_iris()"
      ],
      "execution_count": null,
      "outputs": []
    },
    {
      "cell_type": "code",
      "metadata": {
        "id": "nhgJzBw1fkHP"
      },
      "source": [
        "type(iris_bunch)"
      ],
      "execution_count": null,
      "outputs": []
    },
    {
      "cell_type": "markdown",
      "metadata": {
        "id": "EQKcr2IIfxLy"
      },
      "source": [
        "https://scikit-learn.org/stable/modules/generated/sklearn.utils.Bunch.html"
      ]
    },
    {
      "cell_type": "code",
      "metadata": {
        "id": "AM2rpJYcfyAk"
      },
      "source": [
        "iris = iris_bunch.data"
      ],
      "execution_count": null,
      "outputs": []
    },
    {
      "cell_type": "code",
      "metadata": {
        "id": "lnYistoEgK41"
      },
      "source": [
        "iris.shape"
      ],
      "execution_count": null,
      "outputs": []
    },
    {
      "cell_type": "code",
      "metadata": {
        "id": "qbpcEJUTj7Ys"
      },
      "source": [
        "type(iris)"
      ],
      "execution_count": null,
      "outputs": []
    },
    {
      "cell_type": "code",
      "metadata": {
        "id": "pzAaHGwPgUnn"
      },
      "source": [
        "iris_bunch.feature_names"
      ],
      "execution_count": null,
      "outputs": []
    },
    {
      "cell_type": "markdown",
      "metadata": {
        "id": "vwnhlAT1gp0s"
      },
      "source": [
        "tranform the data from a numpy array and a list into a pandas dataframe for exploratory data analyisi"
      ]
    },
    {
      "cell_type": "code",
      "metadata": {
        "id": "eeeuFqJAga3v"
      },
      "source": [
        "iris_df = pd.DataFrame(iris,columns=iris_bunch.feature_names)\n",
        "iris_df['species'] = iris_bunch.target\n",
        "iris_df"
      ],
      "execution_count": null,
      "outputs": []
    },
    {
      "cell_type": "code",
      "metadata": {
        "id": "jXkrhk4dj_h3"
      },
      "source": [
        "iris_df.info()"
      ],
      "execution_count": null,
      "outputs": []
    },
    {
      "cell_type": "code",
      "metadata": {
        "id": "x_148xVikJt7"
      },
      "source": [
        "iris_df.describe()"
      ],
      "execution_count": null,
      "outputs": []
    },
    {
      "cell_type": "markdown",
      "metadata": {
        "id": "S0ykIDn9JB63"
      },
      "source": [
        "# 4 NB model building using sklearn package"
      ]
    },
    {
      "cell_type": "code",
      "metadata": {
        "id": "EJIBjgChkeV7"
      },
      "source": [
        "gnb = GaussianNB()\n",
        "y_pred = gnb.fit(iris_df.drop('species',axis=1), iris_df['species']).predict(iris_df.drop('species',axis=1))\n",
        "y_pred"
      ],
      "execution_count": null,
      "outputs": []
    },
    {
      "cell_type": "markdown",
      "metadata": {
        "id": "hQQETarIKTSY"
      },
      "source": [
        "# 5 Explanatory data exploration"
      ]
    },
    {
      "cell_type": "code",
      "metadata": {
        "id": "GZtQaGKDweu4"
      },
      "source": [
        "fig, ax = plt.subplots(figsize=(10,6))\n",
        "iris_df.boxplot(column='petal length (cm)',by='species',ax=ax)\n",
        "plt.show()"
      ],
      "execution_count": null,
      "outputs": []
    },
    {
      "cell_type": "code",
      "metadata": {
        "id": "9GWWMGYqweNG"
      },
      "source": [
        "fig, ax = plt.subplots(figsize=(10,6))\n",
        "iris_df.boxplot(column='sepal length (cm)',by='species',ax=ax)\n",
        "plt.show()"
      ],
      "execution_count": null,
      "outputs": []
    },
    {
      "cell_type": "code",
      "metadata": {
        "id": "as4m6sUJwcSU"
      },
      "source": [
        "fig, ax = plt.subplots(figsize=(10,6))\n",
        "iris_df.boxplot(column='petal width (cm)',by='species',ax=ax)\n",
        "plt.show()"
      ],
      "execution_count": null,
      "outputs": []
    },
    {
      "cell_type": "code",
      "metadata": {
        "id": "WcUd6HA0lWPn"
      },
      "source": [
        "fig, ax = plt.subplots(figsize=(10,6))\n",
        "iris_df.boxplot(column='sepal width (cm)',by='species',ax=ax)\n",
        "plt.show()"
      ],
      "execution_count": null,
      "outputs": []
    },
    {
      "cell_type": "code",
      "metadata": {
        "id": "EaITkdk5Tl-3"
      },
      "source": [
        "iris_df[iris_df['species']==1].agg('describe')"
      ],
      "execution_count": null,
      "outputs": []
    },
    {
      "cell_type": "code",
      "metadata": {
        "id": "aUQsJm8cTooM"
      },
      "source": [
        "iris_df[iris_df['species']==2].agg('describe')"
      ],
      "execution_count": null,
      "outputs": []
    },
    {
      "cell_type": "code",
      "metadata": {
        "id": "cwxd27IUUNQw"
      },
      "source": [
        "pd.plotting.scatter_matrix(iris_df[iris_df['species']==0].drop('species',axis=1),figsize=(15, 10),alpha=1)\n",
        "plt.show()"
      ],
      "execution_count": null,
      "outputs": []
    },
    {
      "cell_type": "code",
      "metadata": {
        "id": "4FBWC8VdUzO4"
      },
      "source": [
        "pd.plotting.scatter_matrix(iris_df[iris_df['species']==1].drop('species',axis=1),figsize=(15, 10),alpha=1)\n",
        "plt.show()"
      ],
      "execution_count": null,
      "outputs": []
    },
    {
      "cell_type": "code",
      "metadata": {
        "id": "rf09fQNUU2Tb"
      },
      "source": [
        "pd.plotting.scatter_matrix(iris_df[iris_df['species']==2].drop('species',axis=1),figsize=(15, 10),alpha=1)\n",
        "plt.show()"
      ],
      "execution_count": null,
      "outputs": []
    },
    {
      "cell_type": "markdown",
      "metadata": {
        "id": "XwLV56pNxJyJ"
      },
      "source": [
        "# 6 Simple hold-out evaluation"
      ]
    },
    {
      "cell_type": "code",
      "metadata": {
        "id": "S3HcVOXeWHvz"
      },
      "source": [
        "X_train, X_test, y_train, y_test = train_test_split(iris_df.drop('species',axis=1), iris_df['species'], test_size=0.4, random_state=0,stratify=iris_df['species'])"
      ],
      "execution_count": null,
      "outputs": []
    },
    {
      "cell_type": "markdown",
      "metadata": {
        "id": "DVp11yqXaojT"
      },
      "source": [
        "It's worth noting here that we used the stratify=target argument to the split function to make sure that each target class is represented at the same proportion in the test and train set. sklearn does NOT do this by default, while in R createdatapartition does. "
      ]
    },
    {
      "cell_type": "code",
      "metadata": {
        "id": "C1x3bUe2XNns"
      },
      "source": [
        "X_train.describe()"
      ],
      "execution_count": null,
      "outputs": []
    },
    {
      "cell_type": "code",
      "metadata": {
        "id": "OhmUOpELXQZq"
      },
      "source": [
        "X_test.describe()"
      ],
      "execution_count": null,
      "outputs": []
    },
    {
      "cell_type": "code",
      "metadata": {
        "id": "fKH67cItXaBt"
      },
      "source": [
        "y_train.value_counts()"
      ],
      "execution_count": null,
      "outputs": []
    },
    {
      "cell_type": "code",
      "metadata": {
        "id": "eQ0yR9E6Xr7P"
      },
      "source": [
        "y_test.value_counts()"
      ],
      "execution_count": null,
      "outputs": []
    },
    {
      "cell_type": "markdown",
      "metadata": {
        "id": "ynUh5nVvKekl"
      },
      "source": [
        "# 7 Generate performance metrics"
      ]
    },
    {
      "cell_type": "code",
      "metadata": {
        "id": "rDjnPa1GWmNy"
      },
      "source": [
        "gnb = GaussianNB()\n",
        "\n",
        "gnb = gnb.fit(X_train, y_train)\n",
        "\n",
        "y_pred_test = gnb.predict(X_test)\n",
        "y_pred_train = gnb.predict(X_train)"
      ],
      "execution_count": null,
      "outputs": []
    },
    {
      "cell_type": "code",
      "metadata": {
        "id": "ekv7VFtIMHqs"
      },
      "source": [
        "gnb.class_prior_"
      ],
      "execution_count": null,
      "outputs": []
    },
    {
      "cell_type": "code",
      "metadata": {
        "id": "eR6g_M1JOgfJ"
      },
      "source": [
        "iris_bunch.feature_names"
      ],
      "execution_count": null,
      "outputs": []
    },
    {
      "cell_type": "code",
      "metadata": {
        "id": "7Tik3zWgOm2c"
      },
      "source": [
        "iris_bunch.target_names"
      ],
      "execution_count": null,
      "outputs": []
    },
    {
      "cell_type": "code",
      "metadata": {
        "id": "jBlOKeJxOZGi"
      },
      "source": [
        "gnb.classes_"
      ],
      "execution_count": null,
      "outputs": []
    },
    {
      "cell_type": "code",
      "metadata": {
        "id": "CPwnaIWTMweQ"
      },
      "source": [
        "# means of features by class\n",
        "gnb.theta_"
      ],
      "execution_count": null,
      "outputs": []
    },
    {
      "cell_type": "code",
      "metadata": {
        "id": "stxEExIscCjp"
      },
      "source": [
        "# variance of features by class\n",
        "gnb.sigma_"
      ],
      "execution_count": null,
      "outputs": []
    },
    {
      "cell_type": "code",
      "metadata": {
        "id": "mM2ZHQjQbWM7"
      },
      "source": [
        "confusion_matrix(y_train,y_pred_train)"
      ],
      "execution_count": null,
      "outputs": []
    },
    {
      "cell_type": "code",
      "metadata": {
        "id": "pCRcqut9ifn0"
      },
      "source": [
        "disp = ConfusionMatrixDisplay(\n",
        "    confusion_matrix=confusion_matrix(y_train,y_pred_train),\n",
        "    display_labels=iris_bunch.target_names\n",
        "    )\n",
        "disp.plot(values_format='',cmap=plt.cm.Blues)\n",
        "plt.show()"
      ],
      "execution_count": null,
      "outputs": []
    },
    {
      "cell_type": "code",
      "metadata": {
        "id": "0KJKI7Zobt0m"
      },
      "source": [
        "confusion_matrix(y_test,y_pred_test)"
      ],
      "execution_count": null,
      "outputs": []
    },
    {
      "cell_type": "code",
      "metadata": {
        "id": "dKgUMZWYinvd"
      },
      "source": [
        "confusion_matrix(y_test,y_pred_test)\n",
        "disp = ConfusionMatrixDisplay(\n",
        "    confusion_matrix=confusion_matrix(y_test,y_pred_test),\n",
        "    display_labels=iris_bunch.target_names\n",
        "    )\n",
        "disp.plot(values_format='',cmap=plt.cm.Blues)\n",
        "plt.show()\n"
      ],
      "execution_count": null,
      "outputs": []
    },
    {
      "cell_type": "code",
      "metadata": {
        "id": "O-QHwYI-cyHX"
      },
      "source": [
        "iris_bunch.target_names"
      ],
      "execution_count": null,
      "outputs": []
    },
    {
      "cell_type": "code",
      "metadata": {
        "id": "O_HhvPLGcGZV"
      },
      "source": [
        "print(metrics.classification_report(y_train,y_pred_train, target_names=iris_bunch.target_names))"
      ],
      "execution_count": null,
      "outputs": []
    },
    {
      "cell_type": "code",
      "metadata": {
        "id": "vSGv77ZfcGb7"
      },
      "source": [
        "print(metrics.classification_report(y_test,y_pred_test, target_names=iris_bunch.target_names))"
      ],
      "execution_count": null,
      "outputs": []
    },
    {
      "cell_type": "code",
      "metadata": {
        "id": "SkqF29WeY9mf"
      },
      "source": [
        "model_info = pd.DataFrame(columns=['species' , 'feature' , 'mean' , 'var'])\n",
        "\n",
        "for feature in range(len(iris_bunch.feature_names)):\n",
        "  #print(pd.DataFrame(data={'species':iris_bunch.target_names,'feature':iris_bunch.feature_names[feature],'mean':gnb.theta_[:,feature],'var':gnb.sigma_[:,feature]}))\n",
        "  model_info = model_info.append(pd.DataFrame(data={'species':iris_bunch.target_names,'feature':iris_bunch.feature_names[feature],'mean':gnb.theta_[:,feature],'var':gnb.sigma_[:,feature]}))\n",
        "\n",
        "\n",
        "model_info['sd'] = np.sqrt(model_info['var'])\n",
        "model_info"
      ],
      "execution_count": null,
      "outputs": []
    }
  ]
}