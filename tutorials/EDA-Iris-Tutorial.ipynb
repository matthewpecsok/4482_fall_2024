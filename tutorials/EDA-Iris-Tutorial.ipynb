{
  "nbformat": 4,
  "nbformat_minor": 0,
  "metadata": {
    "colab": {
      "provenance": [],
      "authorship_tag": "ABX9TyP/jQN1CtgmY5akq6/HqEeV",
      "include_colab_link": true
    },
    "kernelspec": {
      "name": "python3",
      "display_name": "Python 3"
    },
    "language_info": {
      "name": "python"
    }
  },
  "cells": [
    {
      "cell_type": "markdown",
      "metadata": {
        "id": "view-in-github",
        "colab_type": "text"
      },
      "source": [
        "<a href=\"https://colab.research.google.com/github/matthewpecsok/4482_fall_2022/blob/main/tutorials/EDA-Iris-Tutorial.ipynb\" target=\"_parent\"><img src=\"https://colab.research.google.com/assets/colab-badge.svg\" alt=\"Open In Colab\"/></a>"
      ]
    },
    {
      "cell_type": "markdown",
      "metadata": {
        "id": "26Pu4hwnWK_o"
      },
      "source": [
        "NB Iris Tutorial\n",
        "Converted to Python by Matthew Pecsok from Dr. Olivia Sheng's original tutorial in R\n",
        "June 12, 2021\n",
        "\n",
        "1 Data description\n",
        "\n",
        "2 Library Setup\n",
        "\n",
        "3 Overall data inspection\n",
        "\n",
        "4 Explanatory data exploration\n"
      ]
    },
    {
      "cell_type": "markdown",
      "metadata": {
        "id": "Ymj-4laRWpSo"
      },
      "source": [
        "# 1 Data description\n",
        "\n",
        "\n",
        "This is perhaps the best known database to be found in the pattern recognition literature.The data set contains 3 classes of 50 instances each, where each class refers to a type of iris plant. One class is linearly separable from the other 2; the latter are NOT linearly separable from each other.\n",
        "\n",
        "Target variable: class of iris plant.\n",
        "\n",
        "Number of Instances: 150 (50 in each of three classes)\n",
        "\n",
        "Number of Attributes: 4 numeric, predictive attributes and the class variable\n",
        "\n",
        "Attribute Information: 1. sepal length in cm 2. sepal width in cm 3. petal length in cm 4. petal width in cm 5. class: Iris Setosa, Iris Versicolour, Iris Virginica\n"
      ]
    },
    {
      "cell_type": "markdown",
      "metadata": {
        "id": "rrGrav6GWCyD"
      },
      "source": [
        "# 2 Library Setup"
      ]
    },
    {
      "cell_type": "code",
      "metadata": {
        "id": "oUH1j9Y8cqa2"
      },
      "source": [
        "import pandas as pd\n",
        "import numpy as np\n",
        "\n",
        "\n",
        "from sklearn.datasets import load_iris\n",
        "import seaborn as sns\n",
        "\n",
        "import matplotlib.pyplot as plt\n",
        "\n",
        "# Package loading. Install the following packages before running this chunk or knitting this program."
      ],
      "execution_count": null,
      "outputs": []
    },
    {
      "cell_type": "markdown",
      "metadata": {
        "id": "3I44gRJ-fOH2"
      },
      "source": [
        "# 3 overall data inspection"
      ]
    },
    {
      "cell_type": "code",
      "metadata": {
        "id": "r4-8RJS6fTt1"
      },
      "source": [
        "iris_bunch = load_iris()"
      ],
      "execution_count": null,
      "outputs": []
    },
    {
      "cell_type": "code",
      "metadata": {
        "id": "nhgJzBw1fkHP"
      },
      "source": [
        "type(iris_bunch)"
      ],
      "execution_count": null,
      "outputs": []
    },
    {
      "cell_type": "markdown",
      "metadata": {
        "id": "EQKcr2IIfxLy"
      },
      "source": [
        "https://scikit-learn.org/stable/modules/generated/sklearn.utils.Bunch.html"
      ]
    },
    {
      "cell_type": "code",
      "metadata": {
        "id": "AM2rpJYcfyAk"
      },
      "source": [
        "iris = iris_bunch.data"
      ],
      "execution_count": null,
      "outputs": []
    },
    {
      "cell_type": "code",
      "metadata": {
        "id": "lnYistoEgK41"
      },
      "source": [
        "iris.shape"
      ],
      "execution_count": null,
      "outputs": []
    },
    {
      "cell_type": "code",
      "metadata": {
        "id": "qbpcEJUTj7Ys"
      },
      "source": [
        "type(iris)"
      ],
      "execution_count": null,
      "outputs": []
    },
    {
      "cell_type": "code",
      "metadata": {
        "id": "pzAaHGwPgUnn"
      },
      "source": [
        "iris_bunch.feature_names"
      ],
      "execution_count": null,
      "outputs": []
    },
    {
      "cell_type": "markdown",
      "metadata": {
        "id": "vwnhlAT1gp0s"
      },
      "source": [
        "tranform the data from a numpy array and a list into a pandas dataframe for exploratory data analyisi"
      ]
    },
    {
      "cell_type": "code",
      "metadata": {
        "id": "eeeuFqJAga3v"
      },
      "source": [
        "iris_df = pd.DataFrame(iris,columns=iris_bunch.feature_names)\n",
        "iris_df['species'] = iris_bunch.target\n",
        "iris_df"
      ],
      "execution_count": null,
      "outputs": []
    },
    {
      "cell_type": "code",
      "metadata": {
        "id": "jXkrhk4dj_h3"
      },
      "source": [
        "iris_df.info()"
      ],
      "execution_count": null,
      "outputs": []
    },
    {
      "cell_type": "code",
      "metadata": {
        "id": "x_148xVikJt7"
      },
      "source": [
        "iris_df.describe()"
      ],
      "execution_count": null,
      "outputs": []
    },
    {
      "cell_type": "markdown",
      "metadata": {
        "id": "hQQETarIKTSY"
      },
      "source": [
        "# 5 Explanatory data exploration"
      ]
    },
    {
      "cell_type": "code",
      "metadata": {
        "id": "GZtQaGKDweu4"
      },
      "source": [
        "fig, ax = plt.subplots(figsize=(10,6))\n",
        "iris_df.boxplot(column='petal length (cm)',by='species',ax=ax)\n",
        "plt.show()"
      ],
      "execution_count": null,
      "outputs": []
    },
    {
      "cell_type": "code",
      "metadata": {
        "id": "9GWWMGYqweNG"
      },
      "source": [
        "fig, ax = plt.subplots(figsize=(10,6))\n",
        "iris_df.boxplot(column='sepal length (cm)',by='species',ax=ax)\n",
        "plt.show()"
      ],
      "execution_count": null,
      "outputs": []
    },
    {
      "cell_type": "code",
      "metadata": {
        "id": "as4m6sUJwcSU"
      },
      "source": [
        "fig, ax = plt.subplots(figsize=(10,6))\n",
        "iris_df.boxplot(column='petal width (cm)',by='species',ax=ax)\n",
        "plt.show()"
      ],
      "execution_count": null,
      "outputs": []
    },
    {
      "cell_type": "code",
      "metadata": {
        "id": "WcUd6HA0lWPn"
      },
      "source": [
        "fig, ax = plt.subplots(figsize=(10,6))\n",
        "iris_df.boxplot(column='sepal width (cm)',by='species',ax=ax)\n",
        "plt.show()"
      ],
      "execution_count": null,
      "outputs": []
    },
    {
      "cell_type": "code",
      "metadata": {
        "id": "OO6xqqzH5Ia-"
      },
      "source": [
        "iris_df[iris_df['species']==0].agg('describe')"
      ],
      "execution_count": null,
      "outputs": []
    },
    {
      "cell_type": "code",
      "metadata": {
        "id": "EaITkdk5Tl-3"
      },
      "source": [
        "iris_df[iris_df['species']==1].agg('describe')"
      ],
      "execution_count": null,
      "outputs": []
    },
    {
      "cell_type": "code",
      "metadata": {
        "id": "aUQsJm8cTooM"
      },
      "source": [
        "iris_df[iris_df['species']==2].agg('describe')"
      ],
      "execution_count": null,
      "outputs": []
    },
    {
      "cell_type": "code",
      "metadata": {
        "id": "cwxd27IUUNQw"
      },
      "source": [
        "pd.plotting.scatter_matrix(iris_df[iris_df['species']==0].drop('species',axis=1),figsize=(15, 10),alpha=1)\n",
        "plt.show()"
      ],
      "execution_count": null,
      "outputs": []
    },
    {
      "cell_type": "code",
      "metadata": {
        "id": "4FBWC8VdUzO4"
      },
      "source": [
        "pd.plotting.scatter_matrix(iris_df[iris_df['species']==1].drop('species',axis=1),figsize=(15, 10),alpha=1)\n",
        "plt.show()"
      ],
      "execution_count": null,
      "outputs": []
    },
    {
      "cell_type": "code",
      "metadata": {
        "id": "rf09fQNUU2Tb"
      },
      "source": [
        "pd.plotting.scatter_matrix(iris_df[iris_df['species']==2].drop('species',axis=1),figsize=(15, 10),alpha=1)\n",
        "plt.show()"
      ],
      "execution_count": null,
      "outputs": []
    },
    {
      "cell_type": "code",
      "metadata": {
        "id": "Ixwirgi7U-Dx"
      },
      "source": [
        "sns.pairplot(iris_df)"
      ],
      "execution_count": null,
      "outputs": []
    },
    {
      "cell_type": "code",
      "metadata": {
        "id": "6LzTmzkvTd81"
      },
      "source": [
        "sns.pairplot(iris_df,hue='species')"
      ],
      "execution_count": null,
      "outputs": []
    },
    {
      "cell_type": "code",
      "metadata": {
        "id": "FXDotshxXNbT"
      },
      "source": [
        "iris_df.drop('species',axis=1).corr()"
      ],
      "execution_count": null,
      "outputs": []
    },
    {
      "cell_type": "code",
      "metadata": {
        "id": "_7UDy-XkY4J3"
      },
      "source": [
        "from mpl_toolkits.mplot3d import Axes3D\n",
        "from matplotlib.colors import ListedColormap\n",
        "# axes instance\n",
        "fig = plt.figure(figsize=(6,6))\n",
        "ax = fig.add_subplot(111, projection='3d')\n",
        "\n",
        "# get colormap from seaborn\n",
        "cmap = ListedColormap(sns.color_palette(\"husl\", 256).as_hex())\n",
        "\n",
        "# plot\n",
        "sc = ax.scatter(iris_df['petal length (cm)'], iris_df['sepal length (cm)'], iris_df['sepal width (cm)'], s=40, c=(iris_df.species), marker='o', alpha=.5)\n",
        "ax.set_xlabel('petal length (cm)')\n",
        "ax.set_ylabel('sepal length (cm)')\n",
        "ax.set_zlabel('sepal width (cm)')\n",
        "\n",
        "# legend\n",
        "plt.legend(*sc.legend_elements(), bbox_to_anchor=(1.05, 1), loc=2)"
      ],
      "execution_count": null,
      "outputs": []
    },
    {
      "cell_type": "code",
      "metadata": {
        "id": "rA4SZwATL-zn"
      },
      "source": [],
      "execution_count": null,
      "outputs": []
    }
  ]
}