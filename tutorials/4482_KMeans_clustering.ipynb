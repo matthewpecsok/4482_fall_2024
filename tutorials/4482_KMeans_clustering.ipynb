{
  "cells": [
    {
      "cell_type": "markdown",
      "metadata": {
        "id": "tjbk9cr4kxFv"
      },
      "source": [
        "https://scikit-learn.org/stable/modules/generated/sklearn.cluster.KMeans.html\n",
        "\n",
        "\n",
        "https://scikit-learn.org/stable/modules/clustering.html"
      ]
    },
    {
      "cell_type": "markdown",
      "metadata": {
        "id": "56sURs7esXIf"
      },
      "source": [
        "# libraries"
      ]
    },
    {
      "cell_type": "code",
      "execution_count": null,
      "metadata": {
        "id": "wWh_TE9bsYd5"
      },
      "outputs": [],
      "source": [
        "from sklearn.cluster import KMeans\n",
        "from sklearn.cluster import AgglomerativeClustering\n",
        "from scipy.cluster.hierarchy import dendrogram\n",
        "\n",
        "import numpy as np\n",
        "import pandas as pd\n",
        "\n",
        "from matplotlib import pyplot as plt\n",
        "import seaborn as sns\n",
        "\n",
        "from sklearn.datasets import load_iris\n",
        "from sklearn import datasets\n",
        "\n",
        "from sklearn.preprocessing import StandardScaler"
      ]
    },
    {
      "cell_type": "markdown",
      "metadata": {
        "id": "thVZS-v2R7Fb"
      },
      "source": [
        "# wine dataset\n",
        "\n",
        "import wine create df with column names"
      ]
    },
    {
      "cell_type": "code",
      "execution_count": null,
      "metadata": {
        "id": "cJRHnjbRQKlS"
      },
      "outputs": [],
      "source": [
        "\n",
        "wine = datasets.load_wine()\n",
        "wine"
      ]
    },
    {
      "cell_type": "markdown",
      "metadata": {
        "id": "k_uV0OcZSfOb"
      },
      "source": [
        "## numpy array of wine data"
      ]
    },
    {
      "cell_type": "code",
      "execution_count": null,
      "metadata": {
        "id": "xv8t-OFklXOl"
      },
      "outputs": [],
      "source": [
        "data = wine['data']\n",
        "\n",
        "data"
      ]
    },
    {
      "cell_type": "markdown",
      "metadata": {
        "id": "hjeOmFpYShgT"
      },
      "source": [
        "## convert to dataframe for ease of exploration"
      ]
    },
    {
      "cell_type": "code",
      "execution_count": null,
      "metadata": {
        "id": "FUR3IHGbllWQ"
      },
      "outputs": [],
      "source": [
        "\n",
        "df_wine = pd.DataFrame(data, columns=wine['feature_names'])\n",
        "df_wine"
      ]
    },
    {
      "cell_type": "code",
      "execution_count": null,
      "metadata": {
        "id": "jYI_roqWH-Zv"
      },
      "outputs": [],
      "source": [
        "df_wine.describe()"
      ]
    },
    {
      "cell_type": "markdown",
      "metadata": {
        "id": "w7KjxxHcSt47"
      },
      "source": [
        "## standardize using standard scaler"
      ]
    },
    {
      "cell_type": "code",
      "execution_count": null,
      "metadata": {
        "id": "7H9SHXj_S0Mu"
      },
      "outputs": [],
      "source": [
        "df_wine_scaled = StandardScaler().fit_transform(df_wine)\n",
        "df_wine_scaled = pd.DataFrame(df_wine_scaled, columns=wine['feature_names']) # convert back to pandas from numpy\n",
        "df_wine_scaled.head()"
      ]
    },
    {
      "cell_type": "code",
      "execution_count": null,
      "metadata": {
        "id": "ILJZN2fcIgfI"
      },
      "outputs": [],
      "source": [
        "df_wine_scaled.describe()"
      ]
    },
    {
      "cell_type": "markdown",
      "metadata": {
        "id": "krYC56uIU4dA"
      },
      "source": [
        "add in the cultivar for our data"
      ]
    },
    {
      "cell_type": "code",
      "execution_count": null,
      "metadata": {
        "id": "BtVQQQ4jpdk4"
      },
      "outputs": [],
      "source": [
        "\n",
        "\n",
        "df_wine['cultivar'] = wine.target\n",
        "df_wine_scaled['cultivar'] = wine.target\n",
        "df_wine"
      ]
    },
    {
      "cell_type": "markdown",
      "metadata": {
        "id": "vZKLTx4rSB4l"
      },
      "source": [
        "## wine target\n",
        "\n",
        "if we were doing supervised learning these are the labels/target that we would be predicting. notice this is NOT a binary classification problem. we have 3 total classes (wine cultivars)"
      ]
    },
    {
      "cell_type": "code",
      "execution_count": null,
      "metadata": {
        "id": "l0Xs6Outlz1F"
      },
      "outputs": [],
      "source": [
        "wine['target']"
      ]
    },
    {
      "cell_type": "markdown",
      "metadata": {
        "id": "edFmI44D0RgH"
      },
      "source": [
        "# plot incremental increase in cluster numbers and results of that cluster by alcalinity and alcohol"
      ]
    },
    {
      "cell_type": "code",
      "execution_count": null,
      "metadata": {
        "id": "eRWAA2QSFpHd"
      },
      "outputs": [],
      "source": [
        "df_wine_scaled.columns.to_list()"
      ]
    },
    {
      "cell_type": "code",
      "execution_count": null,
      "metadata": {
        "id": "xMpHX-YUe5xK"
      },
      "outputs": [],
      "source": [
        "\n",
        "\n",
        "# experiment with different numbers of clusters and plot the results\n",
        "\n",
        "for i in range(1,11):\n",
        "  cluster = KMeans(i).fit_predict(df_wine_scaled.drop('cultivar',axis=1)) # make sure we don't use the target for kmeans\n",
        "  df_wine_scaled['cluster'] = cluster\n",
        "  print(f'cluster size {i}')\n",
        "  sns.lmplot(x='alcohol', y='alcalinity_of_ash', data=df_wine_scaled, hue='cluster', fit_reg=False)\n",
        "\n",
        "  plt.title(f\"wines by alcohol and alcalinity of ash. {i} clusters highlight = cluster\")\n",
        "  plt.show()\n",
        "  for column in df_wine_scaled.columns:\n",
        "    df_wine_scaled.boxplot(column,by='cluster')\n",
        "    plt.show()\n",
        "\n",
        "\n",
        "#plt.plot(inertia_lst)"
      ]
    },
    {
      "cell_type": "markdown",
      "metadata": {
        "id": "6f6tX6R3SSF6"
      },
      "source": [
        "## inertia\n",
        "\n",
        "one strategy to find the 'optimial' number of clusters is to use the sum of squares using the elbow method ideally there is a signficant reduction in the sum of squared distances until some number of clusters n at which point this is the optimal number as creating more clusters won't reduce the sum much more than has already been accomplished.\n",
        "\n",
        "In the example below this is probably around 5-7  \n",
        "\n",
        "https://scikit-learn.org/stable/modules/generated/sklearn.cluster.KMeans.html"
      ]
    },
    {
      "cell_type": "code",
      "execution_count": null,
      "metadata": {
        "id": "8MIJ5BW6tXsU"
      },
      "outputs": [],
      "source": [
        "list(range(1,15))"
      ]
    },
    {
      "cell_type": "code",
      "execution_count": null,
      "metadata": {
        "id": "4SPUXKcfmLqV"
      },
      "outputs": [],
      "source": [
        "\n",
        "inertia_lst = []\n",
        "model_lst = []\n",
        "\n",
        "for i in range(1,15):\n",
        "  model = KMeans(i).fit(df_wine_scaled)\n",
        "  inertia_lst.append(model.inertia_)\n",
        "  model_lst.append(model)\n",
        "\n",
        "\n",
        "plt.plot(inertia_lst)\n",
        "plt.title('elbow method to discern optimal cluster size')\n",
        "plt.xlabel('cluster size')\n",
        "plt.ylabel('sum of squares')\n",
        "\n",
        "plt.show()"
      ]
    },
    {
      "cell_type": "code",
      "execution_count": null,
      "metadata": {
        "id": "hHIoUpWesfyT"
      },
      "outputs": [],
      "source": [
        "df_wine_scaled.cultivar.value_counts()"
      ]
    },
    {
      "cell_type": "markdown",
      "metadata": {
        "id": "odbpyJG8TPU5"
      },
      "source": [
        "## explore cultivar and cluster creation\n",
        "\n",
        "here we see what the actual cultivars are for our data. notice there is overlap in alcohol content and alcalinity across cultivars, but there are patterns in the data that immediately are apparent.\n",
        "\n",
        "cultivar 0 appears to have more alcohol, and also less alcalinity than the other cultivars, but not in every case.\n",
        "\n",
        "\n"
      ]
    },
    {
      "cell_type": "markdown",
      "metadata": {
        "id": "hZS7d-ahUdSZ"
      },
      "source": [
        "\n",
        "#### cultivar"
      ]
    },
    {
      "cell_type": "code",
      "execution_count": null,
      "metadata": {
        "id": "rBZqRzFInOPr"
      },
      "outputs": [],
      "source": [
        "sns.lmplot(x='alcohol', y='alcalinity_of_ash', data=df_wine_scaled, hue='cultivar', fit_reg=False)\n",
        "plt.title(\"wines by alcohol and alcalinity of ash. highlight = cultivar\")\n",
        "plt.show()"
      ]
    },
    {
      "cell_type": "code",
      "execution_count": null,
      "metadata": {
        "id": "gmxpZg-rLYQo"
      },
      "outputs": [],
      "source": [
        "kmeans_3 = KMeans(3).fit(df_wine_scaled.drop('cultivar',axis=1))"
      ]
    },
    {
      "cell_type": "code",
      "execution_count": null,
      "metadata": {
        "id": "haf5_o9x1x1P"
      },
      "outputs": [],
      "source": [
        "cluster = kmeans_3.predict(df_wine_scaled.drop('cultivar',axis=1)) # make sure we don't use the target for kmeans\n",
        "df_wine_scaled['cluster'] = cluster"
      ]
    },
    {
      "cell_type": "markdown",
      "metadata": {
        "id": "jpzTqUI6L32O"
      },
      "source": [
        "show the cluster center coordinates for a 3 cluster KMeans."
      ]
    },
    {
      "cell_type": "code",
      "execution_count": null,
      "metadata": {
        "id": "3MJm4Zf6LV0u"
      },
      "outputs": [],
      "source": [
        "kmm_3_df = pd.DataFrame(kmeans_3.cluster_centers_,columns=df_wine_scaled.drop('cultivar',axis=1).columns)\n",
        "kmm_3_df['cluster'] = 'centroid'\n",
        "kmm_3_df"
      ]
    },
    {
      "cell_type": "code",
      "execution_count": null,
      "metadata": {
        "id": "ogZRRlscMECw"
      },
      "outputs": [],
      "source": [
        "\n",
        "\n",
        "#sns.lmplot('alcohol', 'alcalinity_of_ash', data=kmm_3_df, hue='cluster', fit_reg=False)\n",
        "sns.lmplot(x='alcohol', y='alcalinity_of_ash', data=pd.concat([df_wine_scaled,kmm_3_df]), hue='cluster', fit_reg=False)\n",
        "plt.title(\"wines by alcohol and alcalinity of ash. highlight = cluster\")\n",
        "plt.show()"
      ]
    },
    {
      "cell_type": "code",
      "execution_count": null,
      "metadata": {
        "id": "rUR74qK2TOgy"
      },
      "outputs": [],
      "source": [
        "sns.lmplot(x='alcohol', y='alcalinity_of_ash', data=df_wine_scaled, hue='cluster', fit_reg=False)\n",
        "plt.title(\"wines by alcohol and alcalinity of ash. highlight = cluster\")\n",
        "plt.show()"
      ]
    },
    {
      "cell_type": "code",
      "execution_count": null,
      "metadata": {
        "id": "MX2_3b8Sved4"
      },
      "outputs": [],
      "source": [
        "df_wine_scaled.cluster.value_counts()"
      ]
    },
    {
      "cell_type": "code",
      "execution_count": null,
      "metadata": {
        "id": "9-0SoOTDvjN5"
      },
      "outputs": [],
      "source": [
        "df_wine_scaled.cultivar.value_counts()"
      ]
    },
    {
      "cell_type": "code",
      "execution_count": null,
      "metadata": {
        "id": "2E3WTyknxY4u"
      },
      "outputs": [],
      "source": [
        "pd.crosstab(df_wine_scaled['cluster'], df_wine_scaled['cultivar'])"
      ]
    },
    {
      "cell_type": "markdown",
      "metadata": {
        "id": "bbMURwCAYfwL"
      },
      "source": [
        "# boxplot alcohol\n",
        "\n",
        "here we show a boxplot of alcohol content by both the original label of cultivar and the discovered cluster.\n",
        "\n",
        "do these plots look similar to you? how could it be that the kmeans algorithm has somehow found a cluster separation that appears to match the cultivar?"
      ]
    },
    {
      "cell_type": "code",
      "execution_count": null,
      "metadata": {
        "id": "QBUgJL1Mx7fS"
      },
      "outputs": [],
      "source": [
        "df_wine_scaled.boxplot('alcohol',by='cultivar')\n",
        "plt.show()"
      ]
    },
    {
      "cell_type": "code",
      "execution_count": null,
      "metadata": {
        "id": "1foJWStRwRh1"
      },
      "outputs": [],
      "source": [
        "df_wine_scaled.boxplot('alcohol',by='cluster')\n",
        "plt.show()"
      ]
    },
    {
      "cell_type": "markdown",
      "metadata": {
        "id": "u24UDLV2x6GY"
      },
      "source": [
        "# PCA\n",
        "\n",
        "Use principal component analysis to reduce the number of dimensions (columns) of our data and allow us to more easily visualize our clusters by the new columns which are now principal components"
      ]
    },
    {
      "cell_type": "markdown",
      "metadata": {
        "id": "eczmS5ijyHF3"
      },
      "source": [
        "first make a PCA object with 15 principal components (the same shape as our current dataset's columns (15)\n",
        "\n",
        "fit to our data to generate principal components"
      ]
    },
    {
      "cell_type": "code",
      "execution_count": null,
      "metadata": {
        "id": "-bRasJtdsH7z"
      },
      "outputs": [],
      "source": [
        "from sklearn.decomposition import PCA\n",
        "\n",
        "pca = PCA(n_components=15, svd_solver='full')\n",
        "pca.fit(df_wine_scaled)"
      ]
    },
    {
      "cell_type": "markdown",
      "metadata": {
        "id": "GXHnjcuayVfd"
      },
      "source": [
        "explain which components explain what proportion of data"
      ]
    },
    {
      "cell_type": "code",
      "execution_count": null,
      "metadata": {
        "id": "LMpgs5XIpChr"
      },
      "outputs": [],
      "source": [
        "print(pca.explained_variance_ratio_)"
      ]
    },
    {
      "cell_type": "markdown",
      "metadata": {
        "id": "u3hfOZftyaMx"
      },
      "source": [
        "cumulative sum the PCA components so that we can show how many principal components are needed to explain what proportion of variance in the data\n",
        "\n",
        "the way to read this output is that the first compoenet explains 45% of variance, including the second adds 22% which brings us to 68% of the variance, and so on until 15 components are used and we can explain all the variance since we started with 15 original columns\n"
      ]
    },
    {
      "cell_type": "code",
      "execution_count": null,
      "metadata": {
        "id": "kpqKjo8cphyZ"
      },
      "outputs": [],
      "source": [
        "np.cumsum(pca.explained_variance_ratio_)"
      ]
    },
    {
      "cell_type": "markdown",
      "metadata": {
        "id": "r4QbOhFqpueR"
      },
      "source": [
        "by the 5th Principal component we have explained about 80% of the variance in our data"
      ]
    },
    {
      "cell_type": "code",
      "execution_count": null,
      "metadata": {
        "id": "j-RnVsPqpMib"
      },
      "outputs": [],
      "source": [
        "sum(pca.explained_variance_ratio_)"
      ]
    },
    {
      "cell_type": "markdown",
      "metadata": {
        "id": "REdAb99i3o_O"
      },
      "source": [
        "note: 0 on this plot is actually the FIRST principal component"
      ]
    },
    {
      "cell_type": "code",
      "execution_count": null,
      "metadata": {
        "id": "P1obxNQoPyKI"
      },
      "outputs": [],
      "source": [
        "pca_comp = pd.DataFrame(pca.components_)\n",
        "pca_comp.columns = ['PC' + x for x in list(map(str,list(range(1,16))))]\n",
        "\n",
        "pca_comp.columns = df_wine_scaled.columns\n",
        "pca_comp\n",
        "\n",
        "# in this case each row is a principal component"
      ]
    },
    {
      "cell_type": "code",
      "execution_count": null,
      "metadata": {
        "id": "CQUFYLHrpU-L"
      },
      "outputs": [],
      "source": [
        "plt.plot(np.cumsum(pca.explained_variance_ratio_))\n",
        "plt.title('cumulative sum of variance explained by principal components')\n",
        "plt.show()"
      ]
    },
    {
      "cell_type": "code",
      "execution_count": null,
      "metadata": {
        "id": "YnYt_JuMTEYP"
      },
      "outputs": [],
      "source": [
        "df_wine_scaled.shape"
      ]
    },
    {
      "cell_type": "code",
      "execution_count": null,
      "metadata": {
        "id": "iQSukmqQVq9D"
      },
      "outputs": [],
      "source": [
        "list(range(0,6))"
      ]
    },
    {
      "cell_type": "code",
      "execution_count": null,
      "metadata": {
        "id": "20CNF3i8qfGJ"
      },
      "outputs": [],
      "source": [
        "pca_six = PCA(6)\n",
        "df_wine_scaled_pca = pca_six.fit_transform(df_wine_scaled.drop('cluster',axis=1))\n",
        "\n",
        "df_wine_scaled_pca = pd.DataFrame(df_wine_scaled_pca)\n",
        "df_wine_scaled_pca.columns = ['PC' + x for x in list(map(str,list(range(0,6))))]\n",
        "\n",
        "df_wine_scaled_pca['cluster'] = KMeans(3).fit_predict(df_wine_scaled_pca)"
      ]
    },
    {
      "cell_type": "code",
      "execution_count": null,
      "metadata": {
        "id": "mYJjsHw7TN0B"
      },
      "outputs": [],
      "source": [
        "df_wine_scaled_pca#.head()"
      ]
    },
    {
      "cell_type": "markdown",
      "metadata": {
        "id": "tuZ5ZbHWzQkh"
      },
      "source": [
        "notice here how good of separation we have in our data when viewed through the lens of the first two principal components."
      ]
    },
    {
      "cell_type": "code",
      "execution_count": null,
      "metadata": {
        "id": "XqEldD2Aw_mh"
      },
      "outputs": [],
      "source": [
        "sns.lmplot(x=\"PC0\", y=\"PC1\", data=df_wine_scaled_pca, hue='cluster', fit_reg=False)\n",
        "plt.title(\"clusters by Principal Components 1 and 2\")\n",
        "plt.show()"
      ]
    },
    {
      "cell_type": "code",
      "execution_count": null,
      "metadata": {
        "id": "oVlSVmBdw_8z"
      },
      "outputs": [],
      "source": [
        "sns.lmplot(x=\"PC1\", y=\"PC2\", data=df_wine_scaled_pca, hue='cluster', fit_reg=False)\n",
        "plt.title(\"clusters by Principal Components 2 and 3\")\n",
        "plt.show()"
      ]
    },
    {
      "cell_type": "markdown",
      "metadata": {
        "id": "LoNYBWuSSPgB"
      },
      "source": [
        "examine the principal component shape\n",
        "in this case the rows are not observations, but are INSTEAD principal components. meaning row 0 is the FIRST principal component"
      ]
    },
    {
      "cell_type": "code",
      "execution_count": null,
      "metadata": {
        "id": "ZjWNurbtLLF_"
      },
      "outputs": [],
      "source": [
        "pca_six.components_.shape"
      ]
    },
    {
      "cell_type": "code",
      "execution_count": null,
      "metadata": {
        "id": "z_WoRyevUvlM"
      },
      "outputs": [],
      "source": [
        "pca_six_df = pd.DataFrame(pca_six.components_,columns=df_wine_scaled.columns.drop('cluster'))\n",
        "pca_six_df"
      ]
    },
    {
      "cell_type": "code",
      "execution_count": null,
      "metadata": {
        "id": "JgzjbiNJXK5a"
      },
      "outputs": [],
      "source": [
        "pca_six_df_tp = pca_six_df.transpose()\n",
        "pca_six_df_tp.columns = list(map(str,range(1,7)))\n",
        "pca_six_df_tp"
      ]
    },
    {
      "cell_type": "code",
      "execution_count": null,
      "metadata": {
        "id": "3gx5gNZUXnVX"
      },
      "outputs": [],
      "source": [
        "pca_six_df_tp.columns"
      ]
    },
    {
      "cell_type": "code",
      "execution_count": null,
      "metadata": {
        "id": "-MSuEBIDW3Tk"
      },
      "outputs": [],
      "source": [
        "pca_six_df_tp.sort_values('1',ascending=False)\n",
        "\n",
        "# this shows that flavanoids is the most important feature in Principal Component 1\n"
      ]
    },
    {
      "cell_type": "code",
      "execution_count": null,
      "metadata": {
        "id": "PRRZRpxFSYc2"
      },
      "outputs": [],
      "source": [
        "!cp \"/content/drive/My Drive/Colab Notebooks/4482_KMeans_clustering.ipynb\" ./\n",
        "\n",
        "# run the second shell command, jupyter nbconvert --to html \"file name of the notebook\"\n",
        "# create html from ipynb\n",
        "\n",
        "!jupyter nbconvert --to html \"4482_KMeans_clustering.ipynb\""
      ]
    }
  ],
  "metadata": {
    "colab": {
      "authorship_tag": "ABX9TyPrXVHBkxksMgkpa4+0FVf6",
      "name": "4482_KMeans_clustering.ipynb",
      "provenance": []
    },
    "kernelspec": {
      "display_name": "Python 3",
      "name": "python3"
    },
    "language_info": {
      "name": "python"
    }
  },
  "nbformat": 4,
  "nbformat_minor": 0
}
