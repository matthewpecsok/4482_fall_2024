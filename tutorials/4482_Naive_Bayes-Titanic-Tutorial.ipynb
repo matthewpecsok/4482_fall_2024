{
  "nbformat": 4,
  "nbformat_minor": 0,
  "metadata": {
    "colab": {
      "name": "4482_Naive_Bayes-Titanic-Tutorial.ipynb",
      "provenance": [],
      "mount_file_id": "1MBjQOlEXPcBLgIJuuuCN-YonPrJpRNTK",
      "authorship_tag": "ABX9TyOAqMeaG24VSt9PXg2AA1IB",
      "include_colab_link": true
    },
    "kernelspec": {
      "name": "python3",
      "display_name": "Python 3"
    },
    "language_info": {
      "name": "python"
    }
  },
  "cells": [
    {
      "cell_type": "markdown",
      "metadata": {
        "id": "view-in-github",
        "colab_type": "text"
      },
      "source": [
        "<a href=\"https://colab.research.google.com/github/matthewpecsok/4482_fall_2022/blob/main/tutorials/4482_Naive_Bayes-Titanic-Tutorial.ipynb\" target=\"_parent\"><img src=\"https://colab.research.google.com/assets/colab-badge.svg\" alt=\"Open In Colab\"/></a>"
      ]
    },
    {
      "cell_type": "markdown",
      "metadata": {
        "id": "26Pu4hwnWK_o"
      },
      "source": [
        "NB Titaic Tutorial\n",
        "Converted to Python by Matthew Pecsok from Dr. Olivia Sheng's original tutorial in R\n",
        "June 12, 2021\n",
        "\n",
        "1 Data description\n",
        "\n",
        "2 Library Setup\n",
        "\n",
        "3 Overall data inspection\n",
        "\n",
        "4 NB model building using sklearn package\n",
        "\n",
        "5 Explanatory data exploration\n",
        "\n",
        "6 Generate performance metrics\n",
        "\n",
        "7 Simple hold-out evaluation\n"
      ]
    },
    {
      "cell_type": "markdown",
      "metadata": {
        "id": "Ymj-4laRWpSo"
      },
      "source": [
        "# 1 Data description\n",
        "\n",
        "The sinking of the RMS Titanic is one of the most infamous shipwrecks in history. On April 15, 1912, during her maiden voyage, the Titanic sank after colliding with an iceberg, killing 1502 out of 2224 passengers and crew. This sensational tragedy shocked the international community and led to better safety regulations for ships.One of the reasons that the shipwreck led to such loss of life was that there were not enough lifeboats for the passengers and crew. Although there was some element of luck involved in surviving the sinking, some groups of people such as women, children, and the upper-class were more likely to survive than others.\n",
        "\n",
        "VARIABLE DESCRIPTIONS:\n",
        "\n",
        "PassengerID Unique passenger identifier\n",
        "\n",
        "Survived Survival (0 = No; 1 = Yes)\n",
        "\n",
        "Pclass Passenger Class(1 = 1st; 2 = 2nd; 3 = 3rd) (Pclass is a proxy for socio-economic status (SES) 1st ~ Upper; 2nd ~ Middle; 3rd ~ Lower)\n",
        "\n",
        "Name\n",
        "\n",
        "Sex\n",
        "\n",
        "Age - (Age is in Years; Fractional if Age less than One (1) If the Age is Estimated, it is in the form xx.5)\n",
        "\n",
        "Sibsp - Number of Siblings/Spouses Aboard Parch Number of Parents/Children Aboard\n",
        "\n",
        "Ticket Number\n",
        "\n",
        "Fare - Passenger Fare\n",
        "\n",
        "Cabin\n",
        "\n",
        "Embarked - Port of Embarkation (C = Cherbourg; Q = Queenstown; S = Southampton)\n"
      ]
    },
    {
      "cell_type": "markdown",
      "metadata": {
        "id": "rrGrav6GWCyD"
      },
      "source": [
        "# 2 Library Setup"
      ]
    },
    {
      "cell_type": "markdown",
      "metadata": {
        "id": "vyF2BWVRddcQ"
      },
      "source": [
        "https://scikit-learn.org/stable/modules/naive_bayes.html"
      ]
    },
    {
      "cell_type": "code",
      "metadata": {
        "id": "oUH1j9Y8cqa2"
      },
      "source": [
        "import pandas as pd\n",
        "import numpy as np\n",
        "\n",
        "import os\n",
        "\n",
        "from sklearn.datasets import load_iris\n",
        "from sklearn.model_selection import train_test_split\n",
        "from sklearn.naive_bayes import CategoricalNB\n",
        "from sklearn.naive_bayes import GaussianNB\n",
        "\n",
        "import matplotlib.pyplot as plt\n",
        "\n",
        "from sklearn.metrics import confusion_matrix, ConfusionMatrixDisplay\n",
        "\n",
        "from sklearn import metrics\n"
      ],
      "execution_count": null,
      "outputs": []
    },
    {
      "cell_type": "markdown",
      "metadata": {
        "id": "3I44gRJ-fOH2"
      },
      "source": [
        "# 3 overall data inspection"
      ]
    },
    {
      "cell_type": "code",
      "metadata": {
        "id": "r4-8RJS6fTt1"
      },
      "source": [
        "titanic = pd.read_csv(\"https://raw.githubusercontent.com/matthewpecsok/4482_fall_2022/main/data/titanic_cleaned.csv\")\n",
        "titanic_orig = titanic.copy()"
      ],
      "execution_count": null,
      "outputs": []
    },
    {
      "cell_type": "code",
      "metadata": {
        "id": "nhgJzBw1fkHP"
      },
      "source": [
        "type(titanic)"
      ],
      "execution_count": null,
      "outputs": []
    },
    {
      "cell_type": "markdown",
      "metadata": {
        "id": "EQKcr2IIfxLy"
      },
      "source": [
        "https://scikit-learn.org/stable/modules/generated/sklearn.utils.Bunch.html"
      ]
    },
    {
      "cell_type": "code",
      "metadata": {
        "id": "lnYistoEgK41"
      },
      "source": [
        "titanic.shape"
      ],
      "execution_count": null,
      "outputs": []
    },
    {
      "cell_type": "code",
      "metadata": {
        "id": "pzAaHGwPgUnn"
      },
      "source": [
        "titanic.columns"
      ],
      "execution_count": null,
      "outputs": []
    },
    {
      "cell_type": "markdown",
      "metadata": {
        "id": "vwnhlAT1gp0s"
      },
      "source": [
        "tranform the data from a numpy array and a list into a pandas dataframe for exploratory data analysis"
      ]
    },
    {
      "cell_type": "code",
      "metadata": {
        "id": "jyHXW9zDRBrP"
      },
      "source": [
        "titanic.info()"
      ],
      "execution_count": null,
      "outputs": []
    },
    {
      "cell_type": "code",
      "metadata": {
        "id": "VXkpzAR4Q3sy"
      },
      "source": [
        "# remove all non-categorical type columns\n",
        "# also remove cabin as it is causing issues currently when splitting\n",
        "titanic = titanic[['Survived','Sex','Embarked','Pclass']]"
      ],
      "execution_count": null,
      "outputs": []
    },
    {
      "cell_type": "code",
      "metadata": {
        "id": "eeeuFqJAga3v"
      },
      "source": [
        "titanic"
      ],
      "execution_count": null,
      "outputs": []
    },
    {
      "cell_type": "code",
      "metadata": {
        "id": "jXkrhk4dj_h3"
      },
      "source": [
        "titanic.info()"
      ],
      "execution_count": null,
      "outputs": []
    },
    {
      "cell_type": "code",
      "metadata": {
        "id": "x_148xVikJt7"
      },
      "source": [
        "titanic.describe(include='all')"
      ],
      "execution_count": null,
      "outputs": []
    },
    {
      "cell_type": "code",
      "metadata": {
        "id": "-T6KbjuWB4Eq"
      },
      "source": [
        "titanic.head(2)"
      ],
      "execution_count": null,
      "outputs": []
    },
    {
      "cell_type": "markdown",
      "metadata": {
        "id": "s89zzUvKV6a-"
      },
      "source": [
        "## 3.1 Data Type Update Notes\n",
        "\n",
        "One key change this notebook has that needs to be addressed which was not explained in the video is the fact that we are using a single Categorical model here for Naive Bayes. The sklearn package doesn't support using a single model for both Gaussian (continuous ie 1.3,2.5,1.98 etc) data as well as categorical data such as A,B,C. This means that two models need to be fit in order to achieve the same predictions as the R package e1071 which can handle multiple variable types. At the root of this is the fact that in R factor variables are intended to be created in the data transformation phase, and then the model itself can use this information to use a gaussian model for continuous data and categorical model for categorical data. In python we do not code factor data in quite the same way and so the models do not support this outof the box.\n",
        "\n",
        "To resolve this issue we predict with both models on their respective data and then do a tiny bit of math using what we know about bayes formula to get back to a single classification prediction.\n",
        "\n",
        "https://scikit-learn.org/stable/modules/generated/sklearn.naive_bayes.GaussianNB.html#sklearn.naive_bayes.GaussianNB\n",
        "\n",
        "https://scikit-learn.org/stable/modules/generated/sklearn.naive_bayes.CategoricalNB.html\n"
      ]
    },
    {
      "cell_type": "code",
      "metadata": {
        "id": "VUlWz38wVtfN"
      },
      "source": [
        "y = titanic.pop('Survived')"
      ],
      "execution_count": null,
      "outputs": []
    },
    {
      "cell_type": "markdown",
      "metadata": {
        "id": "F3krVhvdtkZm"
      },
      "source": [
        "## Dummy encoding the dataframe"
      ]
    },
    {
      "cell_type": "markdown",
      "metadata": {
        "id": "8sGQ9GB-fyNM"
      },
      "source": [
        "## 3.2 encode the data"
      ]
    },
    {
      "cell_type": "code",
      "metadata": {
        "id": "ET230cZwBgjy"
      },
      "source": [
        "#convert all columns to\n",
        "titanic['Pclass'] = titanic['Pclass'].astype(str)\n",
        "titanic.dtypes\n"
      ],
      "execution_count": null,
      "outputs": []
    },
    {
      "cell_type": "code",
      "metadata": {
        "id": "a7qf3iN6VTnT"
      },
      "source": [
        "titanic_enc = pd.get_dummies(titanic)"
      ],
      "execution_count": null,
      "outputs": []
    },
    {
      "cell_type": "code",
      "metadata": {
        "id": "8s-2dGcYSnSZ"
      },
      "source": [
        "titanic_enc.dtypes"
      ],
      "execution_count": null,
      "outputs": []
    },
    {
      "cell_type": "markdown",
      "metadata": {
        "id": "D53Z0cEMDp66"
      },
      "source": [
        "## 3.5 build a new predictive model with ONLY  categorical features, return the predictions\n"
      ]
    },
    {
      "cell_type": "code",
      "metadata": {
        "id": "t-xPI0sVDzCJ"
      },
      "source": [
        "cnb = CategoricalNB() # create a gaussian model\n",
        "\n",
        "cnb.fit(titanic_enc,y)\n",
        "cnb_pred_proba = cnb.predict_proba(titanic_enc) # predict and get probabilities value\n",
        "\n",
        "cnb_pred_proba[0:10]"
      ],
      "execution_count": null,
      "outputs": []
    },
    {
      "cell_type": "markdown",
      "metadata": {
        "id": "S0ykIDn9JB63"
      },
      "source": [
        "# 4 NB model building using sklearn package"
      ]
    },
    {
      "cell_type": "code",
      "metadata": {
        "id": "LYtgAdHSGDCM"
      },
      "source": [
        "cnb_pred = cnb.predict(titanic_enc) # predict and get probabilities value\n",
        "\n",
        "cnb_pred[0:10]"
      ],
      "execution_count": null,
      "outputs": []
    },
    {
      "cell_type": "code",
      "metadata": {
        "id": "ekv7VFtIMHqs"
      },
      "source": [
        "print(cnb.class_prior)"
      ],
      "execution_count": null,
      "outputs": []
    },
    {
      "cell_type": "markdown",
      "metadata": {
        "id": "hQQETarIKTSY"
      },
      "source": [
        "# 5 Explanatory data exploration"
      ]
    },
    {
      "cell_type": "code",
      "metadata": {
        "id": "A2mwTpjP3033"
      },
      "source": [
        "df = pd.crosstab(titanic_orig['Survived'], titanic_orig['Sex'])\n",
        "df"
      ],
      "execution_count": null,
      "outputs": []
    },
    {
      "cell_type": "code",
      "source": [
        "df.plot(kind='bar')"
      ],
      "metadata": {
        "id": "K78RF3_7zmNx"
      },
      "execution_count": null,
      "outputs": []
    },
    {
      "cell_type": "code",
      "metadata": {
        "id": "MxrZ9kkz2Lul"
      },
      "source": [
        "# overall proportions\n",
        "df = pd.crosstab(titanic_orig['Sex'], titanic_orig['Survived'])/titanic_orig.shape[0]\n",
        "df = df.round(2)\n",
        "df"
      ],
      "execution_count": null,
      "outputs": []
    },
    {
      "cell_type": "code",
      "source": [
        "df.plot(kind='bar')"
      ],
      "metadata": {
        "id": "al5f2p5jzk6k"
      },
      "execution_count": null,
      "outputs": []
    },
    {
      "cell_type": "code",
      "metadata": {
        "id": "eEQUYidG4uEu"
      },
      "source": [
        "# proportions by gender\n",
        "ct = pd.crosstab(titanic_orig['Sex'], titanic_orig['Survived'])\n",
        "ct = ct.div(ct.sum(axis=0), axis=1).round(2)\n",
        "ct"
      ],
      "execution_count": null,
      "outputs": []
    },
    {
      "cell_type": "code",
      "source": [
        "ct.plot(kind='bar')"
      ],
      "metadata": {
        "id": "JjooggIOzkL_"
      },
      "execution_count": null,
      "outputs": []
    },
    {
      "cell_type": "code",
      "metadata": {
        "id": "7Z0R-uAC63fG"
      },
      "source": [
        "# proportions by gender\n",
        "ct = pd.crosstab(titanic_orig['Sex'], titanic_orig['Survived'])\n",
        "ct = ct.div(ct.sum(axis=1), axis=0).round(2)\n",
        "ct"
      ],
      "execution_count": null,
      "outputs": []
    },
    {
      "cell_type": "code",
      "source": [
        "ct.plot(kind='bar')\n",
        "plt.show()"
      ],
      "metadata": {
        "id": "HwtzAN50zelg"
      },
      "execution_count": null,
      "outputs": []
    },
    {
      "cell_type": "code",
      "metadata": {
        "id": "hyXbpwFX61z6"
      },
      "source": [
        "# proportions by Embarked\n",
        "ct = pd.crosstab(titanic_orig['Embarked'], titanic_orig['Survived'])\n",
        "ct = ct.div(ct.sum(axis=0), axis=1).round(2)\n",
        "ct"
      ],
      "execution_count": null,
      "outputs": []
    },
    {
      "cell_type": "code",
      "source": [
        "ct.plot(kind='bar')\n",
        "plt.show()"
      ],
      "metadata": {
        "id": "uI2LWIJqzVMM"
      },
      "execution_count": null,
      "outputs": []
    },
    {
      "cell_type": "code",
      "metadata": {
        "id": "qnwdTBGQ7FRV"
      },
      "source": [
        "# proportions by Pclass\n",
        "ct = pd.crosstab(titanic_orig['Pclass'], titanic_orig['Survived'])\n",
        "ct = ct.div(ct.sum(axis=0), axis=1).round(2)\n",
        "ct"
      ],
      "execution_count": null,
      "outputs": []
    },
    {
      "cell_type": "code",
      "source": [
        "ct.plot(kind='bar')\n",
        "plt.show()"
      ],
      "metadata": {
        "id": "Rxs_9TDy0hJB"
      },
      "execution_count": null,
      "outputs": []
    },
    {
      "cell_type": "code",
      "metadata": {
        "id": "0uHqe63U7zjh"
      },
      "source": [
        "# proportions by Pclass\n",
        "ct = pd.crosstab(titanic_orig['Pclass'], titanic_orig['Survived'])\n",
        "ct = ct.div(ct.sum(axis=1), axis=0).round(2)\n",
        "ct"
      ],
      "execution_count": null,
      "outputs": []
    },
    {
      "cell_type": "code",
      "source": [
        "ct.plot(kind='bar')\n",
        "plt.show()"
      ],
      "metadata": {
        "id": "-PQv1clh0lwx"
      },
      "execution_count": null,
      "outputs": []
    },
    {
      "cell_type": "markdown",
      "metadata": {
        "id": "ynUh5nVvKekl"
      },
      "source": [
        "# 5 Generate performance metrics"
      ]
    },
    {
      "cell_type": "code",
      "metadata": {
        "id": "qOlyDdaZ9CzC"
      },
      "source": [
        "# use the predictions we made a little bit ago to create a confusion matrix\n",
        "cm = confusion_matrix(y,cnb_pred,labels=[0,1])\n",
        "print(cm)"
      ],
      "execution_count": null,
      "outputs": []
    },
    {
      "cell_type": "code",
      "metadata": {
        "id": "LEWjcjrzGAqG"
      },
      "source": [
        "# show a confusion matrix in a more legible format\n",
        "\n",
        "disp = ConfusionMatrixDisplay(confusion_matrix=cm,\n",
        "                              display_labels=cnb.classes_\n",
        "                              )\n",
        "disp.plot(values_format='',cmap=plt.cm.Blues)\n",
        "plt.show()\n"
      ],
      "execution_count": null,
      "outputs": []
    },
    {
      "cell_type": "code",
      "metadata": {
        "id": "R1sOgcCrE_i7"
      },
      "source": [
        "print(metrics.classification_report(y,cnb_pred))"
      ],
      "execution_count": null,
      "outputs": []
    },
    {
      "cell_type": "markdown",
      "metadata": {
        "id": "DVp11yqXaojT"
      },
      "source": [
        "It's worth noting here that we used the stratify=target argument to the split function to make sure that each target class is represented at the same proportion in the test and train set. sklearn does NOT do this by default, while in R createdatapartition does."
      ]
    },
    {
      "cell_type": "markdown",
      "metadata": {
        "id": "63t-cxKQ81xO"
      },
      "source": [
        "# 6 Simple hold-out evaluation"
      ]
    },
    {
      "cell_type": "code",
      "metadata": {
        "id": "DFINnMT_akyw"
      },
      "source": [
        "cnb_split_model = CategoricalNB(alpha=0)"
      ],
      "execution_count": null,
      "outputs": []
    },
    {
      "cell_type": "code",
      "metadata": {
        "id": "WO3-5N5VYGly"
      },
      "source": [
        "titanic_pre_train_test_split = titanic.copy()\n",
        "#titanic_pre_train_test_split = titanic[['Survived','Sex','Pclass','Embarked']]\n",
        "titanic_pre_train_test_split_enc = pd.get_dummies(titanic_pre_train_test_split)\n",
        "titanic_pre_train_test_split_enc.info()"
      ],
      "execution_count": null,
      "outputs": []
    },
    {
      "cell_type": "code",
      "metadata": {
        "id": "S3HcVOXeWHvz"
      },
      "source": [
        "# now that we have encoded our data split it into train test\n",
        "X = titanic_pre_train_test_split_enc\n",
        "X_train, X_test, y_train, y_test = train_test_split(X,y , test_size=0.3, random_state=0,stratify=y)"
      ],
      "execution_count": null,
      "outputs": []
    },
    {
      "cell_type": "code",
      "metadata": {
        "id": "fHfXILDJd3th"
      },
      "source": [
        "print(X_train.shape)\n",
        "print(X_test.shape)\n",
        "print(y_train.shape)\n",
        "print(y_test.shape)\n"
      ],
      "execution_count": null,
      "outputs": []
    },
    {
      "cell_type": "code",
      "metadata": {
        "id": "fKH67cItXaBt"
      },
      "source": [
        "y_train.value_counts()"
      ],
      "execution_count": null,
      "outputs": []
    },
    {
      "cell_type": "code",
      "metadata": {
        "id": "mwqYLm0r-8qE"
      },
      "source": [
        "y_train.value_counts()/len(y_train)"
      ],
      "execution_count": null,
      "outputs": []
    },
    {
      "cell_type": "code",
      "metadata": {
        "id": "eQ0yR9E6Xr7P"
      },
      "source": [
        "y_test.value_counts()"
      ],
      "execution_count": null,
      "outputs": []
    },
    {
      "cell_type": "code",
      "metadata": {
        "id": "98bBvLnL-9PS"
      },
      "source": [
        "y_test.value_counts()/len(y_test)"
      ],
      "execution_count": null,
      "outputs": []
    },
    {
      "cell_type": "code",
      "metadata": {
        "id": "Dm0ZkQJ2M4sW"
      },
      "source": [
        "# FIT the model\n",
        "cnb_split_model.fit(X_train,y_train)"
      ],
      "execution_count": null,
      "outputs": []
    },
    {
      "cell_type": "code",
      "metadata": {
        "id": "rDjnPa1GWmNy"
      },
      "source": [
        "# predict on the TRAIN data\n",
        "y_pred_train = cnb_split_model.predict(X_train)"
      ],
      "execution_count": null,
      "outputs": []
    },
    {
      "cell_type": "code",
      "metadata": {
        "id": "tNAAzeZ7Hl0j"
      },
      "source": [
        "disp = ConfusionMatrixDisplay(\n",
        "    confusion_matrix=confusion_matrix(y_train,y_pred_train),\n",
        "    display_labels=cnb_split_model.classes_\n",
        "    )\n",
        "disp.plot(values_format='',cmap=plt.cm.Blues)\n",
        "plt.show()"
      ],
      "execution_count": null,
      "outputs": []
    },
    {
      "cell_type": "code",
      "metadata": {
        "id": "O_HhvPLGcGZV"
      },
      "source": [
        "print(metrics.classification_report(y_train,y_pred_train))"
      ],
      "execution_count": null,
      "outputs": []
    },
    {
      "cell_type": "code",
      "metadata": {
        "id": "BRSnPBvlZE-e"
      },
      "source": [
        "# now predict on our hold out data. this dataset is intended to replicate the \"real\" world by including data\n",
        "# that the model did not get to see when being fitted. it is simply a subset of our original data\n",
        "# predict on the TEST data\n",
        "import numpy as np\n",
        "\n",
        "y_pred_test = cnb_split_model.predict(X_test)"
      ],
      "execution_count": null,
      "outputs": []
    },
    {
      "cell_type": "code",
      "metadata": {
        "id": "Exn3Y_4dHw-G"
      },
      "source": [
        "disp = ConfusionMatrixDisplay(\n",
        "    confusion_matrix=confusion_matrix(y_test,y_pred_test),\n",
        "    display_labels=cnb_split_model.classes_\n",
        "    )\n",
        "disp.plot(values_format='',cmap=plt.cm.Blues)\n",
        "plt.show()"
      ],
      "execution_count": null,
      "outputs": []
    },
    {
      "cell_type": "code",
      "metadata": {
        "id": "vSGv77ZfcGb7"
      },
      "source": [
        "print(metrics.classification_report(y_test,y_pred_test))"
      ],
      "execution_count": null,
      "outputs": []
    }
  ]
}