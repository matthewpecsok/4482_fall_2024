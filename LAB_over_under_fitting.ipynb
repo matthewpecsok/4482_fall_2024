{
  "nbformat": 4,
  "nbformat_minor": 0,
  "metadata": {
    "colab": {
      "provenance": [],
      "collapsed_sections": [],
      "include_colab_link": true
    },
    "kernelspec": {
      "name": "python3",
      "display_name": "Python 3"
    },
    "language_info": {
      "name": "python"
    }
  },
  "cells": [
    {
      "cell_type": "markdown",
      "metadata": {
        "id": "view-in-github",
        "colab_type": "text"
      },
      "source": [
        "<a href=\"https://colab.research.google.com/github/matthewpecsok/4482_fall_2022/blob/main/LAB_over_under_fitting.ipynb\" target=\"_parent\"><img src=\"https://colab.research.google.com/assets/colab-badge.svg\" alt=\"Open In Colab\"/></a>"
      ]
    },
    {
      "cell_type": "markdown",
      "metadata": {
        "id": "dWVgdVutJP98"
      },
      "source": [
        "Understanding over and underfitting. Lab examples"
      ]
    },
    {
      "cell_type": "markdown",
      "metadata": {
        "id": "qjKEFgC7Ycm_"
      },
      "source": [
        "## Setup"
      ]
    },
    {
      "cell_type": "code",
      "metadata": {
        "id": "IbDv78ea7uk-"
      },
      "source": [
        "import numpy as np\n",
        "import pandas as pd\n",
        "import seaborn as sns\n",
        "\n",
        "from sklearn import metrics\n",
        "from sklearn.metrics import classification_report, confusion_matrix,\\\n",
        " recall_score, precision_score, f1_score, accuracy_score, make_scorer,\\\n",
        "  precision_recall_fscore_support\n",
        "\n",
        "from sklearn.model_selection import train_test_split, cross_validate\n",
        "from sklearn.model_selection import GridSearchCV,RandomizedSearchCV\n",
        "\n",
        "from sklearn.neural_network import MLPClassifier\n",
        "from sklearn.svm import SVC\n",
        "from sklearn import tree\n",
        "import matplotlib.pyplot as plt\n",
        "import random\n",
        "\n",
        "import warnings\n",
        "warnings.filterwarnings('ignore')\n",
        "\n",
        "pd.set_option('display.max_columns', None)\n",
        "pd.set_option('display.max_rows', None)"
      ],
      "execution_count": null,
      "outputs": []
    },
    {
      "cell_type": "markdown",
      "metadata": {
        "id": "FqyRu9C4YfJy"
      },
      "source": [
        "## Data"
      ]
    },
    {
      "cell_type": "code",
      "metadata": {
        "id": "ZL9otp_39m7r"
      },
      "source": [
        "titanic_cleaned = pd.read_csv('https://raw.githubusercontent.com/matthewpecsok/4482_fall_2022/main/data/titanic_cleaned.csv').drop('Cabin', axis=1) # drop cabin"
      ],
      "execution_count": null,
      "outputs": []
    },
    {
      "cell_type": "code",
      "metadata": {
        "id": "ebBw5oSG4SJd"
      },
      "source": [
        "titanic_cleaned['Pclass'] = titanic_cleaned.Pclass.astype(str)"
      ],
      "execution_count": null,
      "outputs": []
    },
    {
      "cell_type": "code",
      "metadata": {
        "id": "hPWZ7XI44Dqw"
      },
      "source": [
        "y = titanic_cleaned.pop('Survived')"
      ],
      "execution_count": null,
      "outputs": []
    },
    {
      "cell_type": "code",
      "metadata": {
        "id": "SuEa_lDSW1-_",
        "colab": {
          "base_uri": "https://localhost:8080/"
        },
        "outputId": "0642a6e8-75a7-4260-b76e-6f79aa72df7f"
      },
      "source": [
        "X = pd.get_dummies(titanic_cleaned)\n",
        "print(X.shape, y.shape)"
      ],
      "execution_count": null,
      "outputs": [
        {
          "output_type": "stream",
          "name": "stdout",
          "text": [
            "(714, 13) (714,)\n"
          ]
        }
      ]
    },
    {
      "cell_type": "markdown",
      "metadata": {
        "id": "m9iyfH2CYgR8"
      },
      "source": [
        "## SVC Modeling"
      ]
    },
    {
      "cell_type": "markdown",
      "metadata": {
        "id": "tsIzyTF9YhYj"
      },
      "source": [
        "### GriSearchCV \n",
        "\n",
        "Exploring multiple SVC models using grid search"
      ]
    },
    {
      "cell_type": "code",
      "source": [
        "import numpy as np\n"
      ],
      "metadata": {
        "id": "_ogJD_Mq3SSv"
      },
      "execution_count": null,
      "outputs": []
    },
    {
      "cell_type": "code",
      "metadata": {
        "id": "LVG64ZKC5Euh",
        "colab": {
          "base_uri": "https://localhost:8080/"
        },
        "outputId": "d91701c7-8e20-4f7f-a77d-78b968c46abb"
      },
      "source": [
        "from sklearn.model_selection import GridSearchCV\n",
        "parameters = {'ccp_alpha':np.arange(0,.3,.001),\n",
        "              }\n",
        "tree_model = tree.DecisionTreeClassifier(random_state=42)\n",
        "clf = GridSearchCV(tree_model, parameters,scoring='accuracy',return_train_score=True)\n",
        "clf.fit(X, y)\n"
      ],
      "execution_count": null,
      "outputs": [
        {
          "output_type": "execute_result",
          "data": {
            "text/plain": [
              "GridSearchCV(estimator=DecisionTreeClassifier(random_state=42),\n",
              "             param_grid={'ccp_alpha': array([0.   , 0.001, 0.002, 0.003, 0.004, 0.005, 0.006, 0.007, 0.008,\n",
              "       0.009, 0.01 , 0.011, 0.012, 0.013, 0.014, 0.015, 0.016, 0.017,\n",
              "       0.018, 0.019, 0.02 , 0.021, 0.022, 0.023, 0.024, 0.025, 0.026,\n",
              "       0.027, 0.028, 0.029, 0.03 , 0.031, 0.032, 0.033, 0.034, 0.035,\n",
              "       0.036, 0.037, 0.038, 0.039, 0.04 , 0.041, 0.042, 0.043...\n",
              "       0.243, 0.244, 0.245, 0.246, 0.247, 0.248, 0.249, 0.25 , 0.251,\n",
              "       0.252, 0.253, 0.254, 0.255, 0.256, 0.257, 0.258, 0.259, 0.26 ,\n",
              "       0.261, 0.262, 0.263, 0.264, 0.265, 0.266, 0.267, 0.268, 0.269,\n",
              "       0.27 , 0.271, 0.272, 0.273, 0.274, 0.275, 0.276, 0.277, 0.278,\n",
              "       0.279, 0.28 , 0.281, 0.282, 0.283, 0.284, 0.285, 0.286, 0.287,\n",
              "       0.288, 0.289, 0.29 , 0.291, 0.292, 0.293, 0.294, 0.295, 0.296,\n",
              "       0.297, 0.298, 0.299])},\n",
              "             return_train_score=True, scoring='accuracy')"
            ]
          },
          "metadata": {},
          "execution_count": 114
        }
      ]
    },
    {
      "cell_type": "code",
      "metadata": {
        "id": "BBaNEttvNyam"
      },
      "source": [
        "grid_search_df = pd.DataFrame(clf.cv_results_)\n",
        "grid_search_df = grid_search_df[['param_ccp_alpha','mean_test_score','mean_train_score']]\n",
        "grid_search_df['train_minus_test'] = grid_search_df['mean_train_score'] - grid_search_df['mean_test_score']\n",
        "grid_search_df = round(grid_search_df,3)"
      ],
      "execution_count": null,
      "outputs": []
    },
    {
      "cell_type": "markdown",
      "metadata": {
        "id": "UrjN2SVjXeda"
      },
      "source": [
        "visualize the f1 score by hyperparameter C"
      ]
    },
    {
      "cell_type": "code",
      "source": [
        "grid_search_df.sort_values('train_minus_test',ascending=False).head(20) #only taking the top five rows as this is a large dataframe sort by the best f1 scores found"
      ],
      "metadata": {
        "colab": {
          "base_uri": "https://localhost:8080/",
          "height": 676
        },
        "id": "f43E_qtWd3fs",
        "outputId": "b4ffd391-fdee-41b8-97fb-b1f395477efe"
      },
      "execution_count": null,
      "outputs": [
        {
          "output_type": "execute_result",
          "data": {
            "text/plain": [
              "    param_ccp_alpha  mean_test_score  mean_train_score  train_minus_test\n",
              "0               0.0            0.758             0.988             0.230\n",
              "1             0.001            0.759             0.984             0.225\n",
              "2             0.002            0.789             0.925             0.137\n",
              "3             0.003            0.810             0.868             0.058\n",
              "4             0.004            0.808             0.847             0.039\n",
              "5             0.005            0.801             0.838             0.036\n",
              "6             0.006            0.804             0.829             0.025\n",
              "10             0.01            0.798             0.817             0.018\n",
              "39            0.039            0.775             0.790             0.015\n",
              "40             0.04            0.775             0.790             0.015\n",
              "41            0.041            0.775             0.790             0.015\n",
              "37            0.037            0.775             0.790             0.015\n",
              "38            0.038            0.775             0.790             0.015\n",
              "7             0.007            0.811             0.826             0.015\n",
              "140            0.14            0.657             0.671             0.014\n",
              "139           0.139            0.657             0.671             0.014\n",
              "42            0.042            0.773             0.787             0.014\n",
              "43            0.043            0.773             0.787             0.014\n",
              "44            0.044            0.773             0.787             0.014\n",
              "136           0.136            0.695             0.708             0.014"
            ],
            "text/html": [
              "\n",
              "  <div id=\"df-5af76a51-2a81-4d48-8046-cc28d5100d94\">\n",
              "    <div class=\"colab-df-container\">\n",
              "      <div>\n",
              "<style scoped>\n",
              "    .dataframe tbody tr th:only-of-type {\n",
              "        vertical-align: middle;\n",
              "    }\n",
              "\n",
              "    .dataframe tbody tr th {\n",
              "        vertical-align: top;\n",
              "    }\n",
              "\n",
              "    .dataframe thead th {\n",
              "        text-align: right;\n",
              "    }\n",
              "</style>\n",
              "<table border=\"1\" class=\"dataframe\">\n",
              "  <thead>\n",
              "    <tr style=\"text-align: right;\">\n",
              "      <th></th>\n",
              "      <th>param_ccp_alpha</th>\n",
              "      <th>mean_test_score</th>\n",
              "      <th>mean_train_score</th>\n",
              "      <th>train_minus_test</th>\n",
              "    </tr>\n",
              "  </thead>\n",
              "  <tbody>\n",
              "    <tr>\n",
              "      <th>0</th>\n",
              "      <td>0.0</td>\n",
              "      <td>0.758</td>\n",
              "      <td>0.988</td>\n",
              "      <td>0.230</td>\n",
              "    </tr>\n",
              "    <tr>\n",
              "      <th>1</th>\n",
              "      <td>0.001</td>\n",
              "      <td>0.759</td>\n",
              "      <td>0.984</td>\n",
              "      <td>0.225</td>\n",
              "    </tr>\n",
              "    <tr>\n",
              "      <th>2</th>\n",
              "      <td>0.002</td>\n",
              "      <td>0.789</td>\n",
              "      <td>0.925</td>\n",
              "      <td>0.137</td>\n",
              "    </tr>\n",
              "    <tr>\n",
              "      <th>3</th>\n",
              "      <td>0.003</td>\n",
              "      <td>0.810</td>\n",
              "      <td>0.868</td>\n",
              "      <td>0.058</td>\n",
              "    </tr>\n",
              "    <tr>\n",
              "      <th>4</th>\n",
              "      <td>0.004</td>\n",
              "      <td>0.808</td>\n",
              "      <td>0.847</td>\n",
              "      <td>0.039</td>\n",
              "    </tr>\n",
              "    <tr>\n",
              "      <th>5</th>\n",
              "      <td>0.005</td>\n",
              "      <td>0.801</td>\n",
              "      <td>0.838</td>\n",
              "      <td>0.036</td>\n",
              "    </tr>\n",
              "    <tr>\n",
              "      <th>6</th>\n",
              "      <td>0.006</td>\n",
              "      <td>0.804</td>\n",
              "      <td>0.829</td>\n",
              "      <td>0.025</td>\n",
              "    </tr>\n",
              "    <tr>\n",
              "      <th>10</th>\n",
              "      <td>0.01</td>\n",
              "      <td>0.798</td>\n",
              "      <td>0.817</td>\n",
              "      <td>0.018</td>\n",
              "    </tr>\n",
              "    <tr>\n",
              "      <th>39</th>\n",
              "      <td>0.039</td>\n",
              "      <td>0.775</td>\n",
              "      <td>0.790</td>\n",
              "      <td>0.015</td>\n",
              "    </tr>\n",
              "    <tr>\n",
              "      <th>40</th>\n",
              "      <td>0.04</td>\n",
              "      <td>0.775</td>\n",
              "      <td>0.790</td>\n",
              "      <td>0.015</td>\n",
              "    </tr>\n",
              "    <tr>\n",
              "      <th>41</th>\n",
              "      <td>0.041</td>\n",
              "      <td>0.775</td>\n",
              "      <td>0.790</td>\n",
              "      <td>0.015</td>\n",
              "    </tr>\n",
              "    <tr>\n",
              "      <th>37</th>\n",
              "      <td>0.037</td>\n",
              "      <td>0.775</td>\n",
              "      <td>0.790</td>\n",
              "      <td>0.015</td>\n",
              "    </tr>\n",
              "    <tr>\n",
              "      <th>38</th>\n",
              "      <td>0.038</td>\n",
              "      <td>0.775</td>\n",
              "      <td>0.790</td>\n",
              "      <td>0.015</td>\n",
              "    </tr>\n",
              "    <tr>\n",
              "      <th>7</th>\n",
              "      <td>0.007</td>\n",
              "      <td>0.811</td>\n",
              "      <td>0.826</td>\n",
              "      <td>0.015</td>\n",
              "    </tr>\n",
              "    <tr>\n",
              "      <th>140</th>\n",
              "      <td>0.14</td>\n",
              "      <td>0.657</td>\n",
              "      <td>0.671</td>\n",
              "      <td>0.014</td>\n",
              "    </tr>\n",
              "    <tr>\n",
              "      <th>139</th>\n",
              "      <td>0.139</td>\n",
              "      <td>0.657</td>\n",
              "      <td>0.671</td>\n",
              "      <td>0.014</td>\n",
              "    </tr>\n",
              "    <tr>\n",
              "      <th>42</th>\n",
              "      <td>0.042</td>\n",
              "      <td>0.773</td>\n",
              "      <td>0.787</td>\n",
              "      <td>0.014</td>\n",
              "    </tr>\n",
              "    <tr>\n",
              "      <th>43</th>\n",
              "      <td>0.043</td>\n",
              "      <td>0.773</td>\n",
              "      <td>0.787</td>\n",
              "      <td>0.014</td>\n",
              "    </tr>\n",
              "    <tr>\n",
              "      <th>44</th>\n",
              "      <td>0.044</td>\n",
              "      <td>0.773</td>\n",
              "      <td>0.787</td>\n",
              "      <td>0.014</td>\n",
              "    </tr>\n",
              "    <tr>\n",
              "      <th>136</th>\n",
              "      <td>0.136</td>\n",
              "      <td>0.695</td>\n",
              "      <td>0.708</td>\n",
              "      <td>0.014</td>\n",
              "    </tr>\n",
              "  </tbody>\n",
              "</table>\n",
              "</div>\n",
              "      <button class=\"colab-df-convert\" onclick=\"convertToInteractive('df-5af76a51-2a81-4d48-8046-cc28d5100d94')\"\n",
              "              title=\"Convert this dataframe to an interactive table.\"\n",
              "              style=\"display:none;\">\n",
              "        \n",
              "  <svg xmlns=\"http://www.w3.org/2000/svg\" height=\"24px\"viewBox=\"0 0 24 24\"\n",
              "       width=\"24px\">\n",
              "    <path d=\"M0 0h24v24H0V0z\" fill=\"none\"/>\n",
              "    <path d=\"M18.56 5.44l.94 2.06.94-2.06 2.06-.94-2.06-.94-.94-2.06-.94 2.06-2.06.94zm-11 1L8.5 8.5l.94-2.06 2.06-.94-2.06-.94L8.5 2.5l-.94 2.06-2.06.94zm10 10l.94 2.06.94-2.06 2.06-.94-2.06-.94-.94-2.06-.94 2.06-2.06.94z\"/><path d=\"M17.41 7.96l-1.37-1.37c-.4-.4-.92-.59-1.43-.59-.52 0-1.04.2-1.43.59L10.3 9.45l-7.72 7.72c-.78.78-.78 2.05 0 2.83L4 21.41c.39.39.9.59 1.41.59.51 0 1.02-.2 1.41-.59l7.78-7.78 2.81-2.81c.8-.78.8-2.07 0-2.86zM5.41 20L4 18.59l7.72-7.72 1.47 1.35L5.41 20z\"/>\n",
              "  </svg>\n",
              "      </button>\n",
              "      \n",
              "  <style>\n",
              "    .colab-df-container {\n",
              "      display:flex;\n",
              "      flex-wrap:wrap;\n",
              "      gap: 12px;\n",
              "    }\n",
              "\n",
              "    .colab-df-convert {\n",
              "      background-color: #E8F0FE;\n",
              "      border: none;\n",
              "      border-radius: 50%;\n",
              "      cursor: pointer;\n",
              "      display: none;\n",
              "      fill: #1967D2;\n",
              "      height: 32px;\n",
              "      padding: 0 0 0 0;\n",
              "      width: 32px;\n",
              "    }\n",
              "\n",
              "    .colab-df-convert:hover {\n",
              "      background-color: #E2EBFA;\n",
              "      box-shadow: 0px 1px 2px rgba(60, 64, 67, 0.3), 0px 1px 3px 1px rgba(60, 64, 67, 0.15);\n",
              "      fill: #174EA6;\n",
              "    }\n",
              "\n",
              "    [theme=dark] .colab-df-convert {\n",
              "      background-color: #3B4455;\n",
              "      fill: #D2E3FC;\n",
              "    }\n",
              "\n",
              "    [theme=dark] .colab-df-convert:hover {\n",
              "      background-color: #434B5C;\n",
              "      box-shadow: 0px 1px 3px 1px rgba(0, 0, 0, 0.15);\n",
              "      filter: drop-shadow(0px 1px 2px rgba(0, 0, 0, 0.3));\n",
              "      fill: #FFFFFF;\n",
              "    }\n",
              "  </style>\n",
              "\n",
              "      <script>\n",
              "        const buttonEl =\n",
              "          document.querySelector('#df-5af76a51-2a81-4d48-8046-cc28d5100d94 button.colab-df-convert');\n",
              "        buttonEl.style.display =\n",
              "          google.colab.kernel.accessAllowed ? 'block' : 'none';\n",
              "\n",
              "        async function convertToInteractive(key) {\n",
              "          const element = document.querySelector('#df-5af76a51-2a81-4d48-8046-cc28d5100d94');\n",
              "          const dataTable =\n",
              "            await google.colab.kernel.invokeFunction('convertToInteractive',\n",
              "                                                     [key], {});\n",
              "          if (!dataTable) return;\n",
              "\n",
              "          const docLinkHtml = 'Like what you see? Visit the ' +\n",
              "            '<a target=\"_blank\" href=https://colab.research.google.com/notebooks/data_table.ipynb>data table notebook</a>'\n",
              "            + ' to learn more about interactive tables.';\n",
              "          element.innerHTML = '';\n",
              "          dataTable['output_type'] = 'display_data';\n",
              "          await google.colab.output.renderOutput(dataTable, element);\n",
              "          const docLink = document.createElement('div');\n",
              "          docLink.innerHTML = docLinkHtml;\n",
              "          element.appendChild(docLink);\n",
              "        }\n",
              "      </script>\n",
              "    </div>\n",
              "  </div>\n",
              "  "
            ]
          },
          "metadata": {},
          "execution_count": 116
        }
      ]
    },
    {
      "cell_type": "code",
      "source": [
        "plt.figure(figsize=(7,7))\n",
        "plt.plot( 'param_ccp_alpha', 'mean_train_score', data=grid_search_df, marker='', color='blue', linewidth=2, label=\"train\")\n",
        "plt.plot( 'param_ccp_alpha', 'mean_test_score', data=grid_search_df, marker='', color='olive', linewidth=2, label=\"test\")\n",
        "\n",
        "\n",
        "plt.legend()\n",
        "plt.title(\"train vs test by ccp_alpha\")\n",
        "plt.show()"
      ],
      "metadata": {
        "colab": {
          "base_uri": "https://localhost:8080/",
          "height": 444
        },
        "id": "CNbdw39adqqa",
        "outputId": "a60cc9d5-906e-4d8e-e800-2717014c4921"
      },
      "execution_count": null,
      "outputs": [
        {
          "output_type": "display_data",
          "data": {
            "text/plain": [
              "<Figure size 504x504 with 1 Axes>"
            ],
            "image/png": "[encoded data removed]"
          },
          "metadata": {
            "needs_background": "light"
          }
        }
      ]
    },
    {
      "cell_type": "code",
      "metadata": {
        "id": "sy1PiTaSZINa",
        "colab": {
          "base_uri": "https://localhost:8080/",
          "height": 444
        },
        "outputId": "024b19f0-af35-417d-83b3-0fd2ff982038"
      },
      "source": [
        "plt.figure(figsize=(7,7))\n",
        "plt.plot( 'param_ccp_alpha', 'mean_train_score', data=grid_search_df.head(60), marker='', color='blue', linewidth=2, label=\"train\")\n",
        "plt.plot( 'param_ccp_alpha', 'mean_test_score', data=grid_search_df.head(60), marker='', color='olive', linewidth=2, label=\"test\")\n",
        "\n",
        "plt.legend()\n",
        "plt.title(\"train vs test by ccp_alpha\")\n",
        "plt.show()"
      ],
      "execution_count": null,
      "outputs": [
        {
          "output_type": "display_data",
          "data": {
            "text/plain": [
              "<Figure size 504x504 with 1 Axes>"
            ],
            "image/png": "[encoded data removed]"
          },
          "metadata": {
            "needs_background": "light"
          }
        }
      ]
    },
    {
      "cell_type": "markdown",
      "metadata": {
        "id": "esBJ4s2WXkMi"
      },
      "source": [
        "visualize the grid search rank by C\n",
        "in this case lower is better (rank 1 is the best rank)"
      ]
    },
    {
      "cell_type": "code",
      "metadata": {
        "id": "Xfr1x2Da8yS9",
        "colab": {
          "base_uri": "https://localhost:8080/",
          "height": 444
        },
        "outputId": "d290d73a-791b-421f-f796-3e111a140848"
      },
      "source": [
        "plt.figure(figsize=(7,7))\n",
        "plt.plot( 'param_ccp_alpha', 'mean_train_score', data=grid_search_df.head(30), marker='', color='blue', linewidth=2, label=\"train\")\n",
        "plt.plot( 'param_ccp_alpha', 'mean_test_score', data=grid_search_df.head(30), marker='', color='olive', linewidth=2, label=\"test\")\n",
        "\n",
        "plt.legend()\n",
        "plt.title(\"train vs test by ccp_alpha\")\n",
        "plt.show()"
      ],
      "execution_count": null,
      "outputs": [
        {
          "output_type": "display_data",
          "data": {
            "text/plain": [
              "<Figure size 504x504 with 1 Axes>"
            ],
            "image/png": "[encoded data removed]"
          },
          "metadata": {
            "needs_background": "light"
          }
        }
      ]
    },
    {
      "cell_type": "code",
      "source": [
        "plt.figure(figsize=(7,7))\n",
        "plt.plot( 'param_ccp_alpha', 'mean_train_score', data=grid_search_df.head(10), marker='', color='blue', linewidth=2, label=\"train\")\n",
        "plt.plot( 'param_ccp_alpha', 'mean_test_score', data=grid_search_df.head(10), marker='', color='olive', linewidth=2, label=\"test\")\n",
        "\n",
        "plt.legend()\n",
        "plt.title(\"train vs test by ccp_alpha\")\n",
        "plt.show()"
      ],
      "metadata": {
        "colab": {
          "base_uri": "https://localhost:8080/",
          "height": 444
        },
        "id": "E-rndaAc_y-K",
        "outputId": "f7a097ec-0906-47bc-836a-6b2170f5574a"
      },
      "execution_count": null,
      "outputs": [
        {
          "output_type": "display_data",
          "data": {
            "text/plain": [
              "<Figure size 504x504 with 1 Axes>"
            ],
            "image/png": "[encoded data removed]"
          },
          "metadata": {
            "needs_background": "light"
          }
        }
      ]
    },
    {
      "cell_type": "markdown",
      "source": [
        "this next section takes the difference by row, meaning is our model improving or declining in performance compared to how it did with a different ccp_alpa value. if the model improved we would see a negative value (ie ccp_alpha = 0.011 and .80 vs ccp_alpha = 0.012 and .82 then the difference would be -0.02 (an improvement of 2%. "
      ],
      "metadata": {
        "id": "36fLoxF9f_13"
      }
    },
    {
      "cell_type": "code",
      "source": [
        "difference = grid_search_df.diff(periods=2)\n",
        "difference['param_ccp_alpha'] = grid_search_df['param_ccp_alpha'] # remove the diff\n",
        "\n",
        "plt.figure(figsize=(7,7))\n",
        "plt.plot( 'param_ccp_alpha', 'mean_train_score', data=difference.head(50), marker='', color='blue', linewidth=2, label=\"train\")\n",
        "plt.plot( 'param_ccp_alpha', 'mean_test_score', data=difference.head(50), marker='', color='olive', linewidth=2, label=\"test\")\n",
        "\n",
        "plt.legend()\n",
        "plt.title(\"train vs test by ccp_alpha\")\n",
        "plt.show()\n"
      ],
      "metadata": {
        "colab": {
          "base_uri": "https://localhost:8080/",
          "height": 444
        },
        "id": "t68iTNlHAa9Y",
        "outputId": "7fe107f7-658f-4270-8052-354d76bd59d4"
      },
      "execution_count": null,
      "outputs": [
        {
          "output_type": "display_data",
          "data": {
            "text/plain": [
              "<Figure size 504x504 with 1 Axes>"
            ],
            "image/png": "[encoded data removed]"
          },
          "metadata": {
            "needs_background": "light"
          }
        }
      ]
    },
    {
      "cell_type": "code",
      "source": [
        "difference.head(40)"
      ],
      "metadata": {
        "colab": {
          "base_uri": "https://localhost:8080/",
          "height": 1000
        },
        "id": "ieb-Zzp7_0Y-",
        "outputId": "ee7d4e6b-0cd4-4c5c-ae55-9c8e4fa24e93"
      },
      "execution_count": null,
      "outputs": [
        {
          "output_type": "execute_result",
          "data": {
            "text/plain": [
              "   param_ccp_alpha  mean_test_score  mean_train_score  train_minus_test\n",
              "0              NaN              NaN               NaN               NaN\n",
              "1              NaN              NaN               NaN               NaN\n",
              "2            0.002            0.031            -0.063            -0.093\n",
              "3            0.002            0.051            -0.116            -0.167\n",
              "4            0.002            0.019            -0.078            -0.098\n",
              "5            0.002           -0.009            -0.030            -0.022\n",
              "6            0.002           -0.004            -0.018            -0.014\n",
              "7            0.002            0.010            -0.012            -0.021\n",
              "8            0.002            0.007            -0.010            -0.017\n",
              "9            0.002            0.000            -0.007            -0.007\n",
              "10           0.002           -0.013            -0.002             0.010\n",
              "11           0.002           -0.008            -0.006             0.002\n",
              "12           0.002            0.005            -0.004            -0.008\n",
              "13           0.002            0.000            -0.003            -0.003\n",
              "14           0.002           -0.009            -0.007             0.002\n",
              "15           0.002           -0.009            -0.004             0.005\n",
              "16           0.002            0.000            -0.002            -0.002\n",
              "17           0.002            0.000            -0.002            -0.002\n",
              "18           0.002            0.000            -0.005            -0.005\n",
              "19           0.002           -0.003            -0.010            -0.007\n",
              "20           0.002           -0.003            -0.005            -0.002\n",
              "21           0.002            0.000            -0.003            -0.003\n",
              "22           0.002            0.000            -0.003            -0.003\n",
              "23           0.002            0.000             0.000             0.000\n",
              "24           0.002            0.000             0.000             0.000\n",
              "25           0.002            0.000             0.000             0.000\n",
              "26           0.002            0.000             0.000             0.000\n",
              "27           0.002            0.000             0.000             0.000\n",
              "28           0.002            0.000             0.000             0.000\n",
              "29           0.002            0.000             0.000             0.000\n",
              "30           0.002            0.000             0.000             0.000\n",
              "31           0.002            0.000             0.000             0.000\n",
              "32           0.002            0.000             0.000             0.000\n",
              "33           0.002            0.000             0.000             0.000\n",
              "34           0.002            0.000             0.000             0.000\n",
              "35           0.002            0.000             0.000             0.000\n",
              "36           0.002           -0.008             0.000             0.008\n",
              "37           0.002           -0.016            -0.001             0.015\n",
              "38           0.002           -0.008            -0.001             0.007\n",
              "39           0.002            0.000             0.000             0.000"
            ],
            "text/html": [
              "\n",
              "  <div id=\"df-9d175ccb-46ed-48ce-af14-e4b80597fccb\">\n",
              "    <div class=\"colab-df-container\">\n",
              "      <div>\n",
              "<style scoped>\n",
              "    .dataframe tbody tr th:only-of-type {\n",
              "        vertical-align: middle;\n",
              "    }\n",
              "\n",
              "    .dataframe tbody tr th {\n",
              "        vertical-align: top;\n",
              "    }\n",
              "\n",
              "    .dataframe thead th {\n",
              "        text-align: right;\n",
              "    }\n",
              "</style>\n",
              "<table border=\"1\" class=\"dataframe\">\n",
              "  <thead>\n",
              "    <tr style=\"text-align: right;\">\n",
              "      <th></th>\n",
              "      <th>param_ccp_alpha</th>\n",
              "      <th>mean_test_score</th>\n",
              "      <th>mean_train_score</th>\n",
              "      <th>train_minus_test</th>\n",
              "    </tr>\n",
              "  </thead>\n",
              "  <tbody>\n",
              "    <tr>\n",
              "      <th>0</th>\n",
              "      <td>NaN</td>\n",
              "      <td>NaN</td>\n",
              "      <td>NaN</td>\n",
              "      <td>NaN</td>\n",
              "    </tr>\n",
              "    <tr>\n",
              "      <th>1</th>\n",
              "      <td>NaN</td>\n",
              "      <td>NaN</td>\n",
              "      <td>NaN</td>\n",
              "      <td>NaN</td>\n",
              "    </tr>\n",
              "    <tr>\n",
              "      <th>2</th>\n",
              "      <td>0.002</td>\n",
              "      <td>0.031</td>\n",
              "      <td>-0.063</td>\n",
              "      <td>-0.093</td>\n",
              "    </tr>\n",
              "    <tr>\n",
              "      <th>3</th>\n",
              "      <td>0.002</td>\n",
              "      <td>0.051</td>\n",
              "      <td>-0.116</td>\n",
              "      <td>-0.167</td>\n",
              "    </tr>\n",
              "    <tr>\n",
              "      <th>4</th>\n",
              "      <td>0.002</td>\n",
              "      <td>0.019</td>\n",
              "      <td>-0.078</td>\n",
              "      <td>-0.098</td>\n",
              "    </tr>\n",
              "    <tr>\n",
              "      <th>5</th>\n",
              "      <td>0.002</td>\n",
              "      <td>-0.009</td>\n",
              "      <td>-0.030</td>\n",
              "      <td>-0.022</td>\n",
              "    </tr>\n",
              "    <tr>\n",
              "      <th>6</th>\n",
              "      <td>0.002</td>\n",
              "      <td>-0.004</td>\n",
              "      <td>-0.018</td>\n",
              "      <td>-0.014</td>\n",
              "    </tr>\n",
              "    <tr>\n",
              "      <th>7</th>\n",
              "      <td>0.002</td>\n",
              "      <td>0.010</td>\n",
              "      <td>-0.012</td>\n",
              "      <td>-0.021</td>\n",
              "    </tr>\n",
              "    <tr>\n",
              "      <th>8</th>\n",
              "      <td>0.002</td>\n",
              "      <td>0.007</td>\n",
              "      <td>-0.010</td>\n",
              "      <td>-0.017</td>\n",
              "    </tr>\n",
              "    <tr>\n",
              "      <th>9</th>\n",
              "      <td>0.002</td>\n",
              "      <td>0.000</td>\n",
              "      <td>-0.007</td>\n",
              "      <td>-0.007</td>\n",
              "    </tr>\n",
              "    <tr>\n",
              "      <th>10</th>\n",
              "      <td>0.002</td>\n",
              "      <td>-0.013</td>\n",
              "      <td>-0.002</td>\n",
              "      <td>0.010</td>\n",
              "    </tr>\n",
              "    <tr>\n",
              "      <th>11</th>\n",
              "      <td>0.002</td>\n",
              "      <td>-0.008</td>\n",
              "      <td>-0.006</td>\n",
              "      <td>0.002</td>\n",
              "    </tr>\n",
              "    <tr>\n",
              "      <th>12</th>\n",
              "      <td>0.002</td>\n",
              "      <td>0.005</td>\n",
              "      <td>-0.004</td>\n",
              "      <td>-0.008</td>\n",
              "    </tr>\n",
              "    <tr>\n",
              "      <th>13</th>\n",
              "      <td>0.002</td>\n",
              "      <td>0.000</td>\n",
              "      <td>-0.003</td>\n",
              "      <td>-0.003</td>\n",
              "    </tr>\n",
              "    <tr>\n",
              "      <th>14</th>\n",
              "      <td>0.002</td>\n",
              "      <td>-0.009</td>\n",
              "      <td>-0.007</td>\n",
              "      <td>0.002</td>\n",
              "    </tr>\n",
              "    <tr>\n",
              "      <th>15</th>\n",
              "      <td>0.002</td>\n",
              "      <td>-0.009</td>\n",
              "      <td>-0.004</td>\n",
              "      <td>0.005</td>\n",
              "    </tr>\n",
              "    <tr>\n",
              "      <th>16</th>\n",
              "      <td>0.002</td>\n",
              "      <td>0.000</td>\n",
              "      <td>-0.002</td>\n",
              "      <td>-0.002</td>\n",
              "    </tr>\n",
              "    <tr>\n",
              "      <th>17</th>\n",
              "      <td>0.002</td>\n",
              "      <td>0.000</td>\n",
              "      <td>-0.002</td>\n",
              "      <td>-0.002</td>\n",
              "    </tr>\n",
              "    <tr>\n",
              "      <th>18</th>\n",
              "      <td>0.002</td>\n",
              "      <td>0.000</td>\n",
              "      <td>-0.005</td>\n",
              "      <td>-0.005</td>\n",
              "    </tr>\n",
              "    <tr>\n",
              "      <th>19</th>\n",
              "      <td>0.002</td>\n",
              "      <td>-0.003</td>\n",
              "      <td>-0.010</td>\n",
              "      <td>-0.007</td>\n",
              "    </tr>\n",
              "    <tr>\n",
              "      <th>20</th>\n",
              "      <td>0.002</td>\n",
              "      <td>-0.003</td>\n",
              "      <td>-0.005</td>\n",
              "      <td>-0.002</td>\n",
              "    </tr>\n",
              "    <tr>\n",
              "      <th>21</th>\n",
              "      <td>0.002</td>\n",
              "      <td>0.000</td>\n",
              "      <td>-0.003</td>\n",
              "      <td>-0.003</td>\n",
              "    </tr>\n",
              "    <tr>\n",
              "      <th>22</th>\n",
              "      <td>0.002</td>\n",
              "      <td>0.000</td>\n",
              "      <td>-0.003</td>\n",
              "      <td>-0.003</td>\n",
              "    </tr>\n",
              "    <tr>\n",
              "      <th>23</th>\n",
              "      <td>0.002</td>\n",
              "      <td>0.000</td>\n",
              "      <td>0.000</td>\n",
              "      <td>0.000</td>\n",
              "    </tr>\n",
              "    <tr>\n",
              "      <th>24</th>\n",
              "      <td>0.002</td>\n",
              "      <td>0.000</td>\n",
              "      <td>0.000</td>\n",
              "      <td>0.000</td>\n",
              "    </tr>\n",
              "    <tr>\n",
              "      <th>25</th>\n",
              "      <td>0.002</td>\n",
              "      <td>0.000</td>\n",
              "      <td>0.000</td>\n",
              "      <td>0.000</td>\n",
              "    </tr>\n",
              "    <tr>\n",
              "      <th>26</th>\n",
              "      <td>0.002</td>\n",
              "      <td>0.000</td>\n",
              "      <td>0.000</td>\n",
              "      <td>0.000</td>\n",
              "    </tr>\n",
              "    <tr>\n",
              "      <th>27</th>\n",
              "      <td>0.002</td>\n",
              "      <td>0.000</td>\n",
              "      <td>0.000</td>\n",
              "      <td>0.000</td>\n",
              "    </tr>\n",
              "    <tr>\n",
              "      <th>28</th>\n",
              "      <td>0.002</td>\n",
              "      <td>0.000</td>\n",
              "      <td>0.000</td>\n",
              "      <td>0.000</td>\n",
              "    </tr>\n",
              "    <tr>\n",
              "      <th>29</th>\n",
              "      <td>0.002</td>\n",
              "      <td>0.000</td>\n",
              "      <td>0.000</td>\n",
              "      <td>0.000</td>\n",
              "    </tr>\n",
              "    <tr>\n",
              "      <th>30</th>\n",
              "      <td>0.002</td>\n",
              "      <td>0.000</td>\n",
              "      <td>0.000</td>\n",
              "      <td>0.000</td>\n",
              "    </tr>\n",
              "    <tr>\n",
              "      <th>31</th>\n",
              "      <td>0.002</td>\n",
              "      <td>0.000</td>\n",
              "      <td>0.000</td>\n",
              "      <td>0.000</td>\n",
              "    </tr>\n",
              "    <tr>\n",
              "      <th>32</th>\n",
              "      <td>0.002</td>\n",
              "      <td>0.000</td>\n",
              "      <td>0.000</td>\n",
              "      <td>0.000</td>\n",
              "    </tr>\n",
              "    <tr>\n",
              "      <th>33</th>\n",
              "      <td>0.002</td>\n",
              "      <td>0.000</td>\n",
              "      <td>0.000</td>\n",
              "      <td>0.000</td>\n",
              "    </tr>\n",
              "    <tr>\n",
              "      <th>34</th>\n",
              "      <td>0.002</td>\n",
              "      <td>0.000</td>\n",
              "      <td>0.000</td>\n",
              "      <td>0.000</td>\n",
              "    </tr>\n",
              "    <tr>\n",
              "      <th>35</th>\n",
              "      <td>0.002</td>\n",
              "      <td>0.000</td>\n",
              "      <td>0.000</td>\n",
              "      <td>0.000</td>\n",
              "    </tr>\n",
              "    <tr>\n",
              "      <th>36</th>\n",
              "      <td>0.002</td>\n",
              "      <td>-0.008</td>\n",
              "      <td>0.000</td>\n",
              "      <td>0.008</td>\n",
              "    </tr>\n",
              "    <tr>\n",
              "      <th>37</th>\n",
              "      <td>0.002</td>\n",
              "      <td>-0.016</td>\n",
              "      <td>-0.001</td>\n",
              "      <td>0.015</td>\n",
              "    </tr>\n",
              "    <tr>\n",
              "      <th>38</th>\n",
              "      <td>0.002</td>\n",
              "      <td>-0.008</td>\n",
              "      <td>-0.001</td>\n",
              "      <td>0.007</td>\n",
              "    </tr>\n",
              "    <tr>\n",
              "      <th>39</th>\n",
              "      <td>0.002</td>\n",
              "      <td>0.000</td>\n",
              "      <td>0.000</td>\n",
              "      <td>0.000</td>\n",
              "    </tr>\n",
              "  </tbody>\n",
              "</table>\n",
              "</div>\n",
              "      <button class=\"colab-df-convert\" onclick=\"convertToInteractive('df-9d175ccb-46ed-48ce-af14-e4b80597fccb')\"\n",
              "              title=\"Convert this dataframe to an interactive table.\"\n",
              "              style=\"display:none;\">\n",
              "        \n",
              "  <svg xmlns=\"http://www.w3.org/2000/svg\" height=\"24px\"viewBox=\"0 0 24 24\"\n",
              "       width=\"24px\">\n",
              "    <path d=\"M0 0h24v24H0V0z\" fill=\"none\"/>\n",
              "    <path d=\"M18.56 5.44l.94 2.06.94-2.06 2.06-.94-2.06-.94-.94-2.06-.94 2.06-2.06.94zm-11 1L8.5 8.5l.94-2.06 2.06-.94-2.06-.94L8.5 2.5l-.94 2.06-2.06.94zm10 10l.94 2.06.94-2.06 2.06-.94-2.06-.94-.94-2.06-.94 2.06-2.06.94z\"/><path d=\"M17.41 7.96l-1.37-1.37c-.4-.4-.92-.59-1.43-.59-.52 0-1.04.2-1.43.59L10.3 9.45l-7.72 7.72c-.78.78-.78 2.05 0 2.83L4 21.41c.39.39.9.59 1.41.59.51 0 1.02-.2 1.41-.59l7.78-7.78 2.81-2.81c.8-.78.8-2.07 0-2.86zM5.41 20L4 18.59l7.72-7.72 1.47 1.35L5.41 20z\"/>\n",
              "  </svg>\n",
              "      </button>\n",
              "      \n",
              "  <style>\n",
              "    .colab-df-container {\n",
              "      display:flex;\n",
              "      flex-wrap:wrap;\n",
              "      gap: 12px;\n",
              "    }\n",
              "\n",
              "    .colab-df-convert {\n",
              "      background-color: #E8F0FE;\n",
              "      border: none;\n",
              "      border-radius: 50%;\n",
              "      cursor: pointer;\n",
              "      display: none;\n",
              "      fill: #1967D2;\n",
              "      height: 32px;\n",
              "      padding: 0 0 0 0;\n",
              "      width: 32px;\n",
              "    }\n",
              "\n",
              "    .colab-df-convert:hover {\n",
              "      background-color: #E2EBFA;\n",
              "      box-shadow: 0px 1px 2px rgba(60, 64, 67, 0.3), 0px 1px 3px 1px rgba(60, 64, 67, 0.15);\n",
              "      fill: #174EA6;\n",
              "    }\n",
              "\n",
              "    [theme=dark] .colab-df-convert {\n",
              "      background-color: #3B4455;\n",
              "      fill: #D2E3FC;\n",
              "    }\n",
              "\n",
              "    [theme=dark] .colab-df-convert:hover {\n",
              "      background-color: #434B5C;\n",
              "      box-shadow: 0px 1px 3px 1px rgba(0, 0, 0, 0.15);\n",
              "      filter: drop-shadow(0px 1px 2px rgba(0, 0, 0, 0.3));\n",
              "      fill: #FFFFFF;\n",
              "    }\n",
              "  </style>\n",
              "\n",
              "      <script>\n",
              "        const buttonEl =\n",
              "          document.querySelector('#df-9d175ccb-46ed-48ce-af14-e4b80597fccb button.colab-df-convert');\n",
              "        buttonEl.style.display =\n",
              "          google.colab.kernel.accessAllowed ? 'block' : 'none';\n",
              "\n",
              "        async function convertToInteractive(key) {\n",
              "          const element = document.querySelector('#df-9d175ccb-46ed-48ce-af14-e4b80597fccb');\n",
              "          const dataTable =\n",
              "            await google.colab.kernel.invokeFunction('convertToInteractive',\n",
              "                                                     [key], {});\n",
              "          if (!dataTable) return;\n",
              "\n",
              "          const docLinkHtml = 'Like what you see? Visit the ' +\n",
              "            '<a target=\"_blank\" href=https://colab.research.google.com/notebooks/data_table.ipynb>data table notebook</a>'\n",
              "            + ' to learn more about interactive tables.';\n",
              "          element.innerHTML = '';\n",
              "          dataTable['output_type'] = 'display_data';\n",
              "          await google.colab.output.renderOutput(dataTable, element);\n",
              "          const docLink = document.createElement('div');\n",
              "          docLink.innerHTML = docLinkHtml;\n",
              "          element.appendChild(docLink);\n",
              "        }\n",
              "      </script>\n",
              "    </div>\n",
              "  </div>\n",
              "  "
            ]
          },
          "metadata": {},
          "execution_count": 133
        }
      ]
    },
    {
      "cell_type": "code",
      "source": [],
      "metadata": {
        "id": "ABvzVkLdAftn"
      },
      "execution_count": null,
      "outputs": []
    }
  ]
}